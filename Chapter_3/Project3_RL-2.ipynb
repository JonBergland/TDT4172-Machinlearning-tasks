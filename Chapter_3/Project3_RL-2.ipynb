{
    "cells": [
        {
            "cell_type": "markdown",
            "metadata": {
                "id": "Bb6euaGTtpwB",
                "cell_id": "539eb6a663f148c8b3648d4c30841fb9",
                "deepnote_cell_type": "markdown"
            },
            "source": "# **Project 3 - Reinforcement Learning**\n\n\n\n\n",
            "block_group": "a4d0484f7bd943989a5c1424ad6013be"
        },
        {
            "cell_type": "markdown",
            "metadata": {
                "id": "8ECxNoBGPkGr",
                "cell_id": "1aac8b7f7768453fa7dd37c8ca8280c1",
                "deepnote_cell_type": "markdown"
            },
            "source": "## 🌞 Mission: Find a secret Location in Trondheim where SkyNets servers are located",
            "block_group": "2b2e429ece584858b70fefb1ecf112c0"
        },
        {
            "cell_type": "markdown",
            "metadata": {
                "id": "daDMCdxyPkGs",
                "cell_id": "80824d25073c4a33ab70d21d8172f113",
                "deepnote_cell_type": "markdown"
            },
            "source": "📊 **High-level goal:**\n\nTrain an agent (the “learner”) to interact with given environment and learn from it, so it can maximize its cumulative rewards over time.\n\n\n\n\n*   **Environment:**\n     *   The environment **is already created** and set up for you with the help of\n\"gymnasium\" library.\n     *   The agent is interacting with a simulated environment, which has states, accepts actions, and returns rewards. The environment resets at the beginning of each episode, and the agent takes actions within it, receiving feedback in the form of rewards.\n*   **Q-table:**\n     *   This table stores information about the \"quality\" of actions in different states.\n     *   The goal of the agent is to update the Q-table over time to estimate the value of taking different actions in various states.\n     *   You will initialize and learn Q-table in this project.\n",
            "block_group": "863ec13f83f44c6fbad47a9a245cb7ce"
        },
        {
            "cell_type": "markdown",
            "metadata": {
                "id": "URR74x6gPkGs",
                "cell_id": "ac7567d6c1c245519be2d901ef2dd080",
                "deepnote_cell_type": "markdown"
            },
            "source": "## 📮 Imports:",
            "block_group": "bfe4b5b079e84d3db5fbabce13db1c6f"
        },
        {
            "cell_type": "code",
            "metadata": {
                "id": "NtDaL3aL9emb",
                "source_hash": "c956d0be",
                "execution_start": 1761731870490,
                "execution_millis": 5958,
                "execution_context_id": "25918dda-8400-4096-8584-354a0a1a97e1",
                "cell_id": "93330a103fdb47278514898b9b645446",
                "deepnote_cell_type": "code"
            },
            "source": "%pip install gymnasium -- quiet\n%pip install imageio -- quiet\n# import libraries\nimport numpy as np\nimport matplotlib.pyplot as plt\nimport imageio.v3 as iio\nimport random\nimport os\n\n# note: make sure to install necessary libraries like imageio, gymnasium etc.\n",
            "block_group": "ff126660aefa49cea03173a2feb04604",
            "execution_count": 1,
            "outputs": [
                {
                    "name": "stdout",
                    "text": "Requirement already satisfied: gymnasium in /root/venv/lib/python3.10/site-packages (1.2.1)\nRequirement already satisfied: farama-notifications>=0.0.1 in /root/venv/lib/python3.10/site-packages (from gymnasium) (0.0.4)\nRequirement already satisfied: cloudpickle>=1.2.0 in /root/venv/lib/python3.10/site-packages (from gymnasium) (2.2.1)\nRequirement already satisfied: numpy>=1.21.0 in /root/venv/lib/python3.10/site-packages (from gymnasium) (1.25.2)\nRequirement already satisfied: typing-extensions>=4.3.0 in /root/venv/lib/python3.10/site-packages (from gymnasium) (4.15.0)\n\n\u001b[1m[\u001b[0m\u001b[34;49mnotice\u001b[0m\u001b[1;39;49m]\u001b[0m\u001b[39;49m A new release of pip is available: \u001b[0m\u001b[31;49m23.0.1\u001b[0m\u001b[39;49m -> \u001b[0m\u001b[32;49m25.3\u001b[0m\n\u001b[1m[\u001b[0m\u001b[34;49mnotice\u001b[0m\u001b[1;39;49m]\u001b[0m\u001b[39;49m To update, run: \u001b[0m\u001b[32;49mpip install --upgrade pip\u001b[0m\nNote: you may need to restart the kernel to use updated packages.\nRequirement already satisfied: imageio in /root/venv/lib/python3.10/site-packages (2.37.0)\nRequirement already satisfied: pillow>=8.3.2 in /root/venv/lib/python3.10/site-packages (from imageio) (11.3.0)\nRequirement already satisfied: numpy in /root/venv/lib/python3.10/site-packages (from imageio) (1.25.2)\n\n\u001b[1m[\u001b[0m\u001b[34;49mnotice\u001b[0m\u001b[1;39;49m]\u001b[0m\u001b[39;49m A new release of pip is available: \u001b[0m\u001b[31;49m23.0.1\u001b[0m\u001b[39;49m -> \u001b[0m\u001b[32;49m25.3\u001b[0m\n\u001b[1m[\u001b[0m\u001b[34;49mnotice\u001b[0m\u001b[1;39;49m]\u001b[0m\u001b[39;49m To update, run: \u001b[0m\u001b[32;49mpip install --upgrade pip\u001b[0m\nNote: you may need to restart the kernel to use updated packages.\n",
                    "output_type": "stream"
                }
            ],
            "outputs_reference": "s3:deepnote-cell-outputs-production/31599b3b-fe92-4bd0-bf20-1d4a564151d5",
            "content_dependencies": null
        },
        {
            "cell_type": "code",
            "metadata": {
                "id": "Jq1P8fu_itVF",
                "source_hash": "bca8a597",
                "execution_start": 1761731876494,
                "execution_millis": 0,
                "execution_context_id": "25918dda-8400-4096-8584-354a0a1a97e1",
                "cell_id": "8b58823a51bd4fed92b5a1a5571c2463",
                "deepnote_cell_type": "code"
            },
            "source": "# import gymnasium stuff\nimport gymnasium as gym\nfrom gymnasium import error, spaces, utils\nfrom gymnasium.utils import seeding\nfrom gymnasium.spaces import Discrete, MultiDiscrete",
            "block_group": "810f309881e1443486414ff9a2fca441",
            "execution_count": 2,
            "outputs": [],
            "outputs_reference": null,
            "content_dependencies": null
        },
        {
            "cell_type": "markdown",
            "metadata": {
                "id": "4UCkLhnL5hik",
                "cell_id": "4be17433bcb14d9ebf8d537884f5b065",
                "deepnote_cell_type": "markdown"
            },
            "source": "### Utility functions are provided for you:\n\n\n*   one_hot_decode\n*   one_hot_encode\n*   make_2d\n*   make_3d\n*   read_png_file\n*   is_valid_idx\n*   flatten_observation\n*   is_valid_idx\n*   flatten_observation\n*   make_2d_observation\n*   swap_values",
            "block_group": "3aac4b5196ce42f6aea572e18c47b0bf"
        },
        {
            "cell_type": "code",
            "metadata": {
                "id": "O6bisXF65lHl",
                "source_hash": "9056160b",
                "execution_start": 1761731876543,
                "execution_millis": 1,
                "execution_context_id": "25918dda-8400-4096-8584-354a0a1a97e1",
                "cell_id": "8ce8e67becfa4e1c98721e9798e33c8b",
                "deepnote_cell_type": "code"
            },
            "source": "def one_hot_decode(label_3D):\n  \"\"\"\n  Converts back from one-hot encoded format (label_3D)\n  to original class labels for each pixel (2D)\n  \"\"\"\n  return np.argmax(label_3D, axis=-1)\n\ndef one_hot_encode(label_2D, label_values):\n    \"\"\"\n    Converts a segmentation image label array (label_2D) to one-hot format\n    by replacing each pixel value with a vector of length num_classes\n    # Arguments\n        label_2D: The 2D array segmentation image label\n        label_values: an RGB array of classes (num_classes, 3)\n\n    # Returns\n        A 3D array with the same width and height as the input,\n        but with a depth size of num_classes (for each pixel)\n\n        Each class gets its own encoding for every pixel in the image.\n        Encodings are then stacked along new axis which is number of classes\n    \"\"\"\n    semantic_map = []\n    for colour in label_values:\n        equality = np.equal(label_2D, colour)\n        class_map = np.all(equality, axis=-1)\n        semantic_map.append(class_map)\n    semantic_map = np.stack(semantic_map, axis=-1)\n\n    return semantic_map\n\ndef make_2d(map_3d=None, palette_array=None):\n    \"\"\"\n    Converts RGB images to images with number of class as value at [i,j]\n\n    map_3d: 3D RGB image (H, W, n_ch = 3)\n    palette_array: an RGB array of classes (num_classes, 3)\n\n    Result: 2D structure where each \"pixel\" in the image\n    has a class number instead of RGB color\n    \"\"\"\n    # here we make 3D representation, 3rd dimension has one-hot encoded classes\n    replaced_image_onehot = one_hot_encode(\n        map_3d.astype(np.uint8), palette_array) # size (H, W, num_classes)\n    # we create 2D representation, where every pixel has the value of its class\n    return one_hot_decode(replaced_image_onehot) # size (H, W) - 2D\n\ndef make_3d(map_2d=None, palette_array=None):\n    \"\"\"\n    Convert a 2d img to 3d\n    Convert a 2D image where each pixel represents a class label\n    into a 3D image where each class label is represented\n    by its corresponding RGB color from the palette_array.\n    Creates colorized 3D image from the original 2D class map\n\n    map_2d: array of class labels, size (H, W)\n    palette_array: an RGB array of classes (num_classes, 3)\n\n    Result: RGB image (H, W, 3)\n    \"\"\"\n    return palette_array[map_2d.astype(np.uint8)]\n\n\ndef read_png_file(image_path, printDebug = True):\n    \"\"\"\n    read a png file and returns it as a 3D numpy array\n    \"\"\"\n    original_image_matrix = iio.imread(image_path)\n\n    if original_image_matrix.ndim > 2 and original_image_matrix.shape[-1] > 3:\n        if printDebug:\n            print(f'image has more than 3 channels, only first 3 channels are used there are {original_image_matrix.shape} channels')\n        original_image_matrix = original_image_matrix[:, :, :3]\n    return original_image_matrix\n\ndef is_valid_idx(image_2D, selected_idx):\n    \"\"\"\n    Checks if a given index is within the valid range of a 2D array\n\n    if selected_idx is valid in image_2D\n    selected_idx = [i,j]\n    image_2D = [h,w]\n      \"\"\"\n    if selected_idx[0] < 0 or selected_idx[1] < 0:\n        return False\n    if selected_idx[0] < image_2D.shape[0]:\n        if selected_idx[1] < image_2D.shape[1]:\n            return True\n    return False\n\ndef flatten_observation(observation_arr):\n    \"\"\"\n    Converts/flattens a multi-dimensional array into a 1D array\n    \"\"\"\n    return observation_arr.flatten\n\n\ndef make_2d_observation(observation_flattened, observation_arr_shape):\n    \"\"\"\n    Converts flattened array into shape observation_arr_shape\n    \"\"\"\n    return observation_flattened.reshape(observation_arr_shape.shape)\n\ndef swap_values(arr, value1, value2):\n    \"\"\"\n    Swaps occurencies of two specific values (value1 and value2)\n    within a 2D NumPy array (arr).\n\n    arr: A 2D NumPy array where we want to swap the values\n    value1: the first value that we want to swap with value2\n    value2: the second value that we want to swap with value1\n\n    Returns: 2D array with swapped values\n    \"\"\"\n\n    # Ensure the values are integers\n    value1, value2 = int(value1), int(value2)\n\n    # Step 1: Find the first position of value1 and change it to value2\n    pos_value1 = np.argwhere(arr == value1) # returns 2D array\n    if pos_value1.size > 0:\n        arr[pos_value1[0][0], pos_value1[0][1]] = value2\n\n    # Step 2: Get all positions of value2\n    pos_value2 = np.argwhere(arr == value2) # returns 2D array\n\n    # Step 3: Randomly select a position of value2 that is not the original value1's position\n    if len(pos_value2) > 1:\n        # filter out the position of former value1 (pos_value1) which now also contains value2\n        pos_value2 = pos_value2[np.all(pos_value2 != pos_value1[0], axis=1)]\n        if pos_value2.size > 0:\n            random_pos_value2 = pos_value2[np.random.choice(len(pos_value2))]\n            arr[random_pos_value2[0], random_pos_value2[1]] = value1\n\n    return arr",
            "block_group": "ac0666afcb21429cb49b7e873d35ec0e",
            "execution_count": 3,
            "outputs": [],
            "outputs_reference": null,
            "content_dependencies": null
        },
        {
            "cell_type": "markdown",
            "metadata": {
                "id": "I95zkEvIPkGt",
                "cell_id": "0c4c1c3334ff4053b26ecabcdceba815",
                "deepnote_cell_type": "markdown"
            },
            "source": "### Environment class with necessary functions - provided for you:\n\n\n*   constructor __init__\n*   step\n*   reset\n*   get_1d_state\n*   render\n*   close\n",
            "block_group": "ed7fa0f64e1f414190d7406d3fa44186"
        },
        {
            "cell_type": "code",
            "metadata": {
                "id": "s6TWGiuXth-H",
                "source_hash": "9e987f1d",
                "execution_start": 1761731876603,
                "execution_millis": 1,
                "execution_context_id": "25918dda-8400-4096-8584-354a0a1a97e1",
                "cell_id": "745f767d1f4149318c185f107831415b",
                "deepnote_cell_type": "code"
            },
            "source": "class TrondheimEnv(gym.Env):\n    metadata = {'render.modes': ['human']}\n\n    def __init__(self, conf):\n        \"\"\"\n        Every environment should be derived from gym.Env and at least contain\n        variables observation_space and action_space specifying the type of possible\n        observations and actions using spaces.Box or spaces.Discrete.\n\n        Example:\n        >>> EnvTest = TrondheimEnv()\n        >>> EnvTest.observation_space=spaces.Box(low=-1, high=1, shape=(3,4))\n        >>> EnvTest.action_space=spaces.Discrete(2)\n        \"\"\"\n\n        self.manual_mode = True  # Flag to control printouts\n\n        # action definition:\n        number_action = 4\n        self.action_space = Discrete(number_action)\n\n        self.env_image_path = conf['env_image_path']\n        self.number_removable_locations = conf['number_removable_locations']\n\n        self.pallete = np.array([[0, 0, 255],    # Blue:0:Water\n                            [255, 255, 0],  # Yellow:1:Start\n                            [0, 255, 0],    # Green:2:Land\n                            [255, 0, 0],    # Red:3:BusLane\n                            [128, 0, 128],  # Purple:4:BusStop\n                            [0,   0,   0],  # Black:5:Secret Location\n                            [128, 128, 0]], # Olive:6:Final Location\n                           dtype=np.uint8)\n\n        self.neighbours = np.array([[-1,0],[0,-1],[1,0],[0,1]]) # up, left, down, right\n        self.not_allowed_area = [0] # water\n        self.normal_land_class = 2 # land\n        self.neutral_area = [self.normal_land_class,3] # land and BusLane\n        self.start_class = 1 # start\n        self.busstop_class = 4 # bus stop\n        self.secret_location_class = 5 # secret location\n        self.final_location_class = 6 # final location (2)\n\n        # does agent die when enter not_allowed_area\n        self.dead_allowed = conf['dead_allowed']\n        # does shops closed after the first purchase\n        self.remove_after_location_found = conf['remove_after_location_found']\n        # should we start at different place each time\n        self.start_random = conf['start_random']\n\n        # read RGB image into a 3D numpy array\n        img_3d = read_png_file(self.env_image_path, printDebug = False)\n\n        # convert RGB image into 2D semantic class representation\n        img_2d = make_2d(map_3d=img_3d,\n                         palette_array=self.pallete)\n\n        # the current state of the environment\n        self.observation = img_2d # initial observation - 2D semantic class\n        # copy of the environment's initial state before any actions have been taken\n        self.initial_observation = img_2d.copy()\n\n        max_observation_value = np.max(img_2d)\n        # assert isinstance(max_observation_value, int)\n        # can be used, not needed for this implementation\n        # observation space is a gym object (MultiDiscrete), like numpy array. It can be sampled\n        observation_space = np.full_like(img_2d,\n                                         fill_value=max_observation_value)\n        self.observation_space = MultiDiscrete(observation_space)\n\n        # rewards\n        self.reward = 0\n\n        # done\n        self.done = False\n\n        # terminated\n        self.terminated = False\n\n\n\n\n    def step(self, action):\n        \"\"\"\n        This method is the primary interface between environment and agent.\n\n        Parameters:\n            action: int\n                    the index of the respective action (if action space is discrete)\n\n        Returns:\n            output: (array, float, bool, info)\n                    information provided by the environment about its current state:\n                    (observation, reward, done)\n\n                    self.observation: The updated state of the environment (2D)\n                    reward: Reward agent received for the action in this step (Int)\n                    terminated: indicate if the episode has ended (Bool)\n                    info: Additional information (not used currently)\n\n        \"\"\"\n        obs = self.observation # 2D array of semantic class image representation\n        terminated = False\n        truncated = False\n        info = None\n\n        # just start and see where it goes\n        start_idx = np.argwhere(obs == self.start_class)[0]\n        # action is: 0:up, 1:left, 2:down, 3:right\n        next_idx = start_idx + self.neighbours[action]\n        reward = self.reward\n        if self.manual_mode:\n          print('Next step towards: ')\n\n        if not is_valid_idx(image_2D=obs, selected_idx=next_idx):\n            next_idx = start_idx\n            if self.manual_mode:\n                print('Hey there, you cannot escape outside of the environment')\n\n        # now decide what happens next\n\n        if obs[tuple(next_idx)] == self.normal_land_class:\n            if self.manual_mode:\n                print('Green Land class area')\n\n        # check if it is a non allowed area\n        if obs[tuple(next_idx)] in self.not_allowed_area:\n            if self.manual_mode:\n                print('The move is not allowed')\n            if self.dead_allowed:\n                # penalize the agent if allowed to die. Terminate\n                reward = -1000\n                terminated = True\n            else:\n                # if NOT allowed to die, reset the next position to current one - prevent the move\n                next_idx = start_idx\n\n\n        # if the player is in bus stup\n        elif obs[tuple(next_idx)] == self.busstop_class:\n            if self.manual_mode:\n                print('A bus stop')\n\n            # get the bus stop that is not the next step\n            bus_stop_indices = np.argwhere(obs == self.busstop_class)\n            # flip the next state to the other side of the stop\n            if np.array_equal(next_idx, bus_stop_indices[0]):\n                # teleport the agent from bus stop 0 to bus stop 1\n                next_idx = bus_stop_indices[1]\n            else:\n                # teleport the agent from bus stop 1 to bus stop 0\n                next_idx = bus_stop_indices[0]\n\n        # if it is Secret Location\n        elif obs[tuple(next_idx)] == self.secret_location_class:\n            if self.manual_mode:\n                print('Central Source Secret Location')\n            reward = 300\n            # close the shop (remove from the map)\n            if self.remove_after_location_found:\n                self.initial_observation[tuple(next_idx)] = self.normal_land_class\n                self.number_removed_shop += 1\n                reward = 9000\n\n        # and the Final Location\n        elif obs[tuple(next_idx)] == self.final_location_class:\n            if self.manual_mode:\n                print('Final Location - well done!')\n                print('You have discovered the Final Location of AI center in Trondheim')\n            reward = 200\n\n\n        # now we need to change the observation space\n        # i.e. update the environment’s state to reflect the agent's movement\n\n        # if agent’s current position was initial start position\n        if self.initial_observation[tuple(start_idx)] == self.start_class:\n            # if true, update observation - mark the start position as neutral area\n            self.observation[tuple(start_idx)] = self.normal_land_class\n        else:\n            # if current position not the initial start one\n            # restores position in self.observation to its original value from self.initial_observation\n            # re-color the observation as where you were if not start position\n            self.observation[tuple(start_idx)] = self.initial_observation[tuple(start_idx)]\n\n        # sets the new position of the agent as the next start position\n        self.observation[tuple(next_idx)] = self.start_class\n\n        return self.observation, reward, terminated, info\n\n\n    def reset(self):\n        \"\"\"\n        This method resets the environment to its initial values.\n\n        Returns:\n            observation:    array\n                            the initial state of the environment\n        \"\"\"\n        self.number_removed_shop = 0\n\n        img_3d = read_png_file(self.env_image_path, printDebug = False)\n        img_2d = make_2d(map_3d=img_3d,\n                         palette_array=self.pallete)\n\n        if self.start_random:\n          # we need to move the start to another place\n          img_2d = swap_values(arr=img_2d,\n                               value1=1,\n                               value2=2)\n\n        self.observation = img_2d\n        self.initial_observation = img_2d.copy()\n\n        max_observation_value = np.max(img_2d)\n        observation_space = np.full_like(img_2d,\n                                         fill_value=max_observation_value)\n        self.observation_space = MultiDiscrete(observation_space)\n\n        # rewards\n        self.reward = 0\n\n        # done\n        self.done = False\n\n        # terminated\n        self.terminated = False\n\n        return self.observation\n\n\n    def get_1d_state(self):\n        \"\"\"\n        This function returns state as 1d observation\n        \"\"\"\n        max_x = self.observation.shape[0]\n        max_y = self.observation.shape[1]\n\n        start_idx = np.argwhere(\n            self.observation == self.start_class)[0]\n        state_number = (\n            start_idx[0] * max_x) + start_idx[1]\n        state_number = (self.number_removed_shop * max_x * max_y) + state_number\n        return state_number\n\n    def render(self, mode='human', close=False):\n        \"\"\"\n        This methods provides the option to render the environment's behavior to a\n        window which should be readable to the human eye if mode is set to 'human'.\n        \"\"\"\n        render_ready_arr = make_3d(map_2d=self.observation,\n                                   palette_array=self.pallete)\n        plt.imshow(render_ready_arr)\n        plt.show()\n        plt.close()\n        return render_ready_arr\n\n    def close(self):\n        \"\"\"\n        This method provides the user with the option to perform necessary\n        cleanup.\n        \"\"\"\n        img_3d = read_png_file(self.env_image_path)\n        img_2d = make_2d(map_3d=img_3d,\n                         palette_array=self.pallete)\n        self.observation = img_2d\n        self.initial_observation = img_2d.copy()\n",
            "block_group": "f38686b089e5492fba57ace0dc9923a8",
            "execution_count": 4,
            "outputs": [],
            "outputs_reference": null,
            "content_dependencies": null
        },
        {
            "cell_type": "code",
            "metadata": {
                "id": "oYWhRI2VygG9",
                "source_hash": "27d1c183",
                "execution_start": 1761731876653,
                "execution_millis": 17,
                "execution_context_id": "25918dda-8400-4096-8584-354a0a1a97e1",
                "cell_id": "b4933b85f02346cba99aac706970364f",
                "deepnote_cell_type": "code"
            },
            "source": "# let's make sure to create subfolder for our input images, if not already there\ninput_folder = 'input_images'\nif not os.path.exists(input_folder):\n    os.makedirs(input_folder)",
            "block_group": "4a8c66e59ba14482b38666290e0604af",
            "execution_count": 5,
            "outputs": [],
            "outputs_reference": null,
            "content_dependencies": null
        },
        {
            "cell_type": "markdown",
            "metadata": {
                "id": "LESqxWq8PkGu",
                "cell_id": "b98d57260f3f4f6b8e758aca6c3727e8",
                "deepnote_cell_type": "markdown"
            },
            "source": "# Configuring and loading the environment:",
            "block_group": "a93ac3a66267406e8084fc2da0cb5509"
        },
        {
            "cell_type": "markdown",
            "metadata": {
                "id": "aPy3pcnbPkGu",
                "cell_id": "2da99cbe2dd647aa94d4112773f0108f",
                "deepnote_cell_type": "markdown"
            },
            "source": "## 🔎📉  Let's first visualize our simple toy environment",
            "block_group": "080f4349681c45fe925b488e6f6f3c11"
        },
        {
            "cell_type": "code",
            "metadata": {
                "id": "HEmdFlf2PkGu",
                "source_hash": "11651609",
                "execution_start": 1761731876734,
                "execution_millis": 238,
                "execution_context_id": "25918dda-8400-4096-8584-354a0a1a97e1",
                "cell_id": "e71a4b6eae634b8580275c7dfaf79c06",
                "deepnote_cell_type": "code"
            },
            "source": "# This is how you create a configuration for the environment\n# Note: make sure that folder input_images is created\n# Note 2: make sure you copy necessary input images there\n\nenv_config = {\n    'env_image_path':'input_images/image_simple_1.png',\n    'dead_allowed':False,\n    'remove_after_location_found':False,\n    'start_random':False,\n    'number_removable_locations':0,\n}\n\n\nif not os.path.exists(env_config['env_image_path']):\n  # make sure you have the folder and the image\n  print(f\"Error: The image path {env_config['env_image_path']} does not exist.\")\nelse:\n  # if everything fine, we create the environment\n  tmp_env = TrondheimEnv(conf=env_config)\n  print(f\"Environment successfully created\")",
            "block_group": "3ad50542a79146b29041e509f5bf504f",
            "execution_count": 6,
            "outputs": [
                {
                    "name": "stdout",
                    "text": "Environment successfully created\n",
                    "output_type": "stream"
                }
            ],
            "outputs_reference": "dbtable:cell_outputs/35936526-050d-4673-a199-d523df3feba9",
            "content_dependencies": null
        },
        {
            "cell_type": "code",
            "metadata": {
                "id": "_clXneCvPkGu",
                "source_hash": "62718f3d",
                "execution_start": 1761731877023,
                "execution_millis": 484,
                "execution_context_id": "25918dda-8400-4096-8584-354a0a1a97e1",
                "cell_id": "e1d224933fb64508a3d1c60d2ddd310a",
                "deepnote_cell_type": "code"
            },
            "source": "# visualize the environment. Yellow is where we are, Black is where we want to go\ntmp_env.reset()\ntmp_env.render()",
            "block_group": "96b3f6ea4c6944ed82722f7d0bbb1b2d",
            "execution_count": 7,
            "outputs": [
                {
                    "data": {
                        "text/plain": "<Figure size 640x480 with 1 Axes>",
                        "image/png": "[encoded data removed]"
                    },
                    "metadata": {
                        "image/png": {
                            "width": 416,
                            "height": 413
                        }
                    },
                    "output_type": "display_data"
                },
                {
                    "output_type": "execute_result",
                    "execution_count": 7,
                    "data": {
                        "text/plain": "array([[[  0, 255,   0],\n        [  0, 255,   0],\n        [  0, 255,   0],\n        [  0, 255,   0],\n        [  0, 255,   0],\n        [  0, 255,   0],\n        [  0, 255,   0],\n        [  0, 255,   0],\n        [  0, 255,   0],\n        [  0, 255,   0],\n        [  0, 255,   0],\n        [  0, 255,   0]],\n\n       [[  0, 255,   0],\n        [  0, 255,   0],\n        [  0, 255,   0],\n        [  0, 255,   0],\n        [  0, 255,   0],\n        [  0, 255,   0],\n        [  0, 255,   0],\n        [  0, 255,   0],\n        [  0, 255,   0],\n        [  0, 255,   0],\n        [  0, 255,   0],\n        [  0, 255,   0]],\n\n       [[  0, 255,   0],\n        [  0, 255,   0],\n        [  0, 255,   0],\n        [  0, 255,   0],\n        [  0, 255,   0],\n        [  0, 255,   0],\n        [  0, 255,   0],\n        [  0, 255,   0],\n        [  0, 255,   0],\n        [  0, 255,   0],\n        [  0, 255,   0],\n        [  0, 255,   0]],\n\n       [[  0, 255,   0],\n        [  0, 255,   0],\n        [  0, 255,   0],\n        [  0, 255,   0],\n        [  0, 255,   0],\n        [  0, 255,   0],\n        [  0, 255,   0],\n        [  0, 255,   0],\n        [  0, 255,   0],\n        [  0, 255,   0],\n        [  0, 255,   0],\n        [  0, 255,   0]],\n\n       [[  0, 255,   0],\n        [  0, 255,   0],\n        [  0, 255,   0],\n        [  0, 255,   0],\n        [  0, 255,   0],\n        [  0, 255,   0],\n        [  0, 255,   0],\n        [  0, 255,   0],\n        [  0, 255,   0],\n        [  0, 255,   0],\n        [  0, 255,   0],\n        [  0, 255,   0]],\n\n       [[  0, 255,   0],\n        [  0, 255,   0],\n        [  0, 255,   0],\n        [  0, 255,   0],\n        [  0, 255,   0],\n        [  0, 255,   0],\n        [  0,   0,   0],\n        [  0, 255,   0],\n        [  0, 255,   0],\n        [  0, 255,   0],\n        [  0, 255,   0],\n        [  0, 255,   0]],\n\n       [[  0, 255,   0],\n        [  0, 255,   0],\n        [  0, 255,   0],\n        [  0, 255,   0],\n        [  0, 255,   0],\n        [  0, 255,   0],\n        [  0, 255,   0],\n        [  0, 255,   0],\n        [  0, 255,   0],\n        [  0, 255,   0],\n        [  0, 255,   0],\n        [  0, 255,   0]],\n\n       [[  0, 255,   0],\n        [  0, 255,   0],\n        [  0, 255,   0],\n        [  0, 255,   0],\n        [  0, 255,   0],\n        [  0, 255,   0],\n        [  0, 255,   0],\n        [  0, 255,   0],\n        [  0, 255,   0],\n        [  0, 255,   0],\n        [  0, 255,   0],\n        [  0, 255,   0]],\n\n       [[  0, 255,   0],\n        [  0, 255,   0],\n        [  0, 255,   0],\n        [  0, 255,   0],\n        [  0, 255,   0],\n        [  0, 255,   0],\n        [  0, 255,   0],\n        [  0, 255,   0],\n        [  0, 255,   0],\n        [  0, 255,   0],\n        [  0, 255,   0],\n        [  0, 255,   0]],\n\n       [[  0, 255,   0],\n        [  0, 255,   0],\n        [  0, 255,   0],\n        [  0, 255,   0],\n        [  0, 255,   0],\n        [  0, 255,   0],\n        [  0, 255,   0],\n        [  0, 255,   0],\n        [  0, 255,   0],\n        [  0, 255,   0],\n        [  0, 255,   0],\n        [  0, 255,   0]],\n\n       [[  0, 255,   0],\n        [  0, 255,   0],\n        [  0, 255,   0],\n        [  0, 255,   0],\n        [  0, 255,   0],\n        [  0, 255,   0],\n        [  0, 255,   0],\n        [  0, 255,   0],\n        [  0, 255,   0],\n        [  0, 255,   0],\n        [255, 255,   0],\n        [  0, 255,   0]],\n\n       [[  0, 255,   0],\n        [  0, 255,   0],\n        [  0, 255,   0],\n        [  0, 255,   0],\n        [  0, 255,   0],\n        [  0, 255,   0],\n        [  0, 255,   0],\n        [  0, 255,   0],\n        [  0, 255,   0],\n        [  0, 255,   0],\n        [  0, 255,   0],\n        [  0, 255,   0]]], dtype=uint8)"
                    },
                    "metadata": {}
                }
            ],
            "outputs_reference": "s3:deepnote-cell-outputs-production/68f7d282-463d-4eb5-845c-98af80729fb5",
            "content_dependencies": null
        },
        {
            "cell_type": "markdown",
            "metadata": {
                "id": "XVfyvoCRPkGv",
                "cell_id": "d0ac2c04852246909a54656881bad0f2",
                "deepnote_cell_type": "markdown"
            },
            "source": "Let's see how actions work:",
            "block_group": "0bea2541e0274798a9ee7842e58530ed"
        },
        {
            "cell_type": "code",
            "metadata": {
                "id": "S22Lbe8OPkGv",
                "source_hash": "ddac327d",
                "execution_start": 1761731877563,
                "execution_millis": 0,
                "execution_context_id": "25918dda-8400-4096-8584-354a0a1a97e1",
                "cell_id": "b0558429ac354c7cac54cebf71008674",
                "deepnote_cell_type": "code"
            },
            "source": "action_dict = {\n    'up':0,\n    'left':1,\n    'down':2,\n    'right':3,\n}",
            "block_group": "3ad5985055344f2b97f320b924a17a07",
            "execution_count": 8,
            "outputs": [],
            "outputs_reference": null,
            "content_dependencies": null
        },
        {
            "cell_type": "code",
            "metadata": {
                "id": "1wUXsfWIPkGv",
                "source_hash": "ad313cff",
                "execution_start": 1761734831927,
                "execution_millis": 108,
                "execution_context_id": "25918dda-8400-4096-8584-354a0a1a97e1",
                "cell_id": "f1c396ed3ea34af7b02773c1e3fd262d",
                "deepnote_cell_type": "code"
            },
            "source": "# select your action here\n# you are encouraged to play further with this\nmy_action = 'up'\n\n# now take a step through the environment by taking this action\nobs, rew, term, info = tmp_env.step(action_dict[my_action])\nprint(f\"Reward for action {my_action} is: {rew}\")\ntmp_env.render()\n\nprint(f\"Observation space looks like this:\\n{obs}\")\nprint(f\"Observation length is: {obs.size}\")",
            "block_group": "14f146158dff4e33ae8bd08010d752b0",
            "execution_count": 93,
            "outputs": [
                {
                    "name": "stdout",
                    "text": "Next step towards: \nGreen Land class area\nReward for action up is: 0\n",
                    "output_type": "stream"
                },
                {
                    "data": {
                        "text/plain": "<Figure size 640x480 with 1 Axes>",
                        "image/png": "[encoded data removed]"
                    },
                    "metadata": {
                        "image/png": {
                            "width": 416,
                            "height": 413
                        }
                    },
                    "output_type": "display_data"
                },
                {
                    "name": "stdout",
                    "text": "Observation space looks like this:\n[[2 2 2 2 2 2 2 2 2 2 2 2]\n [2 2 2 2 2 2 2 2 2 2 2 2]\n [2 2 2 2 2 2 2 2 2 2 2 2]\n [2 2 2 2 2 2 2 2 2 2 2 2]\n [2 2 2 2 2 2 2 2 2 2 2 2]\n [1 2 2 2 2 2 5 2 2 2 2 2]\n [2 2 2 2 2 2 2 2 2 2 2 2]\n [2 2 2 2 2 2 2 2 2 2 2 2]\n [2 2 2 2 2 2 2 2 2 2 2 2]\n [2 2 2 2 2 2 2 2 2 2 2 2]\n [2 2 2 2 2 2 2 2 2 2 2 2]\n [2 2 2 2 2 2 2 2 2 2 2 2]]\nObservation length is: 144\n",
                    "output_type": "stream"
                }
            ],
            "outputs_reference": "s3:deepnote-cell-outputs-production/6578a191-4e2b-4418-be64-c03ac929b070",
            "content_dependencies": null
        },
        {
            "cell_type": "markdown",
            "metadata": {
                "id": "_BKNX9F4PkGv",
                "cell_id": "7c8f2413f5104502a893503fbf0640e3",
                "deepnote_cell_type": "markdown"
            },
            "source": "# 🧠 **Your Assignments**",
            "block_group": "9d742adfbc5e4146be901ec83401107b"
        },
        {
            "cell_type": "markdown",
            "metadata": {
                "id": "BpfZYKmOPkGv",
                "cell_id": "aca7abf100d64c029579681d7fe2adc8",
                "deepnote_cell_type": "markdown"
            },
            "source": "# 1️⃣ Assignment 1: Q-learning with simple toy environment",
            "block_group": "a20f0601085c4a049d2780d5bdd5bca0"
        },
        {
            "cell_type": "markdown",
            "metadata": {
                "id": "CvG3QGzTPkGv",
                "cell_id": "eb1805166f9648ebb0993fde48fed465",
                "deepnote_cell_type": "markdown"
            },
            "source": "## 🐣 Let's learn how to do this in a simple environment\n\n\n*   Task 1: Initialize Q table\n*   Task 2: Write necessary helper functions for Q-learning\n*   Task 3: Play with Hyperparameters\n*   Task 4: Train the agent using Q-learning\n\n**Note**: Task 2, Task 3 and Task 4: you will use the same code you implemented for these in the Assignment 2.",
            "block_group": "8558ecea41a5425a8ebcd383c4445715"
        },
        {
            "cell_type": "code",
            "metadata": {
                "id": "gdWAfr8fPkGv",
                "source_hash": "2b1cd628",
                "execution_start": 1761731961443,
                "execution_millis": 309,
                "execution_context_id": "25918dda-8400-4096-8584-354a0a1a97e1",
                "cell_id": "b21222f4823741c9b54e9a8fb5a10457",
                "deepnote_cell_type": "code"
            },
            "source": "# Environment is set up for you here\nenv_config = {\n    'env_image_path':'input_images/image_simple_1.png',\n    'dead_allowed':False,\n    'remove_after_location_found':False,\n    'start_random':False,\n    'number_removable_locations':0,\n}\n\nif not os.path.exists(env_config['env_image_path']):\n  # make sure you have the folder and the image\n  print(f\"Error: The image path {env_config['env_image_path']} does not exist.\")\nelse:\n  # if everything fine, we create the environment\n  tmp_env = TrondheimEnv(conf=env_config)\n  print(f\"Environment successfully created\")",
            "block_group": "6da9493a222d4d22b0aab3c43650389e",
            "execution_count": 15,
            "outputs": [
                {
                    "name": "stdout",
                    "text": "Environment successfully created\n",
                    "output_type": "stream"
                }
            ],
            "outputs_reference": "dbtable:cell_outputs/98cf80c8-dce5-4e35-9143-7ab57f9d4f74",
            "content_dependencies": null
        },
        {
            "cell_type": "markdown",
            "metadata": {
                "id": "0PT6w7C-PkGw",
                "cell_id": "d521f145b28a4f96a0739827fc85c921",
                "deepnote_cell_type": "markdown"
            },
            "source": "### Task 1: Initialize Q table",
            "block_group": "0d053febebab4f89b9ab9062efa82dda"
        },
        {
            "cell_type": "code",
            "metadata": {
                "id": "guc-6hxaPkGw",
                "source_hash": "5bed9389",
                "execution_start": 1761733044803,
                "execution_millis": 0,
                "execution_context_id": "25918dda-8400-4096-8584-354a0a1a97e1",
                "cell_id": "7a5b6f631ca04584bfd3c5bfbadfe97e",
                "deepnote_cell_type": "code"
            },
            "source": "# Task 1: Initialize Q table\n\"\"\"\nTODO: given the environment, initialize the Q table\n\"\"\"\n\n# Tip: pay attention to the dimensions of Q table\n# Tip: how many states does the table have, how many actions\n\nprint(f\"Observation space dimensions:  {tmp_env.observation_space.shape}\")\nprint(f\"Number of possible actions: {tmp_env.action_space.n}\")\n\n# YOUR CODE GOES HERE\nstates = np.prod(tmp_env.observation_space.shape)\nactions = tmp_env.action_space.n\nQ_test = np.zeros((states, actions)) # you need to initialize this variable\nprint(Q_test.shape)",
            "block_group": "9836ab95d2f04dbc9a4f62b92186df6f",
            "execution_count": 48,
            "outputs": [
                {
                    "name": "stdout",
                    "text": "Observation space dimensions:  (12, 12)\nNumber of possible actions: 4\n(144, 4)\n",
                    "output_type": "stream"
                }
            ],
            "outputs_reference": "dbtable:cell_outputs/bef56992-7dfd-47bf-a9d8-102de9eb4328",
            "content_dependencies": null
        },
        {
            "cell_type": "code",
            "metadata": {
                "id": "Tg715k80PkGw",
                "source_hash": "f354733",
                "execution_start": 1761733122453,
                "execution_millis": 0,
                "execution_context_id": "25918dda-8400-4096-8584-354a0a1a97e1",
                "cell_id": "40ce60c97583498d84ec9ebb001da39a",
                "deepnote_cell_type": "code"
            },
            "source": "# take a look into initial Q table (randomized one)\nprint(f\"Q table has this shape: {Q_test.shape}\\n\")\n\n# you may want to print Q table, or parts of it, to get the vibe\nprint(Q_test[:10])\nprint(f\"\\n\")\n#print(Q_test[135:])",
            "block_group": "48e302b7ea7744c39b8c753006ad5926",
            "execution_count": 51,
            "outputs": [
                {
                    "name": "stdout",
                    "text": "Q table has this shape: (144, 4)\n\n[[0. 0. 0. 0.]\n [0. 0. 0. 0.]\n [0. 0. 0. 0.]\n [0. 0. 0. 0.]\n [0. 0. 0. 0.]\n [0. 0. 0. 0.]\n [0. 0. 0. 0.]\n [0. 0. 0. 0.]\n [0. 0. 0. 0.]\n [0. 0. 0. 0.]]\n\n\n",
                    "output_type": "stream"
                }
            ],
            "outputs_reference": "dbtable:cell_outputs/01daf742-ff86-48ff-aba1-a719063ab267",
            "content_dependencies": null
        },
        {
            "cell_type": "markdown",
            "metadata": {
                "id": "zXiBz_haPkGw",
                "cell_id": "11ecc23dd74e486bbec3537ccf42a876",
                "deepnote_cell_type": "markdown"
            },
            "source": "### Task 2: Write necessary helper functions for Q-learning",
            "block_group": "e961f3d3c9b14fe89492cce71e1e1bbe"
        },
        {
            "cell_type": "code",
            "metadata": {
                "id": "8ySxhzOxPkGw",
                "deepnote_to_be_reexecuted": true,
                "cell_id": "2c0412eed5e34e1782e46b2845b13666",
                "deepnote_cell_type": "code"
            },
            "source": "# Task 2: Write necessary helper functions for Q-learning\n\"\"\"\nTODO: write helper function to:\n update_explore_rate() - controls the balance between exploration and exploitation\n update_learning_rate() - controls how aggressively the agent updates its knowledge\n\n update_action() - uses the exploration rate to decide whether to take a\n random action (explore) or to act according to the learned Q-values (exploit)\n\"\"\"\n\n\n# Explore Rate Decay Function, Converges to MIN_EXPLORE_RATE\ndef update_explore_rate(episode, MIN_EXPLORE_RATE):\n    # this function should return updated explore_rate\n    rate_decay = 0.95\n    initial_rate = 0.5 - MIN_EXPLORE_RATE\n    \n    return MIN_EXPLORE_RATE + initial_rate * (rate_decay ** episode)\n\n# Learning Rate Decay Function, Converges to MIN_LEARNING_RATE\ndef update_learning_rate(episode, MIN_LEARNING_RATE):\n    # this function should return updated learning_rate\n    rate_decay = 0.95\n    initial_rate = 1 - MIN_LEARNING_RATE\n    \n    return MIN_LEARNING_RATE + initial_rate * (rate_decay ** episode)\n\n\n# returns an action based on current state, explore rate and Q table\ndef update_action(env, state, explore_rate, Q):\n\n    # this function should return an action\n\t# YOUR CODE GOES HERE\n    q_values = Q[state]\n\n    if np.random.random() < explore_rate:\n        action = np.random.randint(0, env.action_space.n)\n    else:\n        action = np.argmax(q_values)\n\n    return action\n    \n",
            "block_group": "69631e86b02943b4a307cca5ea6b7207",
            "execution_count": null,
            "outputs": [],
            "outputs_reference": null,
            "content_dependencies": null
        },
        {
            "cell_type": "markdown",
            "metadata": {
                "id": "nx48WICzPkGw",
                "cell_id": "cf9b12e622ed4d28b5808d6a71daf021",
                "deepnote_cell_type": "markdown"
            },
            "source": "### Task 3: Play with Hyperparameters",
            "block_group": "7fbd09fa175840d7bd99dd9722432567"
        },
        {
            "cell_type": "code",
            "metadata": {
                "id": "77QFrN9OPkGw",
                "deepnote_to_be_reexecuted": true,
                "cell_id": "3912c9a00e10477f8962635396e2c1ea",
                "deepnote_cell_type": "code"
            },
            "source": "# Task 3: Play with Hyperparameters\n\n# YOUR CODE GOES HERE: replace None with your values\nGAMMA_test = 0.5\nNUM_EPISODES_test = 50\nMIN_EXPLORE_RATE_test = 0.1\nMIN_LEARNING_RATE_test = 0.01\nSTEP_SIZE_TEST = 0.5",
            "block_group": "6bd73cbc7fc84a04850385a5e0c924b9",
            "execution_count": null,
            "outputs": [],
            "outputs_reference": null,
            "content_dependencies": null
        },
        {
            "cell_type": "markdown",
            "metadata": {
                "id": "T2szdmzyT27h",
                "cell_id": "798ba2df06b0484a979daa25d3e0d2bc",
                "deepnote_cell_type": "markdown"
            },
            "source": "## 🐤 Now use Q learning to learn the Q table\n### Task 4: Train the agent using Q-learning",
            "block_group": "e0a69afabf0740b99601f7ffae0d21e6"
        },
        {
            "cell_type": "markdown",
            "metadata": {
                "id": "rJQRmWF3rFnb",
                "cell_id": "e71147f9e5f74289a5ee124535a3f7f0",
                "deepnote_cell_type": "markdown"
            },
            "source": "The Q-value update equation, derived from Bellman equation is as follows:\n",
            "block_group": "0b78455d132846358031b513bb39c17c"
        },
        {
            "cell_type": "markdown",
            "metadata": {
                "id": "rrjUtRs4PwDQ",
                "cell_id": "acd5fdadcd1e48d7bf0c95e7a0d95ff8",
                "deepnote_cell_type": "markdown"
            },
            "source": "$$\nQ(s, a) \\gets Q(s, a) + \\alpha*\\Big[ R(s, a) + \\gamma* \\max_{a'} Q(s', a') - Q(s, a) \\Big]\n$$",
            "block_group": "4e693eacfebf427bb1dd1372b46d03a3"
        },
        {
            "cell_type": "markdown",
            "metadata": {
                "id": "L9hrmRcSN2gQ",
                "cell_id": "d7cc138f84154459830b83f31efcbdfa",
                "deepnote_cell_type": "markdown"
            },
            "source": "**Legend:**\n\n- **Q(s, a)**: Action-value function, estimating the expected return for taking action *a* in state *s*\n- **α**: learning rate\n- **R(s, a)**: reward received after taking action *a* in state *s*\n- **γ**: discount factor (importance of future rewards)\n- **s'**: Next state resulting from taking action *a* in state *s*  \n- **a'**: Possible actions in the next state *s'*\n- **max Q(s', a')**: Maximum estimated Q value of the next state over all possible actions *a'*\n",
            "block_group": "b76e0a83bdd74b5dba42fef7c12fe245"
        },
        {
            "cell_type": "code",
            "metadata": {
                "id": "uKV3Mce-PkGx",
                "deepnote_to_be_reexecuted": true,
                "cell_id": "31367d68fda04aa680ccd5e9fb3408cb",
                "deepnote_cell_type": "code"
            },
            "source": "# Task 4: Train the agent using Q-learning\n# Suggestion: you can wrap the code to learn Q-table in a function,\n# which you can also use for Task 4 in Assignment 2\n\n# result of the training is:\n#   updated Q table (Q_test)\n#   total_reward\n#   you are free to add others, if you will\n\ntmp_env.manual_mode = False # disable printouts while training\n\n\n# initialize some variables\ntotal_reward = 0\n\nexplore_rate = update_explore_rate(0, MIN_EXPLORE_RATE=MIN_EXPLORE_RATE_test)\nlearning_rate = update_learning_rate(0, MIN_LEARNING_RATE=MIN_LEARNING_RATE_test)\n\n# YOUR CODE GOES HERE\n\n# Tip: iterate over number of episodes\nfor i in range(NUM_EPISODES_test):\n    for k in range(NUM_STEPS_test):\n        # Tip: iterate over number of steps in each Episode\n        # Tip: use helper functions defined above to navigate the environment\n\n        # Tip: use the Q-learning update rule equation - Bellman equation\n\n\n\n  # Tip : print variables of interest, like episode, total_reward, explore_rate\n  # print(f\"Episode :{i}  Total_reward: {total_reward}  Explore rate: {explore_rate}\")\n  #print(\"Final Q values: \", Q_test)",
            "block_group": "6d821e028cc34315aa020eb8b1d16175",
            "execution_count": null,
            "outputs": [],
            "outputs_reference": null,
            "content_dependencies": null
        },
        {
            "cell_type": "code",
            "metadata": {
                "id": "YVOVYADQPkGx",
                "deepnote_to_be_reexecuted": true,
                "cell_id": "c8a6cf6bd52e479c863bd589512e1750",
                "deepnote_cell_type": "code"
            },
            "source": "print(f\"Total reward after training: {total_reward}, total Explore rate after training: {explore_rate}\")",
            "block_group": "5eb780b1230b4bf296d8386037bc99cd",
            "execution_count": null,
            "outputs": [],
            "outputs_reference": null,
            "content_dependencies": null
        },
        {
            "cell_type": "markdown",
            "metadata": {
                "id": "Gxlv9Qj-PkGx",
                "cell_id": "57108a976c514cb38c7ef31199decbe0",
                "deepnote_cell_type": "markdown"
            },
            "source": "## 🐥 Let's see this in action",
            "block_group": "b8a96e3d3fe74cbbad1aa1d666b3beab"
        },
        {
            "cell_type": "code",
            "metadata": {
                "id": "IOfVD-2xPkGx",
                "source_hash": "98761834",
                "execution_start": 1761735584113,
                "execution_millis": 8891,
                "execution_context_id": "25918dda-8400-4096-8584-354a0a1a97e1",
                "cell_id": "5a237d0e7ad3426cb0d92bae570f6280",
                "deepnote_cell_type": "code"
            },
            "source": "# now we show one episode\n# yellow spot should be able to find black spot here\n\ntmp_env.manual_mode = True # enable messages\nSTEP_SIZE_TEST_test = 16\n\nobservation = tmp_env.reset()\nstate_0 = tmp_env.get_1d_state()\ntotal_reward = 0\n\nfor _ in range(STEP_SIZE_TEST_test):\n    tmp_env.render()\n    action = update_action(tmp_env, state_0, explore_rate, Q=Q_test)\n    obv, reward, done, info = tmp_env.step(action)\n    state_1 = tmp_env.get_1d_state()\n\n    # No need to update the Q here\n    state_0 = state_1\n\n    total_reward += reward\n\nprint(f\"Total_reward: \", total_reward)",
            "block_group": "5e1914960ff84b7ca622a7d751dbba28",
            "execution_count": 96,
            "outputs": [
                {
                    "data": {
                        "text/plain": "<Figure size 640x480 with 1 Axes>",
                        "image/png": "[encoded data removed]"
                    },
                    "metadata": {
                        "image/png": {
                            "width": 416,
                            "height": 413
                        }
                    },
                    "output_type": "display_data"
                },
                {
                    "output_type": "error",
                    "ename": "NameError",
                    "evalue": "name 'update_action' is not defined",
                    "traceback": [
                        "\u001b[0;31m---------------------------------------------------------------------------\u001b[0m",
                        "\u001b[0;31mNameError\u001b[0m                                 Traceback (most recent call last)",
                        "Cell \u001b[0;32mIn[96], line 13\u001b[0m\n\u001b[1;32m     11\u001b[0m \u001b[38;5;28;01mfor\u001b[39;00m _ \u001b[38;5;129;01min\u001b[39;00m \u001b[38;5;28mrange\u001b[39m(STEP_SIZE_TEST_test):\n\u001b[1;32m     12\u001b[0m     tmp_env\u001b[38;5;241m.\u001b[39mrender()\n\u001b[0;32m---> 13\u001b[0m     action \u001b[38;5;241m=\u001b[39m \u001b[43mupdate_action\u001b[49m(tmp_env, state_0, explore_rate, Q\u001b[38;5;241m=\u001b[39mQ_test)\n\u001b[1;32m     14\u001b[0m     obv, reward, done, info \u001b[38;5;241m=\u001b[39m tmp_env\u001b[38;5;241m.\u001b[39mstep(action)\n\u001b[1;32m     15\u001b[0m     state_1 \u001b[38;5;241m=\u001b[39m tmp_env\u001b[38;5;241m.\u001b[39mget_1d_state()\n",
                        "\u001b[0;31mNameError\u001b[0m: name 'update_action' is not defined"
                    ]
                }
            ],
            "outputs_reference": "s3:deepnote-cell-outputs-production/eaefa191-8b5a-49b4-abb3-90b476e4a818",
            "content_dependencies": null
        },
        {
            "cell_type": "code",
            "metadata": {
                "id": "LPtt6ZDoPkGx",
                "deepnote_to_be_reexecuted": true,
                "cell_id": "ff6b6ba1e4974799aa7e5e5210c89879",
                "deepnote_cell_type": "code"
            },
            "source": "# the shape of Q table (Q_test)\nprint(Q_test.shape)\nprint(f\"Obs space dimensions :{tmp_env.observation_space.shape}\")",
            "block_group": "999f16dade0d41a4b118ecbaa75006b0",
            "execution_count": null,
            "outputs": [],
            "outputs_reference": null,
            "content_dependencies": null
        },
        {
            "cell_type": "code",
            "metadata": {
                "id": "ou-VGkfDPkGx",
                "deepnote_to_be_reexecuted": true,
                "cell_id": "1e46e92b2a694a0e80c40ba8b2b2b7df",
                "deepnote_cell_type": "code"
            },
            "source": "# print Q_table in \"observation space\" light\nQ_test.argmax(axis=1).reshape(tmp_env.observation_space.shape)",
            "block_group": "d3bb83322fec4823956fba1dff72e971",
            "execution_count": null,
            "outputs": [],
            "outputs_reference": null,
            "content_dependencies": null
        },
        {
            "cell_type": "code",
            "metadata": {
                "id": "fbFTMZue12lQ",
                "deepnote_to_be_reexecuted": true,
                "cell_id": "b0947ee629fa4e82ab7f45cd66f6c38f",
                "deepnote_cell_type": "code"
            },
            "source": "# close the environment\ntmp_env.close()",
            "block_group": "19a0f8ae50cc4a2fa045be1b591b0595",
            "execution_count": null,
            "outputs": [],
            "outputs_reference": null,
            "content_dependencies": null
        },
        {
            "cell_type": "markdown",
            "metadata": {
                "id": "ipz9XhhQ-ZVw",
                "cell_id": "44c980fc3ad74b6d9376b287805b3887",
                "deepnote_cell_type": "markdown"
            },
            "source": "# 2️⃣ Assignment 2: Trondheim treasure hunt!\n",
            "block_group": "c506a0d526664fa5bd69180b97236999"
        },
        {
            "cell_type": "markdown",
            "metadata": {
                "id": "HKV9wMKXPkG2",
                "cell_id": "08b5196326854da5b9ff9d60f2a9c3a9",
                "deepnote_cell_type": "markdown"
            },
            "source": "# 🐔 You are ready for the Trondheim challenge now 💪\n\n*   Task 1: Initialize Q table\n*   Task 2: Write necessary helper functions for Q-learning\n*   Task 3: Play with Hyperparameters\n*   Task 4: Train the agent using Q-learning\n\n\n## **Important Note**:\nFor Task 2, Task 3 and Task 4, you can (re)use the same code as in the Assignment 1.\n**These are mentioned here as the elements of the pipeline.**\n\nMost of the code from Assigment 1 is reusable, we are just using it with different environment here.",
            "block_group": "9469b9c23b9d416393d81ce21764c652"
        },
        {
            "cell_type": "code",
            "metadata": {
                "id": "AZ0DLZ-hPkG2",
                "deepnote_to_be_reexecuted": true,
                "cell_id": "c9c347a7965d443382ece723f982d74e",
                "deepnote_cell_type": "code"
            },
            "source": "# First and important - cleanup!\ntmp_env.close()",
            "block_group": "86d9e5b17c764c5d834dd5f5a6441dfb",
            "execution_count": null,
            "outputs": [],
            "outputs_reference": null,
            "content_dependencies": null
        },
        {
            "cell_type": "code",
            "metadata": {
                "id": "Qv_JAXXIPkG2",
                "deepnote_to_be_reexecuted": true,
                "cell_id": "7c0e509fc6814f57bd02880fcf13a6b4",
                "deepnote_cell_type": "code"
            },
            "source": "# let's configure the environment and see how it looks like\nenv_config = {\n    'env_image_path':'input_images/image_TRD_2.png',\n    'dead_allowed':False,\n    'remove_after_location_found':True,\n    'start_random':False,\n    'number_removable_locations':1,\n}\n\nif not os.path.exists(env_config['env_image_path']):\n  # make sure you have the folder and the image\n  print(f\"Error: The image path {env_config['env_image_path']} does not exist.\")\nelse:\n  # if everything fine, we create the environment\n  tmp_env = TrondheimEnv(conf=env_config)\n  print(f\"Environment successfully created\")",
            "block_group": "d8b6afd02ad6489080f74f3bccfc1bcf",
            "execution_count": null,
            "outputs": [],
            "outputs_reference": null,
            "content_dependencies": null
        },
        {
            "cell_type": "code",
            "metadata": {
                "id": "pvsn6eroPkG2",
                "deepnote_to_be_reexecuted": true,
                "cell_id": "884dc5c0a3664855be25855120963b2a",
                "deepnote_cell_type": "code"
            },
            "source": "tmp_env.reset()\ntmp_env.render()",
            "block_group": "459383b72bce41139863c9a0d0c7745e",
            "execution_count": null,
            "outputs": [],
            "outputs_reference": null,
            "content_dependencies": null
        },
        {
            "cell_type": "code",
            "metadata": {
                "id": "LAC2FRZ5PkG2",
                "deepnote_to_be_reexecuted": true,
                "cell_id": "68affe936e6c41268d09448efcaf9a58",
                "deepnote_cell_type": "code"
            },
            "source": "# select the action here\nmy_action = 'right'\n\n# here is your action\nobs, rew, term, info = tmp_env.step(action_dict[my_action])\nprint(rew)\ntmp_env.render()",
            "block_group": "6ea646cfbd744069846e49f9c3df7c8c",
            "execution_count": null,
            "outputs": [],
            "outputs_reference": null,
            "content_dependencies": null
        },
        {
            "cell_type": "markdown",
            "metadata": {
                "id": "y1NDKIr1PkG3",
                "cell_id": "8f250d798e87486f978e9cee07011e9d",
                "deepnote_cell_type": "markdown"
            },
            "source": "### Task 1: Initialize Q table",
            "block_group": "b96f855b5c0f4e7f8aaa9063a0b14a71"
        },
        {
            "cell_type": "code",
            "metadata": {
                "id": "O94qG1KpPkG3",
                "deepnote_to_be_reexecuted": true,
                "cell_id": "c281a6450daf482398e74f5aaede93f1",
                "deepnote_cell_type": "code"
            },
            "source": "# Task 1: Initialize Q table\n\"\"\"\nTODO: given the environment, initialize the Q table\n\"\"\"\n\n# Tip: pay attention to the dimensions of Q table\n# Tip: how many states the table have, how many actions\n# Extra tip:\n\"\"\"number of states is different here in comparison with first example:\nwe have 2 subcases for this environment:\nwhen Location is there and when it is removed/destroyed\"\"\"\n\nprint(f\"Observation space dimensions:  {tmp_env.observation_space.shape}\")\nprint(f\"Number of possible actions: {tmp_env.action_space.n}\")\n\n# YOUR CODE GOES HERE\n\n\nQ_test = None # you need to initialize Q_test\n#print(Q_test.shape)",
            "block_group": "baf582585bce40f9a8605ba8a2cfe18f",
            "execution_count": null,
            "outputs": [],
            "outputs_reference": null,
            "content_dependencies": null
        },
        {
            "cell_type": "markdown",
            "metadata": {
                "id": "JB2XCe2ePkG3",
                "cell_id": "a491cae2c44043ca8a48a5d91da4b7e2",
                "deepnote_cell_type": "markdown"
            },
            "source": "### Task 2: Write necessary helper functions for Q-learning",
            "block_group": "7818f139ebed496791273cb054ed4481"
        },
        {
            "cell_type": "code",
            "metadata": {
                "id": "WEanCBRQPkG3",
                "deepnote_to_be_reexecuted": true,
                "cell_id": "19599838807d4d25bcfe94c59f5f0abc",
                "deepnote_cell_type": "code"
            },
            "source": "# Task 2: Write necessary helper functions for Q-learning\n# Tip: just use the same helper functions you already implemented above\n\n# YOU DON'T NEED TO DO ANYTHING HERE. They are the same",
            "block_group": "eebede28f5a347f698eef77e73363629",
            "execution_count": null,
            "outputs": [],
            "outputs_reference": null,
            "content_dependencies": null
        },
        {
            "cell_type": "markdown",
            "metadata": {
                "id": "Caf0nsoiPkG3",
                "cell_id": "419a9bba419d455195c2f9edfb818c28",
                "deepnote_cell_type": "markdown"
            },
            "source": "### Task 3: Play with Hyperparameters",
            "block_group": "e6e78cc86e494ecd9c340b484f0062e4"
        },
        {
            "cell_type": "code",
            "metadata": {
                "id": "h52WTqg9PkG3",
                "deepnote_to_be_reexecuted": true,
                "cell_id": "b9aeb8ce2dc0436db3133bd97128c0b3",
                "deepnote_cell_type": "code"
            },
            "source": "# Task 3: Play with Hyperparameters\n# Tip - you can also use the same parameters as for the toy example above\n# YOUR CODE GOES HERE (set the values below)\n\nGAMMA_test = None\nNUM_EPISODES_test = None\nMIN_EXPLORE_RATE_test = None\nMIN_LEARNING_RATE_test = None\nSTEP_SIZE_TEST = None\n# Depending on your parameters for the toy environment, using the same parameters here could work fine\n# if they are not working, you may want to set them to different values here",
            "block_group": "eaa2c914c9034309b5a652a96baa1026",
            "execution_count": null,
            "outputs": [],
            "outputs_reference": null,
            "content_dependencies": null
        },
        {
            "cell_type": "markdown",
            "metadata": {
                "id": "qFNdPJDsPkG3",
                "cell_id": "b7e0873e8cbe4782b393736744008c05",
                "deepnote_cell_type": "markdown"
            },
            "source": "## Now use Q-learning to learn the Q table\n### Task 4: Train the agent using Q-learning",
            "block_group": "c5c82c0e8ed74fa3b6ef96c561ca8b9f"
        },
        {
            "cell_type": "code",
            "metadata": {
                "id": "3S1v2HSXPkG3",
                "deepnote_to_be_reexecuted": true,
                "cell_id": "6ca633bdf9764d949ddfe0a6e5b06b09",
                "deepnote_cell_type": "code"
            },
            "source": "# Task 4: Train the agent using Q-learning on\n# Tip - you can use the same function (or code) that you implemented for simple environment (Assignment 1 Task 4)\n\n# the logic is the same, just the enviroment is different\n# YOUR CODE GOES HERE",
            "block_group": "cfc933abebf0403585b8685f9162f2bc",
            "execution_count": null,
            "outputs": [],
            "outputs_reference": null,
            "content_dependencies": null
        },
        {
            "cell_type": "code",
            "metadata": {
                "id": "2S7gcosOPkG4",
                "deepnote_to_be_reexecuted": true,
                "cell_id": "dc96fdcd00a24163aff6f86bbbcd4273",
                "deepnote_cell_type": "code"
            },
            "source": "print(f\"Total reward after training: {total_reward}, total Explore rate after training: {explore_rate}\")",
            "block_group": "b4ff58bd15a5470fae5efdb9c06fa108",
            "execution_count": null,
            "outputs": [],
            "outputs_reference": null,
            "content_dependencies": null
        },
        {
            "cell_type": "markdown",
            "metadata": {
                "id": "hahegZZqPkG4",
                "cell_id": "8447750a6b2a4289b86cdd1f4b3d2e43",
                "deepnote_cell_type": "markdown"
            },
            "source": "## Let's see one episode",
            "block_group": "dac78af542414aca8132821995a27c1e"
        },
        {
            "cell_type": "code",
            "metadata": {
                "id": "U0DTHl47PkG4",
                "scrolled": false,
                "deepnote_to_be_reexecuted": true,
                "cell_id": "117f64efd38c45ba9f398fd259b140c5",
                "deepnote_cell_type": "code"
            },
            "source": "#now we can show one episode\n\ntmp_env.manual_mode = True # we want to see the messages\nSTEP_SIZE_TEST_test = 45\n\nimage_samples = []  # Array to store images\n\nobservation = tmp_env.reset()\nstate_0 = tmp_env.get_1d_state()\ntotal_reward = 0\n\nfor _ in range(STEP_SIZE_TEST_test):\n    img = tmp_env.render()\n    image_samples.append(img)\n\n    action = update_action(tmp_env, state_0, explore_rate, Q=Q_test)\n    obv, reward, done, info = tmp_env.step(action)\n    state_1 = tmp_env.get_1d_state()\n    state_0 = state_1\n\n    total_reward += reward\n\nprint(f\"Total_reward: \", total_reward)\n# self.observation.shape[0]",
            "block_group": "71bb623778424102856462cb1dc33ef4",
            "execution_count": null,
            "outputs": [],
            "outputs_reference": null,
            "content_dependencies": null
        },
        {
            "cell_type": "markdown",
            "metadata": {
                "id": "fw1c9kfbiUiw",
                "cell_id": "c497d52b223e415eb6464d102b593a74",
                "deepnote_cell_type": "markdown"
            },
            "source": "### Simple animation of agent movement in one episode",
            "block_group": "24b191e07fc04d99bc056eb9eca470b9"
        },
        {
            "cell_type": "code",
            "metadata": {
                "id": "xzKx98oDPkG4",
                "deepnote_to_be_reexecuted": true,
                "cell_id": "1fa236906f614475bd7dbf69395fe64b",
                "deepnote_cell_type": "code"
            },
            "source": "# let's make an animation of this, because it's fun\n# nothing for you to do here - just run the code\n\nimport os\nimport matplotlib.animation as animation\n\nheight = img.shape[0]\nwidth = img.shape[1]\n\noutput_folder = 'output_stuff'\nif not os.path.exists(output_folder):\n    os.makedirs(output_folder)\n\n\nfig = plt.figure()\nimgs = []\nfor i in range(STEP_SIZE_TEST_test):\n    im = plt.imshow(image_samples[i].reshape(height, width, 3), animated=True)\n    imgs.append([im])\n\nanimate = animation.ArtistAnimation(fig, imgs, interval=80, blit=True, repeat_delay=1000)\nfilename_gif = os.path.join(output_folder, 'animation_test.gif')\nanimate.save(filename_gif)\nplt.show()",
            "block_group": "e0b0aed6b74a48859f06eeb65b10a4a6",
            "execution_count": null,
            "outputs": [],
            "outputs_reference": null,
            "content_dependencies": null
        },
        {
            "cell_type": "markdown",
            "source": "<a style='text-decoration:none;line-height:16px;display:flex;color:#5B5B62;padding:10px;justify-content:end;' href='https://deepnote.com?utm_source=created-in-deepnote-cell&projectId=cd10384d-28df-431e-b0f2-62886eff090a' target=\"_blank\">\n<img alt='Created in deepnote.com' style='display:inline;max-height:16px;margin:0px;margin-right:7.5px;' src='data:image/svg+xml;base64,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' > </img>\nCreated in <span style='font-weight:600;margin-left:4px;'>Deepnote</span></a>",
            "metadata": {
                "created_in_deepnote_cell": true,
                "deepnote_cell_type": "markdown"
            }
        }
    ],
    "nbformat": 4,
    "nbformat_minor": 0,
    "metadata": {
        "deepnote_notebook_id": "3f3c926188764580822be3c87908636e"
    }
}