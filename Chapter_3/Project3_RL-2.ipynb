{
    "cells": [
        {
            "cell_type": "markdown",
            "metadata": {
                "cell_id": "539eb6a663f148c8b3648d4c30841fb9",
                "deepnote_cell_type": "markdown",
                "id": "Bb6euaGTtpwB"
            },
            "source": [
                "# **Project 3 - Reinforcement Learning**\n",
                "\n",
                "\n",
                "\n",
                "\n"
            ]
        },
        {
            "cell_type": "markdown",
            "metadata": {
                "cell_id": "1aac8b7f7768453fa7dd37c8ca8280c1",
                "deepnote_cell_type": "markdown",
                "id": "8ECxNoBGPkGr"
            },
            "source": [
                "## 🌞 Mission: Find a secret Location in Trondheim where SkyNets servers are located"
            ]
        },
        {
            "cell_type": "markdown",
            "metadata": {
                "cell_id": "80824d25073c4a33ab70d21d8172f113",
                "deepnote_cell_type": "markdown",
                "id": "daDMCdxyPkGs"
            },
            "source": [
                "📊 **High-level goal:**\n",
                "\n",
                "Train an agent (the “learner”) to interact with given environment and learn from it, so it can maximize its cumulative rewards over time.\n",
                "\n",
                "\n",
                "\n",
                "\n",
                "*   **Environment:**\n",
                "     *   The environment **is already created** and set up for you with the help of\n",
                "\"gymnasium\" library.\n",
                "     *   The agent is interacting with a simulated environment, which has states, accepts actions, and returns rewards. The environment resets at the beginning of each episode, and the agent takes actions within it, receiving feedback in the form of rewards.\n",
                "*   **Q-table:**\n",
                "     *   This table stores information about the \"quality\" of actions in different states.\n",
                "     *   The goal of the agent is to update the Q-table over time to estimate the value of taking different actions in various states.\n",
                "     *   You will initialize and learn Q-table in this project.\n"
            ]
        },
        {
            "cell_type": "markdown",
            "metadata": {
                "cell_id": "ac7567d6c1c245519be2d901ef2dd080",
                "deepnote_cell_type": "markdown",
                "id": "URR74x6gPkGs"
            },
            "source": [
                "## 📮 Imports:"
            ]
        },
        {
            "cell_type": "code",
            "execution_count": 519,
            "metadata": {
                "cell_id": "93330a103fdb47278514898b9b645446",
                "deepnote_cell_type": "code",
                "execution_context_id": "25918dda-8400-4096-8584-354a0a1a97e1",
                "execution_millis": 5958,
                "execution_start": 1761731870490,
                "id": "NtDaL3aL9emb",
                "source_hash": "c956d0be"
            },
            "outputs": [
                {
                    "name": "stdout",
                    "output_type": "stream",
                    "text": [
                        "Defaulting to user installation because normal site-packages is not writeable\n",
                        "Requirement already satisfied: gymnasium in c:\\users\\vetle\\appdata\\roaming\\python\\python313\\site-packages (1.2.1)\n",
                        "Note: you may need to restart the kernel to use updated packages.\n"
                    ]
                },
                {
                    "name": "stderr",
                    "output_type": "stream",
                    "text": [
                        "ERROR: Could not find a version that satisfies the requirement quiet (from versions: none)\n",
                        "\n",
                        "[notice] A new release of pip is available: 25.2 -> 25.3\n",
                        "[notice] To update, run: python.exe -m pip install --upgrade pip\n",
                        "ERROR: No matching distribution found for quiet\n"
                    ]
                },
                {
                    "name": "stdout",
                    "output_type": "stream",
                    "text": [
                        "Defaulting to user installation because normal site-packages is not writeable\n",
                        "Requirement already satisfied: imageio in c:\\users\\vetle\\appdata\\roaming\\python\\python313\\site-packages (2.37.0)\n",
                        "Note: you may need to restart the kernel to use updated packages.\n"
                    ]
                },
                {
                    "name": "stderr",
                    "output_type": "stream",
                    "text": [
                        "ERROR: Could not find a version that satisfies the requirement quiet (from versions: none)\n",
                        "\n",
                        "[notice] A new release of pip is available: 25.2 -> 25.3\n",
                        "[notice] To update, run: python.exe -m pip install --upgrade pip\n",
                        "ERROR: No matching distribution found for quiet\n"
                    ]
                }
            ],
            "source": [
                "%pip install gymnasium -- quiet\n",
                "%pip install imageio -- quiet\n",
                "# import libraries\n",
                "import numpy as np\n",
                "import matplotlib.pyplot as plt\n",
                "import imageio.v3 as iio\n",
                "import random\n",
                "import os\n",
                "\n",
                "# note: make sure to install necessary libraries like imageio, gymnasium etc.\n"
            ]
        },
        {
            "cell_type": "code",
            "execution_count": 520,
            "metadata": {
                "cell_id": "8b58823a51bd4fed92b5a1a5571c2463",
                "deepnote_cell_type": "code",
                "execution_context_id": "25918dda-8400-4096-8584-354a0a1a97e1",
                "execution_millis": 0,
                "execution_start": 1761731876494,
                "id": "Jq1P8fu_itVF",
                "source_hash": "bca8a597"
            },
            "outputs": [],
            "source": [
                "# import gymnasium stuff\n",
                "import gymnasium as gym\n",
                "from gymnasium import error, spaces, utils\n",
                "from gymnasium.utils import seeding\n",
                "from gymnasium.spaces import Discrete, MultiDiscrete"
            ]
        },
        {
            "cell_type": "markdown",
            "metadata": {
                "cell_id": "4be17433bcb14d9ebf8d537884f5b065",
                "deepnote_cell_type": "markdown",
                "id": "4UCkLhnL5hik"
            },
            "source": [
                "### Utility functions are provided for you:\n",
                "\n",
                "\n",
                "*   one_hot_decode\n",
                "*   one_hot_encode\n",
                "*   make_2d\n",
                "*   make_3d\n",
                "*   read_png_file\n",
                "*   is_valid_idx\n",
                "*   flatten_observation\n",
                "*   is_valid_idx\n",
                "*   flatten_observation\n",
                "*   make_2d_observation\n",
                "*   swap_values"
            ]
        },
        {
            "cell_type": "code",
            "execution_count": 521,
            "metadata": {
                "cell_id": "8ce8e67becfa4e1c98721e9798e33c8b",
                "deepnote_cell_type": "code",
                "execution_context_id": "25918dda-8400-4096-8584-354a0a1a97e1",
                "execution_millis": 1,
                "execution_start": 1761731876543,
                "id": "O6bisXF65lHl",
                "source_hash": "9056160b"
            },
            "outputs": [],
            "source": [
                "def one_hot_decode(label_3D):\n",
                "  \"\"\"\n",
                "  Converts back from one-hot encoded format (label_3D)\n",
                "  to original class labels for each pixel (2D)\n",
                "  \"\"\"\n",
                "  return np.argmax(label_3D, axis=-1)\n",
                "\n",
                "def one_hot_encode(label_2D, label_values):\n",
                "    \"\"\"\n",
                "    Converts a segmentation image label array (label_2D) to one-hot format\n",
                "    by replacing each pixel value with a vector of length num_classes\n",
                "    # Arguments\n",
                "        label_2D: The 2D array segmentation image label\n",
                "        label_values: an RGB array of classes (num_classes, 3)\n",
                "\n",
                "    # Returns\n",
                "        A 3D array with the same width and height as the input,\n",
                "        but with a depth size of num_classes (for each pixel)\n",
                "\n",
                "        Each class gets its own encoding for every pixel in the image.\n",
                "        Encodings are then stacked along new axis which is number of classes\n",
                "    \"\"\"\n",
                "    semantic_map = []\n",
                "    for colour in label_values:\n",
                "        equality = np.equal(label_2D, colour)\n",
                "        class_map = np.all(equality, axis=-1)\n",
                "        semantic_map.append(class_map)\n",
                "    semantic_map = np.stack(semantic_map, axis=-1)\n",
                "\n",
                "    return semantic_map\n",
                "\n",
                "def make_2d(map_3d=None, palette_array=None):\n",
                "    \"\"\"\n",
                "    Converts RGB images to images with number of class as value at [i,j]\n",
                "\n",
                "    map_3d: 3D RGB image (H, W, n_ch = 3)\n",
                "    palette_array: an RGB array of classes (num_classes, 3)\n",
                "\n",
                "    Result: 2D structure where each \"pixel\" in the image\n",
                "    has a class number instead of RGB color\n",
                "    \"\"\"\n",
                "    # here we make 3D representation, 3rd dimension has one-hot encoded classes\n",
                "    replaced_image_onehot = one_hot_encode(\n",
                "        map_3d.astype(np.uint8), palette_array) # size (H, W, num_classes)\n",
                "    # we create 2D representation, where every pixel has the value of its class\n",
                "    return one_hot_decode(replaced_image_onehot) # size (H, W) - 2D\n",
                "\n",
                "def make_3d(map_2d=None, palette_array=None):\n",
                "    \"\"\"\n",
                "    Convert a 2d img to 3d\n",
                "    Convert a 2D image where each pixel represents a class label\n",
                "    into a 3D image where each class label is represented\n",
                "    by its corresponding RGB color from the palette_array.\n",
                "    Creates colorized 3D image from the original 2D class map\n",
                "\n",
                "    map_2d: array of class labels, size (H, W)\n",
                "    palette_array: an RGB array of classes (num_classes, 3)\n",
                "\n",
                "    Result: RGB image (H, W, 3)\n",
                "    \"\"\"\n",
                "    return palette_array[map_2d.astype(np.uint8)]\n",
                "\n",
                "\n",
                "def read_png_file(image_path, printDebug = True):\n",
                "    \"\"\"\n",
                "    read a png file and returns it as a 3D numpy array\n",
                "    \"\"\"\n",
                "    original_image_matrix = iio.imread(image_path)\n",
                "\n",
                "    if original_image_matrix.ndim > 2 and original_image_matrix.shape[-1] > 3:\n",
                "        if printDebug:\n",
                "            print(f'image has more than 3 channels, only first 3 channels are used there are {original_image_matrix.shape} channels')\n",
                "        original_image_matrix = original_image_matrix[:, :, :3]\n",
                "    return original_image_matrix\n",
                "\n",
                "def is_valid_idx(image_2D, selected_idx):\n",
                "    \"\"\"\n",
                "    Checks if a given index is within the valid range of a 2D array\n",
                "\n",
                "    if selected_idx is valid in image_2D\n",
                "    selected_idx = [i,j]\n",
                "    image_2D = [h,w]\n",
                "      \"\"\"\n",
                "    if selected_idx[0] < 0 or selected_idx[1] < 0:\n",
                "        return False\n",
                "    if selected_idx[0] < image_2D.shape[0]:\n",
                "        if selected_idx[1] < image_2D.shape[1]:\n",
                "            return True\n",
                "    return False\n",
                "\n",
                "def flatten_observation(observation_arr):\n",
                "    \"\"\"\n",
                "    Converts/flattens a multi-dimensional array into a 1D array\n",
                "    \"\"\"\n",
                "    return observation_arr.flatten\n",
                "\n",
                "\n",
                "def make_2d_observation(observation_flattened, observation_arr_shape):\n",
                "    \"\"\"\n",
                "    Converts flattened array into shape observation_arr_shape\n",
                "    \"\"\"\n",
                "    return observation_flattened.reshape(observation_arr_shape.shape)\n",
                "\n",
                "def swap_values(arr, value1, value2):\n",
                "    \"\"\"\n",
                "    Swaps occurencies of two specific values (value1 and value2)\n",
                "    within a 2D NumPy array (arr).\n",
                "\n",
                "    arr: A 2D NumPy array where we want to swap the values\n",
                "    value1: the first value that we want to swap with value2\n",
                "    value2: the second value that we want to swap with value1\n",
                "\n",
                "    Returns: 2D array with swapped values\n",
                "    \"\"\"\n",
                "\n",
                "    # Ensure the values are integers\n",
                "    value1, value2 = int(value1), int(value2)\n",
                "\n",
                "    # Step 1: Find the first position of value1 and change it to value2\n",
                "    pos_value1 = np.argwhere(arr == value1) # returns 2D array\n",
                "    if pos_value1.size > 0:\n",
                "        arr[pos_value1[0][0], pos_value1[0][1]] = value2\n",
                "\n",
                "    # Step 2: Get all positions of value2\n",
                "    pos_value2 = np.argwhere(arr == value2) # returns 2D array\n",
                "\n",
                "    # Step 3: Randomly select a position of value2 that is not the original value1's position\n",
                "    if len(pos_value2) > 1:\n",
                "        # filter out the position of former value1 (pos_value1) which now also contains value2\n",
                "        pos_value2 = pos_value2[np.all(pos_value2 != pos_value1[0], axis=1)]\n",
                "        if pos_value2.size > 0:\n",
                "            random_pos_value2 = pos_value2[np.random.choice(len(pos_value2))]\n",
                "            arr[random_pos_value2[0], random_pos_value2[1]] = value1\n",
                "\n",
                "    return arr"
            ]
        },
        {
            "cell_type": "markdown",
            "metadata": {
                "cell_id": "0c4c1c3334ff4053b26ecabcdceba815",
                "deepnote_cell_type": "markdown",
                "id": "I95zkEvIPkGt"
            },
            "source": [
                "### Environment class with necessary functions - provided for you:\n",
                "\n",
                "\n",
                "*   constructor __init__\n",
                "*   step\n",
                "*   reset\n",
                "*   get_1d_state\n",
                "*   render\n",
                "*   close\n"
            ]
        },
        {
            "cell_type": "code",
            "execution_count": 522,
            "metadata": {
                "cell_id": "745f767d1f4149318c185f107831415b",
                "deepnote_cell_type": "code",
                "execution_context_id": "25918dda-8400-4096-8584-354a0a1a97e1",
                "execution_millis": 1,
                "execution_start": 1761731876603,
                "id": "s6TWGiuXth-H",
                "source_hash": "9e987f1d"
            },
            "outputs": [],
            "source": [
                "class TrondheimEnv(gym.Env):\n",
                "    metadata = {'render.modes': ['human']}\n",
                "\n",
                "    def __init__(self, conf):\n",
                "        \"\"\"\n",
                "        Every environment should be derived from gym.Env and at least contain\n",
                "        variables observation_space and action_space specifying the type of possible\n",
                "        observations and actions using spaces.Box or spaces.Discrete.\n",
                "\n",
                "        Example:\n",
                "        >>> EnvTest = TrondheimEnv()\n",
                "        >>> EnvTest.observation_space=spaces.Box(low=-1, high=1, shape=(3,4))\n",
                "        >>> EnvTest.action_space=spaces.Discrete(2)\n",
                "        \"\"\"\n",
                "\n",
                "        self.manual_mode = True  # Flag to control printouts\n",
                "\n",
                "        # action definition:\n",
                "        number_action = 4\n",
                "        self.action_space = Discrete(number_action)\n",
                "\n",
                "        self.env_image_path = conf['env_image_path']\n",
                "        self.number_removable_locations = conf['number_removable_locations']\n",
                "\n",
                "        self.pallete = np.array([[0, 0, 255],    # Blue:0:Water\n",
                "                            [255, 255, 0],  # Yellow:1:Start\n",
                "                            [0, 255, 0],    # Green:2:Land\n",
                "                            [255, 0, 0],    # Red:3:BusLane\n",
                "                            [128, 0, 128],  # Purple:4:BusStop\n",
                "                            [0,   0,   0],  # Black:5:Secret Location\n",
                "                            [128, 128, 0]], # Olive:6:Final Location\n",
                "                           dtype=np.uint8)\n",
                "\n",
                "        self.neighbours = np.array([[-1,0],[0,-1],[1,0],[0,1]]) # up, left, down, right\n",
                "        self.not_allowed_area = [0] # water\n",
                "        self.normal_land_class = 2 # land\n",
                "        self.neutral_area = [self.normal_land_class,3] # land and BusLane\n",
                "        self.start_class = 1 # start\n",
                "        self.busstop_class = 4 # bus stop\n",
                "        self.secret_location_class = 5 # secret location\n",
                "        self.final_location_class = 6 # final location (2)\n",
                "\n",
                "        # does agent die when enter not_allowed_area\n",
                "        self.dead_allowed = conf['dead_allowed']\n",
                "        # does shops closed after the first purchase\n",
                "        self.remove_after_location_found = conf['remove_after_location_found']\n",
                "        # should we start at different place each time\n",
                "        self.start_random = conf['start_random']\n",
                "\n",
                "        # read RGB image into a 3D numpy array\n",
                "        img_3d = read_png_file(self.env_image_path, printDebug = False)\n",
                "\n",
                "        # convert RGB image into 2D semantic class representation\n",
                "        img_2d = make_2d(map_3d=img_3d,\n",
                "                         palette_array=self.pallete)\n",
                "\n",
                "        # the current state of the environment\n",
                "        self.observation = img_2d # initial observation - 2D semantic class\n",
                "        # copy of the environment's initial state before any actions have been taken\n",
                "        self.initial_observation = img_2d.copy()\n",
                "\n",
                "        max_observation_value = np.max(img_2d)\n",
                "        # assert isinstance(max_observation_value, int)\n",
                "        # can be used, not needed for this implementation\n",
                "        # observation space is a gym object (MultiDiscrete), like numpy array. It can be sampled\n",
                "        observation_space = np.full_like(img_2d,\n",
                "                                         fill_value=max_observation_value)\n",
                "        self.observation_space = MultiDiscrete(observation_space)\n",
                "\n",
                "        # rewards\n",
                "        self.reward = 0\n",
                "\n",
                "        # done\n",
                "        self.done = False\n",
                "\n",
                "        # terminated\n",
                "        self.terminated = False\n",
                "\n",
                "\n",
                "\n",
                "\n",
                "    def step(self, action):\n",
                "        \"\"\"\n",
                "        This method is the primary interface between environment and agent.\n",
                "\n",
                "        Parameters:\n",
                "            action: int\n",
                "                    the index of the respective action (if action space is discrete)\n",
                "\n",
                "        Returns:\n",
                "            output: (array, float, bool, info)\n",
                "                    information provided by the environment about its current state:\n",
                "                    (observation, reward, done)\n",
                "\n",
                "                    self.observation: The updated state of the environment (2D)\n",
                "                    reward: Reward agent received for the action in this step (Int)\n",
                "                    terminated: indicate if the episode has ended (Bool)\n",
                "                    info: Additional information (not used currently)\n",
                "\n",
                "        \"\"\"\n",
                "        obs = self.observation # 2D array of semantic class image representation\n",
                "        terminated = False\n",
                "        truncated = False\n",
                "        info = None\n",
                "\n",
                "        # just start and see where it goes\n",
                "        start_idx = np.argwhere(obs == self.start_class)[0]\n",
                "        # action is: 0:up, 1:left, 2:down, 3:right\n",
                "        next_idx = start_idx + self.neighbours[action]\n",
                "        reward = self.reward\n",
                "        if self.manual_mode:\n",
                "          print('Next step towards: ')\n",
                "\n",
                "        if not is_valid_idx(image_2D=obs, selected_idx=next_idx):\n",
                "            next_idx = start_idx\n",
                "            if self.manual_mode:\n",
                "                print('Hey there, you cannot escape outside of the environment')\n",
                "\n",
                "        # now decide what happens next\n",
                "\n",
                "        if obs[tuple(next_idx)] == self.normal_land_class:\n",
                "            if self.manual_mode:\n",
                "                print('Green Land class area')\n",
                "\n",
                "        # check if it is a non allowed area\n",
                "        if obs[tuple(next_idx)] in self.not_allowed_area:\n",
                "            if self.manual_mode:\n",
                "                print('The move is not allowed')\n",
                "            if self.dead_allowed:\n",
                "                # penalize the agent if allowed to die. Terminate\n",
                "                reward = -1000\n",
                "                terminated = True\n",
                "            else:\n",
                "                # if NOT allowed to die, reset the next position to current one - prevent the move\n",
                "                next_idx = start_idx\n",
                "\n",
                "\n",
                "        # if the player is in bus stup\n",
                "        elif obs[tuple(next_idx)] == self.busstop_class:\n",
                "            if self.manual_mode:\n",
                "                print('A bus stop')\n",
                "\n",
                "            # get the bus stop that is not the next step\n",
                "            bus_stop_indices = np.argwhere(obs == self.busstop_class)\n",
                "            # flip the next state to the other side of the stop\n",
                "            if np.array_equal(next_idx, bus_stop_indices[0]):\n",
                "                # teleport the agent from bus stop 0 to bus stop 1\n",
                "                next_idx = bus_stop_indices[1]\n",
                "            else:\n",
                "                # teleport the agent from bus stop 1 to bus stop 0\n",
                "                next_idx = bus_stop_indices[0]\n",
                "\n",
                "        # if it is Secret Location\n",
                "        elif obs[tuple(next_idx)] == self.secret_location_class:\n",
                "            if self.manual_mode:\n",
                "                print('Central Source Secret Location')\n",
                "            reward = 300\n",
                "            # close the shop (remove from the map)\n",
                "            if self.remove_after_location_found:\n",
                "                self.initial_observation[tuple(next_idx)] = self.normal_land_class\n",
                "                self.number_removed_shop += 1\n",
                "                reward = 9000\n",
                "\n",
                "        # and the Final Location\n",
                "        elif obs[tuple(next_idx)] == self.final_location_class:\n",
                "            if self.manual_mode:\n",
                "                print('Final Location - well done!')\n",
                "                print('You have discovered the Final Location of AI center in Trondheim')\n",
                "            reward = 200\n",
                "\n",
                "\n",
                "        # now we need to change the observation space\n",
                "        # i.e. update the environment’s state to reflect the agent's movement\n",
                "\n",
                "        # if agent’s current position was initial start position\n",
                "        if self.initial_observation[tuple(start_idx)] == self.start_class:\n",
                "            # if true, update observation - mark the start position as neutral area\n",
                "            self.observation[tuple(start_idx)] = self.normal_land_class\n",
                "        else:\n",
                "            # if current position not the initial start one\n",
                "            # restores position in self.observation to its original value from self.initial_observation\n",
                "            # re-color the observation as where you were if not start position\n",
                "            self.observation[tuple(start_idx)] = self.initial_observation[tuple(start_idx)]\n",
                "\n",
                "        # sets the new position of the agent as the next start position\n",
                "        self.observation[tuple(next_idx)] = self.start_class\n",
                "\n",
                "        return self.observation, reward, terminated, info\n",
                "\n",
                "\n",
                "    def reset(self):\n",
                "        \"\"\"\n",
                "        This method resets the environment to its initial values.\n",
                "\n",
                "        Returns:\n",
                "            observation:    array\n",
                "                            the initial state of the environment\n",
                "        \"\"\"\n",
                "        self.number_removed_shop = 0\n",
                "\n",
                "        img_3d = read_png_file(self.env_image_path, printDebug = False)\n",
                "        img_2d = make_2d(map_3d=img_3d,\n",
                "                         palette_array=self.pallete)\n",
                "\n",
                "        if self.start_random:\n",
                "          # we need to move the start to another place\n",
                "          img_2d = swap_values(arr=img_2d,\n",
                "                               value1=1,\n",
                "                               value2=2)\n",
                "\n",
                "        self.observation = img_2d\n",
                "        self.initial_observation = img_2d.copy()\n",
                "\n",
                "        max_observation_value = np.max(img_2d)\n",
                "        observation_space = np.full_like(img_2d,\n",
                "                                         fill_value=max_observation_value)\n",
                "        self.observation_space = MultiDiscrete(observation_space)\n",
                "\n",
                "        # rewards\n",
                "        self.reward = 0\n",
                "\n",
                "        # done\n",
                "        self.done = False\n",
                "\n",
                "        # terminated\n",
                "        self.terminated = False\n",
                "\n",
                "        return self.observation\n",
                "\n",
                "\n",
                "    def get_1d_state(self):\n",
                "        \"\"\"\n",
                "        This function returns state as 1d observation\n",
                "        \"\"\"\n",
                "        max_x = self.observation.shape[0]\n",
                "        max_y = self.observation.shape[1]\n",
                "\n",
                "        start_idx = np.argwhere(\n",
                "            self.observation == self.start_class)[0]\n",
                "        state_number = (\n",
                "            start_idx[0] * max_x) + start_idx[1]\n",
                "        state_number = (self.number_removed_shop * max_x * max_y) + state_number\n",
                "        return state_number\n",
                "\n",
                "    def render(self, mode='human', close=False):\n",
                "        \"\"\"\n",
                "        This methods provides the option to render the environment's behavior to a\n",
                "        window which should be readable to the human eye if mode is set to 'human'.\n",
                "        \"\"\"\n",
                "        render_ready_arr = make_3d(map_2d=self.observation,\n",
                "                                   palette_array=self.pallete)\n",
                "        plt.imshow(render_ready_arr)\n",
                "        plt.show()\n",
                "        plt.close()\n",
                "        return render_ready_arr\n",
                "\n",
                "    def close(self):\n",
                "        \"\"\"\n",
                "        This method provides the user with the option to perform necessary\n",
                "        cleanup.\n",
                "        \"\"\"\n",
                "        img_3d = read_png_file(self.env_image_path)\n",
                "        img_2d = make_2d(map_3d=img_3d,\n",
                "                         palette_array=self.pallete)\n",
                "        self.observation = img_2d\n",
                "        self.initial_observation = img_2d.copy()\n"
            ]
        },
        {
            "cell_type": "code",
            "execution_count": 523,
            "metadata": {
                "cell_id": "b4933b85f02346cba99aac706970364f",
                "deepnote_cell_type": "code",
                "execution_context_id": "25918dda-8400-4096-8584-354a0a1a97e1",
                "execution_millis": 17,
                "execution_start": 1761731876653,
                "id": "oYWhRI2VygG9",
                "source_hash": "27d1c183"
            },
            "outputs": [],
            "source": [
                "# let's make sure to create subfolder for our input images, if not already there\n",
                "input_folder = 'input_images'\n",
                "if not os.path.exists(input_folder):\n",
                "    os.makedirs(input_folder)"
            ]
        },
        {
            "cell_type": "markdown",
            "metadata": {
                "cell_id": "b98d57260f3f4f6b8e758aca6c3727e8",
                "deepnote_cell_type": "markdown",
                "id": "LESqxWq8PkGu"
            },
            "source": [
                "# Configuring and loading the environment:"
            ]
        },
        {
            "cell_type": "markdown",
            "metadata": {
                "cell_id": "2da99cbe2dd647aa94d4112773f0108f",
                "deepnote_cell_type": "markdown",
                "id": "aPy3pcnbPkGu"
            },
            "source": [
                "## 🔎📉  Let's first visualize our simple toy environment"
            ]
        },
        {
            "cell_type": "code",
            "execution_count": 524,
            "metadata": {
                "cell_id": "e71a4b6eae634b8580275c7dfaf79c06",
                "deepnote_cell_type": "code",
                "execution_context_id": "25918dda-8400-4096-8584-354a0a1a97e1",
                "execution_millis": 238,
                "execution_start": 1761731876734,
                "id": "HEmdFlf2PkGu",
                "source_hash": "11651609"
            },
            "outputs": [
                {
                    "name": "stdout",
                    "output_type": "stream",
                    "text": [
                        "Environment successfully created\n"
                    ]
                }
            ],
            "source": [
                "# This is how you create a configuration for the environment\n",
                "# Note: make sure that folder input_images is created\n",
                "# Note 2: make sure you copy necessary input images there\n",
                "\n",
                "env_config = {\n",
                "    'env_image_path':'input_images/image_simple_1.png',\n",
                "    'dead_allowed':False,\n",
                "    'remove_after_location_found':False,\n",
                "    'start_random':False,\n",
                "    'number_removable_locations':0,\n",
                "}\n",
                "\n",
                "\n",
                "if not os.path.exists(env_config['env_image_path']):\n",
                "  # make sure you have the folder and the image\n",
                "  print(f\"Error: The image path {env_config['env_image_path']} does not exist.\")\n",
                "else:\n",
                "  # if everything fine, we create the environment\n",
                "  tmp_env = TrondheimEnv(conf=env_config)\n",
                "  print(f\"Environment successfully created\")"
            ]
        },
        {
            "cell_type": "code",
            "execution_count": 525,
            "metadata": {
                "cell_id": "e1d224933fb64508a3d1c60d2ddd310a",
                "deepnote_cell_type": "code",
                "execution_context_id": "25918dda-8400-4096-8584-354a0a1a97e1",
                "execution_millis": 484,
                "execution_start": 1761731877023,
                "id": "_clXneCvPkGu",
                "source_hash": "62718f3d"
            },
            "outputs": [
                {
                    "data": {
                        "image/png": "[encoded data removed]",
                        "text/plain": [
                            "<Figure size 640x480 with 1 Axes>"
                        ]
                    },
                    "metadata": {},
                    "output_type": "display_data"
                },
                {
                    "data": {
                        "text/plain": [
                            "array([[[  0, 255,   0],\n",
                            "        [  0, 255,   0],\n",
                            "        [  0, 255,   0],\n",
                            "        [  0, 255,   0],\n",
                            "        [  0, 255,   0],\n",
                            "        [  0, 255,   0],\n",
                            "        [  0, 255,   0],\n",
                            "        [  0, 255,   0],\n",
                            "        [  0, 255,   0],\n",
                            "        [  0, 255,   0],\n",
                            "        [  0, 255,   0],\n",
                            "        [  0, 255,   0]],\n",
                            "\n",
                            "       [[  0, 255,   0],\n",
                            "        [  0, 255,   0],\n",
                            "        [  0, 255,   0],\n",
                            "        [  0, 255,   0],\n",
                            "        [  0, 255,   0],\n",
                            "        [  0, 255,   0],\n",
                            "        [  0, 255,   0],\n",
                            "        [  0, 255,   0],\n",
                            "        [  0, 255,   0],\n",
                            "        [  0, 255,   0],\n",
                            "        [  0, 255,   0],\n",
                            "        [  0, 255,   0]],\n",
                            "\n",
                            "       [[  0, 255,   0],\n",
                            "        [  0, 255,   0],\n",
                            "        [  0, 255,   0],\n",
                            "        [  0, 255,   0],\n",
                            "        [  0, 255,   0],\n",
                            "        [  0, 255,   0],\n",
                            "        [  0, 255,   0],\n",
                            "        [  0, 255,   0],\n",
                            "        [  0, 255,   0],\n",
                            "        [  0, 255,   0],\n",
                            "        [  0, 255,   0],\n",
                            "        [  0, 255,   0]],\n",
                            "\n",
                            "       [[  0, 255,   0],\n",
                            "        [  0, 255,   0],\n",
                            "        [  0, 255,   0],\n",
                            "        [  0, 255,   0],\n",
                            "        [  0, 255,   0],\n",
                            "        [  0, 255,   0],\n",
                            "        [  0, 255,   0],\n",
                            "        [  0, 255,   0],\n",
                            "        [  0, 255,   0],\n",
                            "        [  0, 255,   0],\n",
                            "        [  0, 255,   0],\n",
                            "        [  0, 255,   0]],\n",
                            "\n",
                            "       [[  0, 255,   0],\n",
                            "        [  0, 255,   0],\n",
                            "        [  0, 255,   0],\n",
                            "        [  0, 255,   0],\n",
                            "        [  0, 255,   0],\n",
                            "        [  0, 255,   0],\n",
                            "        [  0, 255,   0],\n",
                            "        [  0, 255,   0],\n",
                            "        [  0, 255,   0],\n",
                            "        [  0, 255,   0],\n",
                            "        [  0, 255,   0],\n",
                            "        [  0, 255,   0]],\n",
                            "\n",
                            "       [[  0, 255,   0],\n",
                            "        [  0, 255,   0],\n",
                            "        [  0, 255,   0],\n",
                            "        [  0, 255,   0],\n",
                            "        [  0, 255,   0],\n",
                            "        [  0, 255,   0],\n",
                            "        [  0,   0,   0],\n",
                            "        [  0, 255,   0],\n",
                            "        [  0, 255,   0],\n",
                            "        [  0, 255,   0],\n",
                            "        [  0, 255,   0],\n",
                            "        [  0, 255,   0]],\n",
                            "\n",
                            "       [[  0, 255,   0],\n",
                            "        [  0, 255,   0],\n",
                            "        [  0, 255,   0],\n",
                            "        [  0, 255,   0],\n",
                            "        [  0, 255,   0],\n",
                            "        [  0, 255,   0],\n",
                            "        [  0, 255,   0],\n",
                            "        [  0, 255,   0],\n",
                            "        [  0, 255,   0],\n",
                            "        [  0, 255,   0],\n",
                            "        [  0, 255,   0],\n",
                            "        [  0, 255,   0]],\n",
                            "\n",
                            "       [[  0, 255,   0],\n",
                            "        [  0, 255,   0],\n",
                            "        [  0, 255,   0],\n",
                            "        [  0, 255,   0],\n",
                            "        [  0, 255,   0],\n",
                            "        [  0, 255,   0],\n",
                            "        [  0, 255,   0],\n",
                            "        [  0, 255,   0],\n",
                            "        [  0, 255,   0],\n",
                            "        [  0, 255,   0],\n",
                            "        [  0, 255,   0],\n",
                            "        [  0, 255,   0]],\n",
                            "\n",
                            "       [[  0, 255,   0],\n",
                            "        [  0, 255,   0],\n",
                            "        [  0, 255,   0],\n",
                            "        [  0, 255,   0],\n",
                            "        [  0, 255,   0],\n",
                            "        [  0, 255,   0],\n",
                            "        [  0, 255,   0],\n",
                            "        [  0, 255,   0],\n",
                            "        [  0, 255,   0],\n",
                            "        [  0, 255,   0],\n",
                            "        [  0, 255,   0],\n",
                            "        [  0, 255,   0]],\n",
                            "\n",
                            "       [[  0, 255,   0],\n",
                            "        [  0, 255,   0],\n",
                            "        [  0, 255,   0],\n",
                            "        [  0, 255,   0],\n",
                            "        [  0, 255,   0],\n",
                            "        [  0, 255,   0],\n",
                            "        [  0, 255,   0],\n",
                            "        [  0, 255,   0],\n",
                            "        [  0, 255,   0],\n",
                            "        [  0, 255,   0],\n",
                            "        [  0, 255,   0],\n",
                            "        [  0, 255,   0]],\n",
                            "\n",
                            "       [[  0, 255,   0],\n",
                            "        [  0, 255,   0],\n",
                            "        [  0, 255,   0],\n",
                            "        [  0, 255,   0],\n",
                            "        [  0, 255,   0],\n",
                            "        [  0, 255,   0],\n",
                            "        [  0, 255,   0],\n",
                            "        [  0, 255,   0],\n",
                            "        [  0, 255,   0],\n",
                            "        [  0, 255,   0],\n",
                            "        [255, 255,   0],\n",
                            "        [  0, 255,   0]],\n",
                            "\n",
                            "       [[  0, 255,   0],\n",
                            "        [  0, 255,   0],\n",
                            "        [  0, 255,   0],\n",
                            "        [  0, 255,   0],\n",
                            "        [  0, 255,   0],\n",
                            "        [  0, 255,   0],\n",
                            "        [  0, 255,   0],\n",
                            "        [  0, 255,   0],\n",
                            "        [  0, 255,   0],\n",
                            "        [  0, 255,   0],\n",
                            "        [  0, 255,   0],\n",
                            "        [  0, 255,   0]]], dtype=uint8)"
                        ]
                    },
                    "execution_count": 525,
                    "metadata": {},
                    "output_type": "execute_result"
                }
            ],
            "source": [
                "# visualize the environment. Yellow is where we are, Black is where we want to go\n",
                "tmp_env.reset()\n",
                "tmp_env.render()"
            ]
        },
        {
            "cell_type": "markdown",
            "metadata": {
                "cell_id": "d0ac2c04852246909a54656881bad0f2",
                "deepnote_cell_type": "markdown",
                "id": "XVfyvoCRPkGv"
            },
            "source": [
                "Let's see how actions work:"
            ]
        },
        {
            "cell_type": "code",
            "execution_count": 526,
            "metadata": {
                "cell_id": "b0558429ac354c7cac54cebf71008674",
                "deepnote_cell_type": "code",
                "execution_context_id": "25918dda-8400-4096-8584-354a0a1a97e1",
                "execution_millis": 0,
                "execution_start": 1761731877563,
                "id": "S22Lbe8OPkGv",
                "source_hash": "ddac327d"
            },
            "outputs": [],
            "source": [
                "action_dict = {\n",
                "    'up':0,\n",
                "    'left':1,\n",
                "    'down':2,\n",
                "    'right':3,\n",
                "}"
            ]
        },
        {
            "cell_type": "code",
            "execution_count": 527,
            "metadata": {
                "cell_id": "f1c396ed3ea34af7b02773c1e3fd262d",
                "deepnote_cell_type": "code",
                "execution_context_id": "25918dda-8400-4096-8584-354a0a1a97e1",
                "execution_millis": 108,
                "execution_start": 1761734831927,
                "id": "1wUXsfWIPkGv",
                "source_hash": "ad313cff"
            },
            "outputs": [
                {
                    "name": "stdout",
                    "output_type": "stream",
                    "text": [
                        "Next step towards: \n",
                        "Green Land class area\n",
                        "Reward for action up is: 0\n"
                    ]
                },
                {
                    "data": {
                        "image/png": "[encoded data removed]",
                        "text/plain": [
                            "<Figure size 640x480 with 1 Axes>"
                        ]
                    },
                    "metadata": {},
                    "output_type": "display_data"
                },
                {
                    "name": "stdout",
                    "output_type": "stream",
                    "text": [
                        "Observation space looks like this:\n",
                        "[[2 2 2 2 2 2 2 2 2 2 2 2]\n",
                        " [2 2 2 2 2 2 2 2 2 2 2 2]\n",
                        " [2 2 2 2 2 2 2 2 2 2 2 2]\n",
                        " [2 2 2 2 2 2 2 2 2 2 2 2]\n",
                        " [2 2 2 2 2 2 2 2 2 2 2 2]\n",
                        " [2 2 2 2 2 2 5 2 2 2 2 2]\n",
                        " [2 2 2 2 2 2 2 2 2 2 2 2]\n",
                        " [2 2 2 2 2 2 2 2 2 2 2 2]\n",
                        " [2 2 2 2 2 2 2 2 2 2 2 2]\n",
                        " [2 2 2 2 2 2 2 2 2 2 1 2]\n",
                        " [2 2 2 2 2 2 2 2 2 2 2 2]\n",
                        " [2 2 2 2 2 2 2 2 2 2 2 2]]\n",
                        "Observation length is: 144\n"
                    ]
                }
            ],
            "source": [
                "# select your action here\n",
                "# you are encouraged to play further with this\n",
                "my_action = 'up'\n",
                "\n",
                "# now take a step through the environment by taking this action\n",
                "obs, rew, term, info = tmp_env.step(action_dict[my_action])\n",
                "print(f\"Reward for action {my_action} is: {rew}\")\n",
                "tmp_env.render()\n",
                "\n",
                "print(f\"Observation space looks like this:\\n{obs}\")\n",
                "print(f\"Observation length is: {obs.size}\")"
            ]
        },
        {
            "cell_type": "markdown",
            "metadata": {
                "cell_id": "7c8f2413f5104502a893503fbf0640e3",
                "deepnote_cell_type": "markdown",
                "id": "_BKNX9F4PkGv"
            },
            "source": [
                "# 🧠 **Your Assignments**"
            ]
        },
        {
            "cell_type": "markdown",
            "metadata": {
                "cell_id": "aca7abf100d64c029579681d7fe2adc8",
                "deepnote_cell_type": "markdown",
                "id": "BpfZYKmOPkGv"
            },
            "source": [
                "# 1️⃣ Assignment 1: Q-learning with simple toy environment"
            ]
        },
        {
            "cell_type": "markdown",
            "metadata": {
                "cell_id": "eb1805166f9648ebb0993fde48fed465",
                "deepnote_cell_type": "markdown",
                "id": "CvG3QGzTPkGv"
            },
            "source": [
                "## 🐣 Let's learn how to do this in a simple environment\n",
                "\n",
                "\n",
                "*   Task 1: Initialize Q table\n",
                "*   Task 2: Write necessary helper functions for Q-learning\n",
                "*   Task 3: Play with Hyperparameters\n",
                "*   Task 4: Train the agent using Q-learning\n",
                "\n",
                "**Note**: Task 2, Task 3 and Task 4: you will use the same code you implemented for these in the Assignment 2."
            ]
        },
        {
            "cell_type": "code",
            "execution_count": 528,
            "metadata": {
                "cell_id": "b21222f4823741c9b54e9a8fb5a10457",
                "deepnote_cell_type": "code",
                "execution_context_id": "25918dda-8400-4096-8584-354a0a1a97e1",
                "execution_millis": 309,
                "execution_start": 1761731961443,
                "id": "gdWAfr8fPkGv",
                "source_hash": "2b1cd628"
            },
            "outputs": [
                {
                    "name": "stdout",
                    "output_type": "stream",
                    "text": [
                        "Environment successfully created\n"
                    ]
                }
            ],
            "source": [
                "# Environment is set up for you here\n",
                "env_config = {\n",
                "    'env_image_path':'input_images/image_simple_1.png',\n",
                "    'dead_allowed':False,\n",
                "    'remove_after_location_found':False,\n",
                "    'start_random':False,\n",
                "    'number_removable_locations':0,\n",
                "}\n",
                "\n",
                "if not os.path.exists(env_config['env_image_path']):\n",
                "  # make sure you have the folder and the image\n",
                "  print(f\"Error: The image path {env_config['env_image_path']} does not exist.\")\n",
                "else:\n",
                "  # if everything fine, we create the environment\n",
                "  tmp_env = TrondheimEnv(conf=env_config)\n",
                "  print(f\"Environment successfully created\")"
            ]
        },
        {
            "cell_type": "markdown",
            "metadata": {
                "cell_id": "d521f145b28a4f96a0739827fc85c921",
                "deepnote_cell_type": "markdown",
                "id": "0PT6w7C-PkGw"
            },
            "source": [
                "### Task 1: Initialize Q table"
            ]
        },
        {
            "cell_type": "code",
            "execution_count": 529,
            "metadata": {
                "cell_id": "7a5b6f631ca04584bfd3c5bfbadfe97e",
                "deepnote_cell_type": "code",
                "execution_context_id": "25918dda-8400-4096-8584-354a0a1a97e1",
                "execution_millis": 0,
                "execution_start": 1761733044803,
                "id": "guc-6hxaPkGw",
                "source_hash": "5bed9389"
            },
            "outputs": [
                {
                    "name": "stdout",
                    "output_type": "stream",
                    "text": [
                        "Observation space dimensions:  (12, 12)\n",
                        "Number of possible actions: 4\n",
                        "(144, 4)\n"
                    ]
                }
            ],
            "source": [
                "# Task 1: Initialize Q table\n",
                "\"\"\"\n",
                "TODO: given the environment, initialize the Q table\n",
                "\"\"\"\n",
                "\n",
                "# Tip: pay attention to the dimensions of Q table\n",
                "# Tip: how many states does the table have, how many actions\n",
                "\n",
                "print(f\"Observation space dimensions:  {tmp_env.observation_space.shape}\")\n",
                "print(f\"Number of possible actions: {tmp_env.action_space.n}\")\n",
                "\n",
                "# YOUR CODE GOES HERE\n",
                "states = np.prod(tmp_env.observation_space.shape)\n",
                "actions = tmp_env.action_space.n\n",
                "Q_test = np.zeros((states, actions)) # you need to initialize this variable\n",
                "Q_test += np.random.randn(states, actions) * 1e-4\n",
                "print(Q_test.shape)"
            ]
        },
        {
            "cell_type": "code",
            "execution_count": 530,
            "metadata": {
                "cell_id": "40ce60c97583498d84ec9ebb001da39a",
                "deepnote_cell_type": "code",
                "execution_context_id": "25918dda-8400-4096-8584-354a0a1a97e1",
                "execution_millis": 0,
                "execution_start": 1761733122453,
                "id": "Tg715k80PkGw",
                "source_hash": "f354733"
            },
            "outputs": [
                {
                    "name": "stdout",
                    "output_type": "stream",
                    "text": [
                        "Q table has this shape: (144, 4)\n",
                        "\n",
                        "[[ 8.03550211e-05  1.17300166e-04 -1.09541185e-04 -1.37915689e-05]\n",
                        " [ 3.49585475e-05 -9.76253397e-05 -8.72611486e-05 -5.92324201e-05]\n",
                        " [-7.27647247e-05 -9.94525418e-05 -5.08658778e-05 -9.01128274e-05]\n",
                        " [ 7.94321315e-05  6.61796920e-05 -3.12107088e-06 -1.06802164e-04]\n",
                        " [ 6.60069585e-05  3.42223067e-05  4.24965422e-05  9.62139598e-05]\n",
                        " [-8.85564119e-05  9.82759443e-05  5.99722257e-05  1.88918845e-04]\n",
                        " [-1.11126067e-04 -1.13727382e-04 -4.53016847e-05  2.60242343e-05]\n",
                        " [-1.38559793e-04  6.46187475e-05 -6.62701514e-05 -8.74816534e-06]\n",
                        " [ 3.49924922e-04  1.16558021e-04  9.85945448e-05  1.76116123e-05]\n",
                        " [-2.26186981e-05 -1.65502728e-04  1.20234659e-04  1.12882572e-05]]\n",
                        "\n",
                        "\n"
                    ]
                }
            ],
            "source": [
                "# take a look into initial Q table (randomized one)\n",
                "print(f\"Q table has this shape: {Q_test.shape}\\n\")\n",
                "\n",
                "# you may want to print Q table, or parts of it, to get the vibe\n",
                "print(Q_test[:10])\n",
                "print(f\"\\n\")\n",
                "#print(Q_test[135:])"
            ]
        },
        {
            "cell_type": "markdown",
            "metadata": {
                "cell_id": "11ecc23dd74e486bbec3537ccf42a876",
                "deepnote_cell_type": "markdown",
                "id": "zXiBz_haPkGw"
            },
            "source": [
                "### Task 2: Write necessary helper functions for Q-learning"
            ]
        },
        {
            "cell_type": "code",
            "execution_count": 531,
            "metadata": {
                "cell_id": "2c0412eed5e34e1782e46b2845b13666",
                "deepnote_cell_type": "code",
                "deepnote_to_be_reexecuted": true,
                "id": "8ySxhzOxPkGw"
            },
            "outputs": [],
            "source": [
                "# Task 2: Write necessary helper functions for Q-learning\n",
                "\"\"\"\n",
                "TODO: write helper function to:\n",
                " update_explore_rate() - controls the balance between exploration and exploitation\n",
                " update_learning_rate() - controls how aggressively the agent updates its knowledge\n",
                "\n",
                " update_action() - uses the exploration rate to decide whether to take a\n",
                " random action (explore) or to act according to the learned Q-values (exploit)\n",
                "\"\"\"\n",
                "\n",
                "\n",
                "# Explore Rate Decay Function, Converges to MIN_EXPLORE_RATE\n",
                "def update_explore_rate(episode, MIN_EXPLORE_RATE):\n",
                "    # this function should return updated explore_rate\n",
                "    rate_decay = 0.95\n",
                "    initial_rate = 0.5 - MIN_EXPLORE_RATE\n",
                "    \n",
                "    return MIN_EXPLORE_RATE + initial_rate * (rate_decay ** episode)\n",
                "\n",
                "# Learning Rate Decay Function, Converges to MIN_LEARNING_RATE\n",
                "def update_learning_rate(episode, MIN_LEARNING_RATE):\n",
                "    # this function should return updated learning_rate\n",
                "    rate_decay = 0.95\n",
                "    initial_rate = 1 - MIN_LEARNING_RATE\n",
                "    \n",
                "    return MIN_LEARNING_RATE + initial_rate * (rate_decay ** episode)\n",
                "\n",
                "\n",
                "# returns an action based on current state, explore rate and Q table\n",
                "def update_action(env, state, explore_rate, Q):\n",
                "\n",
                "    # this function should return an action\n",
                "\t# YOUR CODE GOES HERE\n",
                "    q_values = Q[state]\n",
                "\n",
                "    if np.random.random() < explore_rate:\n",
                "        action = np.random.randint(0, env.action_space.n)\n",
                "    else:\n",
                "        action = np.argmax(q_values)\n",
                "\n",
                "    return action\n",
                "\n",
                "\n",
                "    \n"
            ]
        },
        {
            "cell_type": "markdown",
            "metadata": {
                "cell_id": "cf9b12e622ed4d28b5808d6a71daf021",
                "deepnote_cell_type": "markdown",
                "id": "nx48WICzPkGw"
            },
            "source": [
                "### Task 3: Play with Hyperparameters"
            ]
        },
        {
            "cell_type": "code",
            "execution_count": 532,
            "metadata": {
                "cell_id": "3912c9a00e10477f8962635396e2c1ea",
                "deepnote_cell_type": "code",
                "deepnote_to_be_reexecuted": true,
                "id": "77QFrN9OPkGw"
            },
            "outputs": [],
            "source": [
                "# Task 3: Play with Hyperparameters\n",
                "\n",
                "# YOUR CODE GOES HERE: replace None with your values\n",
                "GAMMA_test = 0.5\n",
                "NUM_EPISODES_test = 100\n",
                "MIN_EXPLORE_RATE_test = 0.2\n",
                "MIN_LEARNING_RATE_test = 0.2\n",
                "STEP_SIZE_TEST = 100"
            ]
        },
        {
            "cell_type": "markdown",
            "metadata": {
                "cell_id": "798ba2df06b0484a979daa25d3e0d2bc",
                "deepnote_cell_type": "markdown",
                "id": "T2szdmzyT27h"
            },
            "source": [
                "## 🐤 Now use Q learning to learn the Q table\n",
                "### Task 4: Train the agent using Q-learning"
            ]
        },
        {
            "cell_type": "markdown",
            "metadata": {
                "cell_id": "e71147f9e5f74289a5ee124535a3f7f0",
                "deepnote_cell_type": "markdown",
                "id": "rJQRmWF3rFnb"
            },
            "source": [
                "The Q-value update equation, derived from Bellman equation is as follows:\n"
            ]
        },
        {
            "cell_type": "markdown",
            "metadata": {
                "cell_id": "acd5fdadcd1e48d7bf0c95e7a0d95ff8",
                "deepnote_cell_type": "markdown",
                "id": "rrjUtRs4PwDQ"
            },
            "source": [
                "$$\n",
                "Q(s, a) \\gets Q(s, a) + \\alpha*\\Big[ R(s, a) + \\gamma* \\max_{a'} Q(s', a') - Q(s, a) \\Big]\n",
                "$$"
            ]
        },
        {
            "cell_type": "markdown",
            "metadata": {
                "cell_id": "d7cc138f84154459830b83f31efcbdfa",
                "deepnote_cell_type": "markdown",
                "id": "L9hrmRcSN2gQ"
            },
            "source": [
                "**Legend:**\n",
                "\n",
                "- **Q(s, a)**: Action-value function, estimating the expected return for taking action *a* in state *s*\n",
                "- **α**: learning rate\n",
                "- **R(s, a)**: reward received after taking action *a* in state *s*\n",
                "- **γ**: discount factor (importance of future rewards)\n",
                "- **s'**: Next state resulting from taking action *a* in state *s*  \n",
                "- **a'**: Possible actions in the next state *s'*\n",
                "- **max Q(s', a')**: Maximum estimated Q value of the next state over all possible actions *a'*\n"
            ]
        },
        {
            "cell_type": "code",
            "execution_count": 533,
            "metadata": {
                "cell_id": "31367d68fda04aa680ccd5e9fb3408cb",
                "deepnote_cell_type": "code",
                "deepnote_to_be_reexecuted": true,
                "id": "uKV3Mce-PkGx"
            },
            "outputs": [],
            "source": [
                "# Task 4: Train the agent using Q-learning\n",
                "# Suggestion: you can wrap the code to learn Q-table in a function,\n",
                "# which you can also use for Task 4 in Assignment 2\n",
                "\n",
                "# result of the training is:\n",
                "#   updated Q table (Q_test)\n",
                "#   total_reward\n",
                "#   you are free to add others, if you will\n",
                "\n",
                "def train(env: TrondheimEnv, GAMMA, NUM_EPISODES, MIN_EXPLORE_RATE, MIN_LEARNING_RATE, STEP_SIZE, Q):\n",
                "    env.manual_mode = False # disable printouts while training\n",
                "\n",
                "    # initialize some variables\n",
                "\n",
                "    # YOUR CODE GOES HERE\n",
                "\n",
                "    # Tip: iterate over number of episodes\n",
                "    for episode in range(NUM_EPISODES):\n",
                "        env.reset()\n",
                "        state = env.get_1d_state()\n",
                "\n",
                "        total_reward = 0\n",
                "        explore_rate = update_explore_rate(episode, MIN_EXPLORE_RATE)\n",
                "        learning_rate = update_learning_rate(episode, MIN_LEARNING_RATE)\n",
                "\n",
                "        # Tip: iterate over number of steps in each Episode\n",
                "        for _ in range(STEP_SIZE):\n",
                "            action = update_action(env, state, explore_rate, Q)\n",
                "            next_obs, reward, terminated, info = env.step(action)\n",
                "            next_state = env.get_1d_state()\n",
                "            best_next_action = np.argmax(Q[next_state])\n",
                "\n",
                "            Q[state, action] = Q[state, action] + learning_rate * (reward + GAMMA * Q[next_state, best_next_action] - Q[state, action])\n",
                "            # Tip: use helper functions defined above to navigate the environment\n",
                "            # Tip: use the Q-learning update rule equation - Bellman equation\n",
                "\n",
                "            state = next_state\n",
                "            total_reward += reward\n",
                "\n",
                "            if terminated:\n",
                "                print(\"terminted\")\n",
                "                break\n",
                "\n",
                "    return Q, total_reward, explore_rate\n",
                "            \n",
                "\n",
                "\n",
                "\n",
                "    # Tip : print variables of interest, like episode, total_reward, explore_rate\n",
                "    # print(f\"Episode :{i}  Total_reward: {total_reward}  Explore rate: {explore_rate}\")\n",
                "    #print(\"Final Q values: \", Q_test)\n",
                "\n",
                "Q_test, total_reward, explore_rate = train(tmp_env, GAMMA_test, NUM_EPISODES_test, MIN_EXPLORE_RATE_test, MIN_LEARNING_RATE_test, STEP_SIZE_TEST, Q_test)"
            ]
        },
        {
            "cell_type": "code",
            "execution_count": 534,
            "metadata": {
                "cell_id": "c8a6cf6bd52e479c863bd589512e1750",
                "deepnote_cell_type": "code",
                "deepnote_to_be_reexecuted": true,
                "id": "YVOVYADQPkGx"
            },
            "outputs": [
                {
                    "name": "stdout",
                    "output_type": "stream",
                    "text": [
                        "Total reward after training: 11400, total Explore rate after training: 0.20186964080642128\n",
                        "[[ 4.19613636e-06  4.42627976e-06 -2.67776721e-05  4.44077306e-06]\n",
                        " [ 4.37563977e-06 -4.71460088e-05  4.58086013e-06 -3.04486129e-05]\n",
                        " [-7.27647247e-05 -4.80731343e-05  1.40992466e-05  1.03938593e-05]\n",
                        " [ 2.01366700e-05  1.13220894e-05  1.35521792e-05  2.26443027e-05]\n",
                        " [ 1.83855014e-05  1.81950065e-05  2.05627964e-05  1.75529162e-05]\n",
                        " [-2.17953496e-05  3.01709388e-05  1.71073541e-05  2.05180390e-05]\n",
                        " [-4.11819658e-05 -2.75093152e-05  5.32891982e-06  9.03993051e-06]\n",
                        " [-1.38559793e-04  8.07006551e-06 -2.87684157e-05  7.99361559e-06]\n",
                        " [ 7.65820295e-06  6.56765667e-06  6.96424776e-06  6.54588421e-06]\n",
                        " [ 4.70961748e-06 -1.24878893e-04  5.21604356e-06  4.87772877e-06]\n",
                        " [-4.55779684e-05  6.24716956e-06 -2.14753704e-04  1.57444022e-06]\n",
                        " [ 7.31228883e-06 -3.56837812e-05  6.73322239e-06  6.49412540e-06]\n",
                        " [ 9.34222295e-06  1.25179235e-05 -4.80934518e-06 -6.19538312e-06]\n",
                        " [ 6.18796324e-06 -7.43270869e-05 -3.26130993e-05  7.24133372e-06]\n",
                        " [ 1.28564428e-05 -2.73171218e-06  9.55486911e-06  8.58296127e-06]\n",
                        " [ 1.45692951e-05 -6.73401696e-06  3.97136517e-06  1.20598719e-05]\n",
                        " [ 1.80319612e-05 -4.92494653e-06  1.31584958e-05  8.32983852e-06]\n",
                        " [-3.66728147e-06  1.20793649e-05  7.38325513e-06  7.64100889e-06]\n",
                        " [ 7.08554303e-06  6.28439470e-06  1.12164771e-01  3.19056102e-06]\n",
                        " [ 6.08561853e-06  5.77759596e-06 -1.27518232e-04 -1.26408902e-04]\n",
                        " [ 6.44330495e-06 -3.65289445e-06  6.56514769e-06 -4.99000024e-05]\n",
                        " [ 5.48096232e-06  6.89183878e-06  6.50157498e-06  7.00012303e-06]\n",
                        " [ 1.00098378e-05  9.23099228e-06  5.91362072e-06  1.23658497e-05]\n",
                        " [ 7.62100489e-06  8.91240658e-06  5.91062324e-06  8.01183695e-06]\n",
                        " [ 8.08279465e-06 -4.23676888e-05 -1.52247446e-05  7.27360587e-06]\n",
                        " [-2.03814454e-04  6.71324589e-06  5.13470306e-06  4.37535618e-06]\n",
                        " [ 9.63423139e-06  9.95847504e-06  6.38376569e-06  1.02957468e-05]\n",
                        " [ 9.82785925e-06  1.11205956e-05  1.13179374e-05 -8.87702324e-06]\n",
                        " [ 2.16010077e-05  1.70202125e-05 -3.10246687e-05 -6.65252203e-05]\n",
                        " [ 7.74520246e-06 -1.05707269e-05 -1.32243303e-05  1.55944006e+00]\n",
                        " [ 9.17235175e-06  5.05767825e-06  1.29721731e+01  9.50292470e-01]\n",
                        " [ 5.16977088e-06  1.12164051e-01  6.04957367e+00  6.32308475e-06]\n",
                        " [-4.19291180e-05  9.71231999e-02 -8.34390183e-06 -1.33133983e-05]\n",
                        " [ 4.39858836e-06 -2.23499798e-06  2.69842926e-06 -5.78840340e-07]\n",
                        " [-8.02556033e-05  4.84563332e-06 -3.04434722e-05  2.92044368e-06]\n",
                        " [ 5.40731868e-06 -1.03719594e-06  3.25001544e-06  4.01107543e-06]\n",
                        " [ 7.54240032e-06  5.99075098e-06  7.80641485e-06  4.75848731e-06]\n",
                        " [ 4.04039709e-06  4.56441669e-06 -2.83169749e-06 -5.83976974e-05]\n",
                        " [-4.27131713e-05  3.86904383e-06 -1.55839503e-05 -1.08466854e-04]\n",
                        " [ 8.42727549e-06  1.21023582e-05  1.35552618e-05  1.28090449e+00]\n",
                        " [-6.48439328e-07 -9.07048221e-07  2.24078813e+01  1.27773484e+01]\n",
                        " [ 6.87496129e-02  2.19901943e+00  9.97477868e+01  1.51266035e-05]\n",
                        " [ 1.83286192e-01  4.94163007e+01  1.50850891e+02  7.38698760e+00]\n",
                        " [ 1.14926260e+00  2.01107311e+01  5.15511530e+01  3.36684736e-06]\n",
                        " [-5.56610136e-05 -5.67796270e-06  9.04882404e+00  3.39518675e-06]\n",
                        " [ 3.73891382e-06 -4.17904631e-05  3.09348488e-06 -7.47125884e-07]\n",
                        " [-1.03841110e-04  1.71519935e-06  1.86430309e-06  1.10844779e-06]\n",
                        " [-1.85279751e-05  1.08887283e-06 -7.34414343e-05  1.01302724e-06]\n",
                        " [ 6.15613566e-06  5.21911853e-06  1.29047656e-05 -6.27244075e-07]\n",
                        " [ 2.62733255e-05  2.33431385e-05  3.56305614e-05 -7.11523425e-07]\n",
                        " [ 3.59153071e-06 -6.34982893e-05 -7.89658435e-05  4.15343722e+00]\n",
                        " [ 1.05564478e-05 -7.03672745e-05 -2.32249402e-05  2.33900236e+01]\n",
                        " [ 2.83258075e+00  1.42311804e+00  2.64718405e-06  9.07444369e+01]\n",
                        " [ 3.09343979e+01  2.38606235e+01  1.28362885e+02  1.99999067e+02]\n",
                        " [ 4.42479652e+01  9.64582832e+01  4.00000000e+02  9.70994695e+01]\n",
                        " [ 1.37134658e+01  2.00000000e+02  1.89680351e+02  3.20387273e+01]\n",
                        " [ 3.23673802e-06  9.00851114e+01  2.06781848e+01  3.05973153e-06]\n",
                        " [ 3.20761517e-06  3.52813371e-06  3.26631183e-06  3.45687913e-06]\n",
                        " [ 1.99463405e-06  2.60556682e-06 -1.23358105e-05  2.37896893e-06]\n",
                        " [ 1.99383688e-06  2.41308661e-06  2.57040197e-06  3.17693065e-06]\n",
                        " [ 4.71517290e-06 -6.36215805e-06 -8.78363529e-06  1.22302811e-05]\n",
                        " [-5.75792325e-05  1.57837273e-05  1.29232506e-05  1.49090091e-05]\n",
                        " [ 5.29698197e-01 -3.02925640e-04  1.27059466e-05  1.30976644e-05]\n",
                        " [-8.44436315e-06  1.44603779e-05 -4.32344146e-06  6.87525743e+00]\n",
                        " [ 2.10357284e+01  8.41704397e-01  9.61019168e+00  1.79416564e+02]\n",
                        " [ 9.75254672e+01  6.62426566e+01  6.70470037e+01  4.00000000e+02]\n",
                        " [ 2.00000000e+02  2.00000000e+02  2.00000000e+02  2.00000000e+02]\n",
                        " [ 1.00000000e+02  4.00000000e+02  1.00000000e+02  1.00000000e+02]\n",
                        " [ 1.94780032e-02  2.00000000e+02  4.51187223e+01  3.67588850e+01]\n",
                        " [ 3.59732199e-06  9.76110165e+01  6.69753095e+00  6.96511601e+00]\n",
                        " [ 2.68750170e-06  3.90716256e+01  3.10217091e-06  1.66142185e-01]\n",
                        " [ 2.27884129e-06  3.81987853e+00  2.13838781e-06  2.09912698e-06]\n",
                        " [ 1.13263053e-05  5.00613809e-06 -5.98586294e-05 -7.50474803e-05]\n",
                        " [-2.19530980e-05  1.03143331e-05  8.52868727e-06  1.04450784e-05]\n",
                        " [ 4.72942659e-02  1.06804382e-05  9.18422438e-06  9.81457758e-06]\n",
                        " [ 3.88375384e-01 -1.34496539e-05  9.99299047e-06 -2.71808953e-06]\n",
                        " [-9.63495489e-05  5.77785435e-06  1.24543304e-04  8.88792096e+01]\n",
                        " [ 1.98609947e+02  1.71324881e+01  3.77827837e+00  6.91498043e+00]\n",
                        " [ 4.00000000e+02  5.31235775e+01  3.14609131e+01  9.84667648e+01]\n",
                        " [ 2.00000000e+02  1.96187107e+02  4.64066530e+01  4.76287133e+01]\n",
                        " [-1.43081674e-04  9.99644849e+01  1.31197231e+01  8.83405823e+00]\n",
                        " [ 9.94761288e+00  4.12697828e+01  2.37778644e-06  2.70528130e-06]\n",
                        " [ 1.11520081e+01  2.26862385e-06 -1.00987704e-05  2.14183739e-06]\n",
                        " [ 2.10056593e-06  1.77425022e-06  1.46107613e-06  1.74052683e-06]\n",
                        " [ 1.00059572e-05  9.25807389e-06 -3.24937600e-06  1.10836640e-05]\n",
                        " [-1.97378363e-06 -1.77849383e-05 -1.36186407e-05  5.65005085e-06]\n",
                        " [ 6.87427657e-06 -1.86365346e-05  6.95035674e-06  7.01334240e-06]\n",
                        " [ 9.84779753e-06  8.41090260e-06  6.22451243e-03  3.31042436e+00]\n",
                        " [ 2.76603331e+01 -9.86482051e-05 -2.78022931e-05  1.24488348e-06]\n",
                        " [ 4.15427587e+01  1.27251575e-06 -2.27845271e-05  1.31226796e-06]\n",
                        " [ 1.58129272e+02  1.33506166e-06 -6.99260556e-06  1.17133468e-06]\n",
                        " [ 9.99999699e+01  1.98212207e+01  1.78220399e+00  1.14436983e+01]\n",
                        " [ 3.77069244e+01  4.99997974e+01  3.67554269e+00  5.58104170e+00]\n",
                        " [ 6.16855967e+00  2.49964728e+01  2.55973886e+00  2.46405445e-06]\n",
                        " [ 2.23847326e+00  2.07681728e-06  1.36841045e-06  3.52946130e-03]\n",
                        " [ 1.35860605e-06  3.21550630e-01  1.20833000e-06  1.43350759e-06]\n",
                        " [ 8.72955947e-06  3.17914635e-06  1.10974152e-05  1.01557982e-05]\n",
                        " [ 6.83459645e-06  7.32312566e-06  6.89641647e-06 -4.30705014e-05]\n",
                        " [ 6.39412392e-06  6.63109678e-06  8.04188204e-06  8.66776525e-06]\n",
                        " [ 2.38695294e-01  6.97949633e-06  1.73913678e-04 -5.02724076e-05]\n",
                        " [ 4.47409343e+00  7.76233671e-06 -2.49316258e-05  3.63669860e-06]\n",
                        " [-5.12671340e-05  3.50493459e-01 -7.45928559e-06 -4.39872404e-06]\n",
                        " [-6.40324331e-05  1.17061337e-02 -1.17801418e-04 -3.98697885e-05]\n",
                        " [ 2.04099184e-06 -5.60932128e-05  5.53628041e-02  9.61520445e+00]\n",
                        " [ 2.39022062e+01  3.72029710e-01  2.66033154e-02  1.29243082e+00]\n",
                        " [ 1.24884771e+01  5.72317330e+00  5.09500493e-01  1.16564277e-01]\n",
                        " [-2.41656453e-05  2.17407417e+00 -1.94752940e-05  6.34944004e-07]\n",
                        " [ 3.23670287e-02 -4.12226595e-06  4.77385769e-07  5.93307379e-04]\n",
                        " [-1.02208230e-04  4.37993150e-06 -8.10564087e-05  5.04465485e-06]\n",
                        " [ 5.76824440e-06  5.85452834e-06  6.12448476e-06  5.23274017e-06]\n",
                        " [ 6.27715294e-06  5.69518481e-06  5.73579149e-06  5.73206381e-06]\n",
                        " [ 1.39121564e-02  6.29855358e-06 -1.66528180e-04  1.62274157e-06]\n",
                        " [ 6.03994499e-06 -5.00105150e-06  5.63736781e-06  6.85283472e-06]\n",
                        " [-8.75320437e-05  7.04581308e-06 -1.86547599e-04 -1.94694186e-05]\n",
                        " [ 1.72686855e-06 -4.68632477e-05 -2.15928030e-05 -1.06252568e-04]\n",
                        " [ 2.15701964e+00  1.59796405e-06  1.73032808e-06  1.62402608e-06]\n",
                        " [-1.80852163e-04  3.83038806e-01  1.11213246e-06 -3.80204620e-06]\n",
                        " [ 6.22248093e+00  2.36181462e-02  7.32296052e-01  3.16779123e-01]\n",
                        " [ 8.84884988e-07  2.10567801e+00  9.07029340e-07  9.11709920e-07]\n",
                        " [ 2.05318689e-03 -2.78305386e-06  6.65890946e-06  4.98123977e-07]\n",
                        " [-6.44684426e-05  4.64368348e-06 -1.72840114e-04  4.32165513e-06]\n",
                        " [ 4.83075453e-06  4.58007076e-06 -5.44625252e-05  5.04989544e-06]\n",
                        " [ 4.81826528e-06  4.25336640e-06  4.70257141e-06  4.22563141e-06]\n",
                        " [ 8.64710403e-04  4.38596833e-06  4.08361982e-06  4.30562255e-06]\n",
                        " [ 4.62816711e-06  4.37558922e-06  4.17707530e-06  4.42388826e-06]\n",
                        " [-2.65109851e-05  2.99932168e-06 -2.42575593e-05 -4.52481982e-05]\n",
                        " [-2.67374924e-05  2.97178647e-06  2.67741376e-06  2.65818909e-06]\n",
                        " [ 1.95929195e-06  1.91187416e-06  1.87717039e-06  1.97196508e-06]\n",
                        " [ 1.17905377e-06  1.28419540e-06  1.28368793e-06  3.13674559e-01]\n",
                        " [ 3.08258651e+00  9.02839071e-07  8.24096807e-07 -2.99574871e-05]\n",
                        " [ 1.69005128e-01  1.51102907e+00  2.50182189e-02  4.48704012e-07]\n",
                        " [ 1.09385387e-04  2.55031668e-07  3.97358192e-07  4.05021440e-07]\n",
                        " [ 8.62377841e-05 -8.04467093e-05  1.63794545e-04  1.44281539e-04]\n",
                        " [-5.15079621e-05  4.44501974e-05  3.61023290e-05  4.83240146e-05]\n",
                        " [ 3.57704907e-06 -3.39551892e-05 -1.27694355e-05  2.44719718e-06]\n",
                        " [ 3.59450151e-06  3.61894900e-06  1.62477822e-07 -8.08758296e-05]\n",
                        " [-6.86037470e-07  3.49990004e-06  3.78903978e-06  3.89633916e-06]\n",
                        " [ 3.26887550e-06  3.45103812e-06 -1.49051766e-04 -6.39281470e-06]\n",
                        " [-5.32974249e-05  3.11645220e-06 -3.32422302e-05 -1.19060951e-04]\n",
                        " [ 2.14378006e-06 -1.67538346e-04 -3.58346028e-06  2.03386273e-06]\n",
                        " [ 9.47134142e-07 -1.43075769e-05  9.94161378e-07  9.02464399e-07]\n",
                        " [ 2.06500019e-01  8.54952510e-07  8.06813781e-07  7.88412009e-07]\n",
                        " [ 2.74547950e-01  6.80307167e-07  1.86037333e-02  5.54341802e-07]\n",
                        " [ 4.22407775e-07  5.02141765e-07  4.61239688e-07  5.11738137e-07]]\n"
                    ]
                }
            ],
            "source": [
                "print(f\"Total reward after training: {total_reward}, total Explore rate after training: {explore_rate}\")\n",
                "print(Q_test)"
            ]
        },
        {
            "cell_type": "markdown",
            "metadata": {
                "cell_id": "57108a976c514cb38c7ef31199decbe0",
                "deepnote_cell_type": "markdown",
                "id": "Gxlv9Qj-PkGx"
            },
            "source": [
                "## 🐥 Let's see this in action"
            ]
        },
        {
            "cell_type": "code",
            "execution_count": 535,
            "metadata": {
                "cell_id": "5a237d0e7ad3426cb0d92bae570f6280",
                "deepnote_cell_type": "code",
                "execution_context_id": "25918dda-8400-4096-8584-354a0a1a97e1",
                "execution_millis": 8891,
                "execution_start": 1761735584113,
                "id": "IOfVD-2xPkGx",
                "source_hash": "98761834"
            },
            "outputs": [
                {
                    "data": {
                        "image/png": "[encoded data removed]",
                        "text/plain": [
                            "<Figure size 640x480 with 1 Axes>"
                        ]
                    },
                    "metadata": {},
                    "output_type": "display_data"
                },
                {
                    "name": "stdout",
                    "output_type": "stream",
                    "text": [
                        "Next step towards: \n",
                        "Green Land class area\n"
                    ]
                },
                {
                    "data": {
                        "image/png": "[encoded data removed]",
                        "text/plain": [
                            "<Figure size 640x480 with 1 Axes>"
                        ]
                    },
                    "metadata": {},
                    "output_type": "display_data"
                },
                {
                    "name": "stdout",
                    "output_type": "stream",
                    "text": [
                        "Next step towards: \n",
                        "Green Land class area\n"
                    ]
                },
                {
                    "data": {
                        "image/png": "[encoded data removed]",
                        "text/plain": [
                            "<Figure size 640x480 with 1 Axes>"
                        ]
                    },
                    "metadata": {},
                    "output_type": "display_data"
                },
                {
                    "name": "stdout",
                    "output_type": "stream",
                    "text": [
                        "Next step towards: \n",
                        "Green Land class area\n"
                    ]
                },
                {
                    "data": {
                        "image/png": "[encoded data removed]",
                        "text/plain": [
                            "<Figure size 640x480 with 1 Axes>"
                        ]
                    },
                    "metadata": {},
                    "output_type": "display_data"
                },
                {
                    "name": "stdout",
                    "output_type": "stream",
                    "text": [
                        "Next step towards: \n",
                        "Green Land class area\n"
                    ]
                },
                {
                    "data": {
                        "image/png": "[encoded data removed]",
                        "text/plain": [
                            "<Figure size 640x480 with 1 Axes>"
                        ]
                    },
                    "metadata": {},
                    "output_type": "display_data"
                },
                {
                    "name": "stdout",
                    "output_type": "stream",
                    "text": [
                        "Next step towards: \n",
                        "Green Land class area\n"
                    ]
                },
                {
                    "data": {
                        "image/png": "[encoded data removed]",
                        "text/plain": [
                            "<Figure size 640x480 with 1 Axes>"
                        ]
                    },
                    "metadata": {},
                    "output_type": "display_data"
                },
                {
                    "name": "stdout",
                    "output_type": "stream",
                    "text": [
                        "Next step towards: \n",
                        "Green Land class area\n"
                    ]
                },
                {
                    "data": {
                        "image/png": "[encoded data removed]",
                        "text/plain": [
                            "<Figure size 640x480 with 1 Axes>"
                        ]
                    },
                    "metadata": {},
                    "output_type": "display_data"
                },
                {
                    "name": "stdout",
                    "output_type": "stream",
                    "text": [
                        "Next step towards: \n",
                        "Green Land class area\n"
                    ]
                },
                {
                    "data": {
                        "image/png": "[encoded data removed]",
                        "text/plain": [
                            "<Figure size 640x480 with 1 Axes>"
                        ]
                    },
                    "metadata": {},
                    "output_type": "display_data"
                },
                {
                    "name": "stdout",
                    "output_type": "stream",
                    "text": [
                        "Next step towards: \n",
                        "Green Land class area\n"
                    ]
                },
                {
                    "data": {
                        "image/png": "[encoded data removed]",
                        "text/plain": [
                            "<Figure size 640x480 with 1 Axes>"
                        ]
                    },
                    "metadata": {},
                    "output_type": "display_data"
                },
                {
                    "name": "stdout",
                    "output_type": "stream",
                    "text": [
                        "Next step towards: \n",
                        "Central Source Secret Location\n"
                    ]
                },
                {
                    "data": {
                        "image/png": "[encoded data removed]",
                        "text/plain": [
                            "<Figure size 640x480 with 1 Axes>"
                        ]
                    },
                    "metadata": {},
                    "output_type": "display_data"
                },
                {
                    "name": "stdout",
                    "output_type": "stream",
                    "text": [
                        "Next step towards: \n",
                        "Green Land class area\n"
                    ]
                },
                {
                    "data": {
                        "image/png": "[encoded data removed]",
                        "text/plain": [
                            "<Figure size 640x480 with 1 Axes>"
                        ]
                    },
                    "metadata": {},
                    "output_type": "display_data"
                },
                {
                    "name": "stdout",
                    "output_type": "stream",
                    "text": [
                        "Next step towards: \n",
                        "Central Source Secret Location\n"
                    ]
                },
                {
                    "data": {
                        "image/png": "[encoded data removed]",
                        "text/plain": [
                            "<Figure size 640x480 with 1 Axes>"
                        ]
                    },
                    "metadata": {},
                    "output_type": "display_data"
                },
                {
                    "name": "stdout",
                    "output_type": "stream",
                    "text": [
                        "Next step towards: \n",
                        "Green Land class area\n"
                    ]
                },
                {
                    "data": {
                        "image/png": "[encoded data removed]",
                        "text/plain": [
                            "<Figure size 640x480 with 1 Axes>"
                        ]
                    },
                    "metadata": {},
                    "output_type": "display_data"
                },
                {
                    "name": "stdout",
                    "output_type": "stream",
                    "text": [
                        "Next step towards: \n",
                        "Central Source Secret Location\n"
                    ]
                },
                {
                    "data": {
                        "image/png": "[encoded data removed]",
                        "text/plain": [
                            "<Figure size 640x480 with 1 Axes>"
                        ]
                    },
                    "metadata": {},
                    "output_type": "display_data"
                },
                {
                    "name": "stdout",
                    "output_type": "stream",
                    "text": [
                        "Next step towards: \n",
                        "Green Land class area\n"
                    ]
                },
                {
                    "data": {
                        "image/png": "[encoded data removed]",
                        "text/plain": [
                            "<Figure size 640x480 with 1 Axes>"
                        ]
                    },
                    "metadata": {},
                    "output_type": "display_data"
                },
                {
                    "name": "stdout",
                    "output_type": "stream",
                    "text": [
                        "Next step towards: \n",
                        "Central Source Secret Location\n"
                    ]
                },
                {
                    "data": {
                        "image/png": "[encoded data removed]",
                        "text/plain": [
                            "<Figure size 640x480 with 1 Axes>"
                        ]
                    },
                    "metadata": {},
                    "output_type": "display_data"
                },
                {
                    "name": "stdout",
                    "output_type": "stream",
                    "text": [
                        "Next step towards: \n",
                        "Green Land class area\n",
                        "Total_reward:  1200\n"
                    ]
                }
            ],
            "source": [
                "# now we show one episode\n",
                "# yellow spot should be able to find black spot here\n",
                "\n",
                "tmp_env.manual_mode = True # enable messages\n",
                "STEP_SIZE_TEST_test = 16\n",
                "\n",
                "observation = tmp_env.reset()\n",
                "state_0 = tmp_env.get_1d_state()\n",
                "total_reward = 0\n",
                "\n",
                "for _ in range(STEP_SIZE_TEST_test):\n",
                "    tmp_env.render()\n",
                "    action = update_action(tmp_env, state_0, explore_rate, Q=Q_test)\n",
                "    obv, reward, done, info = tmp_env.step(action)\n",
                "    state_1 = tmp_env.get_1d_state()\n",
                "\n",
                "    # No need to update the Q here\n",
                "    state_0 = state_1\n",
                "\n",
                "    total_reward += reward\n",
                "\n",
                "print(f\"Total_reward: \", total_reward)"
            ]
        },
        {
            "cell_type": "code",
            "execution_count": 536,
            "metadata": {
                "cell_id": "ff6b6ba1e4974799aa7e5e5210c89879",
                "deepnote_cell_type": "code",
                "deepnote_to_be_reexecuted": true,
                "id": "LPtt6ZDoPkGx"
            },
            "outputs": [
                {
                    "name": "stdout",
                    "output_type": "stream",
                    "text": [
                        "(144, 4)\n",
                        "Obs space dimensions :(12, 12)\n"
                    ]
                }
            ],
            "source": [
                "# the shape of Q table (Q_test)\n",
                "print(Q_test.shape)\n",
                "print(f\"Obs space dimensions :{tmp_env.observation_space.shape}\")"
            ]
        },
        {
            "cell_type": "code",
            "execution_count": 537,
            "metadata": {
                "cell_id": "1e46e92b2a694a0e80c40ba8b2b2b7df",
                "deepnote_cell_type": "code",
                "deepnote_to_be_reexecuted": true,
                "id": "ou-VGkfDPkGx"
            },
            "outputs": [
                {
                    "data": {
                        "text/plain": [
                            "array([[3, 2, 2, 3, 2, 1, 3, 1, 0, 2, 1, 0],\n",
                            "       [1, 3, 0, 0, 0, 1, 2, 0, 2, 3, 3, 1],\n",
                            "       [0, 1, 3, 2, 0, 3, 2, 2, 1, 0, 1, 0],\n",
                            "       [2, 1, 1, 3, 2, 2, 2, 2, 2, 0, 2, 1],\n",
                            "       [2, 2, 3, 3, 3, 3, 2, 1, 1, 1, 1, 3],\n",
                            "       [3, 1, 0, 3, 3, 3, 3, 1, 1, 1, 1, 1],\n",
                            "       [0, 3, 0, 0, 3, 0, 0, 0, 1, 1, 0, 0],\n",
                            "       [3, 3, 3, 3, 0, 0, 0, 0, 1, 1, 0, 1],\n",
                            "       [2, 1, 3, 0, 0, 1, 1, 3, 0, 0, 1, 0],\n",
                            "       [3, 2, 0, 0, 3, 1, 0, 0, 1, 0, 1, 0],\n",
                            "       [1, 3, 0, 0, 0, 1, 1, 3, 3, 0, 1, 0],\n",
                            "       [2, 3, 0, 1, 3, 1, 1, 0, 2, 0, 0, 3]])"
                        ]
                    },
                    "execution_count": 537,
                    "metadata": {},
                    "output_type": "execute_result"
                }
            ],
            "source": [
                "# print Q_table in \"observation space\" light\n",
                "Q_test.argmax(axis=1).reshape(tmp_env.observation_space.shape)"
            ]
        },
        {
            "cell_type": "code",
            "execution_count": 538,
            "metadata": {
                "cell_id": "b0947ee629fa4e82ab7f45cd66f6c38f",
                "deepnote_cell_type": "code",
                "deepnote_to_be_reexecuted": true,
                "id": "fbFTMZue12lQ"
            },
            "outputs": [
                {
                    "name": "stdout",
                    "output_type": "stream",
                    "text": [
                        "image has more than 3 channels, only first 3 channels are used there are (12, 12, 4) channels\n"
                    ]
                }
            ],
            "source": [
                "# close the environment\n",
                "tmp_env.close()"
            ]
        },
        {
            "cell_type": "markdown",
            "metadata": {
                "cell_id": "44c980fc3ad74b6d9376b287805b3887",
                "deepnote_cell_type": "markdown",
                "id": "ipz9XhhQ-ZVw"
            },
            "source": [
                "# 2️⃣ Assignment 2: Trondheim treasure hunt!\n"
            ]
        },
        {
            "cell_type": "markdown",
            "metadata": {
                "cell_id": "08b5196326854da5b9ff9d60f2a9c3a9",
                "deepnote_cell_type": "markdown",
                "id": "HKV9wMKXPkG2"
            },
            "source": [
                "# 🐔 You are ready for the Trondheim challenge now 💪\n",
                "\n",
                "*   Task 1: Initialize Q table\n",
                "*   Task 2: Write necessary helper functions for Q-learning\n",
                "*   Task 3: Play with Hyperparameters\n",
                "*   Task 4: Train the agent using Q-learning\n",
                "\n",
                "\n",
                "## **Important Note**:\n",
                "For Task 2, Task 3 and Task 4, you can (re)use the same code as in the Assignment 1.\n",
                "**These are mentioned here as the elements of the pipeline.**\n",
                "\n",
                "Most of the code from Assigment 1 is reusable, we are just using it with different environment here."
            ]
        },
        {
            "cell_type": "code",
            "execution_count": 539,
            "metadata": {
                "cell_id": "c9c347a7965d443382ece723f982d74e",
                "deepnote_cell_type": "code",
                "deepnote_to_be_reexecuted": true,
                "id": "AZ0DLZ-hPkG2"
            },
            "outputs": [
                {
                    "name": "stdout",
                    "output_type": "stream",
                    "text": [
                        "image has more than 3 channels, only first 3 channels are used there are (12, 12, 4) channels\n"
                    ]
                }
            ],
            "source": [
                "# First and important - cleanup!\n",
                "tmp_env.close()"
            ]
        },
        {
            "cell_type": "code",
            "execution_count": 540,
            "metadata": {
                "cell_id": "7c0e509fc6814f57bd02880fcf13a6b4",
                "deepnote_cell_type": "code",
                "deepnote_to_be_reexecuted": true,
                "id": "Qv_JAXXIPkG2"
            },
            "outputs": [
                {
                    "name": "stdout",
                    "output_type": "stream",
                    "text": [
                        "Environment successfully created\n"
                    ]
                }
            ],
            "source": [
                "# let's configure the environment and see how it looks like\n",
                "env_config = {\n",
                "    'env_image_path':'input_images/image_TRD_2.png',\n",
                "    'dead_allowed':False,\n",
                "    'remove_after_location_found':True,\n",
                "    'start_random':False,\n",
                "    'number_removable_locations':1,\n",
                "}\n",
                "\n",
                "if not os.path.exists(env_config['env_image_path']):\n",
                "  # make sure you have the folder and the image\n",
                "  print(f\"Error: The image path {env_config['env_image_path']} does not exist.\")\n",
                "else:\n",
                "  # if everything fine, we create the environment\n",
                "  tmp_env = TrondheimEnv(conf=env_config)\n",
                "  print(f\"Environment successfully created\")"
            ]
        },
        {
            "cell_type": "code",
            "execution_count": 541,
            "metadata": {
                "cell_id": "884dc5c0a3664855be25855120963b2a",
                "deepnote_cell_type": "code",
                "deepnote_to_be_reexecuted": true,
                "id": "pvsn6eroPkG2"
            },
            "outputs": [
                {
                    "data": {
                        "image/png": "[encoded data removed]",
                        "text/plain": [
                            "<Figure size 640x480 with 1 Axes>"
                        ]
                    },
                    "metadata": {},
                    "output_type": "display_data"
                },
                {
                    "data": {
                        "text/plain": [
                            "array([[[  0,   0, 255],\n",
                            "        [  0,   0, 255],\n",
                            "        [  0,   0, 255],\n",
                            "        ...,\n",
                            "        [  0,   0, 255],\n",
                            "        [  0,   0, 255],\n",
                            "        [  0,   0, 255]],\n",
                            "\n",
                            "       [[  0, 255,   0],\n",
                            "        [  0, 255,   0],\n",
                            "        [  0, 255,   0],\n",
                            "        ...,\n",
                            "        [  0,   0, 255],\n",
                            "        [  0,   0, 255],\n",
                            "        [  0, 255,   0]],\n",
                            "\n",
                            "       [[  0, 255,   0],\n",
                            "        [  0, 255,   0],\n",
                            "        [  0, 255,   0],\n",
                            "        ...,\n",
                            "        [  0,   0, 255],\n",
                            "        [  0, 255,   0],\n",
                            "        [  0, 255,   0]],\n",
                            "\n",
                            "       ...,\n",
                            "\n",
                            "       [[  0, 255,   0],\n",
                            "        [  0, 255,   0],\n",
                            "        [  0, 255,   0],\n",
                            "        ...,\n",
                            "        [  0, 255,   0],\n",
                            "        [  0, 255,   0],\n",
                            "        [  0, 255,   0]],\n",
                            "\n",
                            "       [[  0, 255,   0],\n",
                            "        [  0, 255,   0],\n",
                            "        [  0, 255,   0],\n",
                            "        ...,\n",
                            "        [  0, 255,   0],\n",
                            "        [  0, 255,   0],\n",
                            "        [  0, 255,   0]],\n",
                            "\n",
                            "       [[  0, 255,   0],\n",
                            "        [  0, 255,   0],\n",
                            "        [  0, 255,   0],\n",
                            "        ...,\n",
                            "        [  0, 255,   0],\n",
                            "        [  0, 255,   0],\n",
                            "        [  0, 255,   0]]], shape=(32, 32, 3), dtype=uint8)"
                        ]
                    },
                    "execution_count": 541,
                    "metadata": {},
                    "output_type": "execute_result"
                }
            ],
            "source": [
                "tmp_env.reset()\n",
                "tmp_env.render()"
            ]
        },
        {
            "cell_type": "code",
            "execution_count": 542,
            "metadata": {
                "cell_id": "68affe936e6c41268d09448efcaf9a58",
                "deepnote_cell_type": "code",
                "deepnote_to_be_reexecuted": true,
                "id": "LAC2FRZ5PkG2"
            },
            "outputs": [
                {
                    "name": "stdout",
                    "output_type": "stream",
                    "text": [
                        "Next step towards: \n",
                        "Green Land class area\n",
                        "0\n"
                    ]
                },
                {
                    "data": {
                        "image/png": "[encoded data removed]",
                        "text/plain": [
                            "<Figure size 640x480 with 1 Axes>"
                        ]
                    },
                    "metadata": {},
                    "output_type": "display_data"
                },
                {
                    "data": {
                        "text/plain": [
                            "array([[[  0,   0, 255],\n",
                            "        [  0,   0, 255],\n",
                            "        [  0,   0, 255],\n",
                            "        ...,\n",
                            "        [  0,   0, 255],\n",
                            "        [  0,   0, 255],\n",
                            "        [  0,   0, 255]],\n",
                            "\n",
                            "       [[  0, 255,   0],\n",
                            "        [  0, 255,   0],\n",
                            "        [  0, 255,   0],\n",
                            "        ...,\n",
                            "        [  0,   0, 255],\n",
                            "        [  0,   0, 255],\n",
                            "        [  0, 255,   0]],\n",
                            "\n",
                            "       [[  0, 255,   0],\n",
                            "        [  0, 255,   0],\n",
                            "        [  0, 255,   0],\n",
                            "        ...,\n",
                            "        [  0,   0, 255],\n",
                            "        [  0, 255,   0],\n",
                            "        [  0, 255,   0]],\n",
                            "\n",
                            "       ...,\n",
                            "\n",
                            "       [[  0, 255,   0],\n",
                            "        [  0, 255,   0],\n",
                            "        [  0, 255,   0],\n",
                            "        ...,\n",
                            "        [  0, 255,   0],\n",
                            "        [  0, 255,   0],\n",
                            "        [  0, 255,   0]],\n",
                            "\n",
                            "       [[  0, 255,   0],\n",
                            "        [  0, 255,   0],\n",
                            "        [  0, 255,   0],\n",
                            "        ...,\n",
                            "        [  0, 255,   0],\n",
                            "        [  0, 255,   0],\n",
                            "        [  0, 255,   0]],\n",
                            "\n",
                            "       [[  0, 255,   0],\n",
                            "        [  0, 255,   0],\n",
                            "        [  0, 255,   0],\n",
                            "        ...,\n",
                            "        [  0, 255,   0],\n",
                            "        [  0, 255,   0],\n",
                            "        [  0, 255,   0]]], shape=(32, 32, 3), dtype=uint8)"
                        ]
                    },
                    "execution_count": 542,
                    "metadata": {},
                    "output_type": "execute_result"
                }
            ],
            "source": [
                "# select the action here\n",
                "my_action = 'right'\n",
                "\n",
                "# here is your action\n",
                "obs, rew, term, info = tmp_env.step(action_dict[my_action])\n",
                "print(rew)\n",
                "tmp_env.render()"
            ]
        },
        {
            "cell_type": "markdown",
            "metadata": {
                "cell_id": "8f250d798e87486f978e9cee07011e9d",
                "deepnote_cell_type": "markdown",
                "id": "y1NDKIr1PkG3"
            },
            "source": [
                "### Task 1: Initialize Q table"
            ]
        },
        {
            "cell_type": "code",
            "execution_count": 543,
            "metadata": {
                "cell_id": "c281a6450daf482398e74f5aaede93f1",
                "deepnote_cell_type": "code",
                "deepnote_to_be_reexecuted": true,
                "id": "O94qG1KpPkG3"
            },
            "outputs": [
                {
                    "name": "stdout",
                    "output_type": "stream",
                    "text": [
                        "Observation space dimensions:  (32, 32)\n",
                        "Number of possible actions: 4\n"
                    ]
                }
            ],
            "source": [
                "# Task 1: Initialize Q table\n",
                "\"\"\"\n",
                "TODO: given the environment, initialize the Q table\n",
                "\"\"\"\n",
                "\n",
                "# Tip: pay attention to the dimensions of Q table\n",
                "# Tip: how many states the table have, how many actions\n",
                "# Extra tip:\n",
                "\"\"\"number of states is different here in comparison with first example:\n",
                "we have 2 subcases for this environment:\n",
                "when Location is there and when it is removed/destroyed\"\"\"\n",
                "\n",
                "print(f\"Observation space dimensions:  {tmp_env.observation_space.shape}\")\n",
                "print(f\"Number of possible actions: {tmp_env.action_space.n}\")\n",
                "\n",
                "# YOUR CODE GOES HERE\n",
                "\n",
                "\n",
                "Q_test = None # you need to initialize Q_test\n",
                "#print(Q_test.shape)"
            ]
        },
        {
            "cell_type": "markdown",
            "metadata": {
                "cell_id": "a491cae2c44043ca8a48a5d91da4b7e2",
                "deepnote_cell_type": "markdown",
                "id": "JB2XCe2ePkG3"
            },
            "source": [
                "### Task 2: Write necessary helper functions for Q-learning"
            ]
        },
        {
            "cell_type": "code",
            "execution_count": 544,
            "metadata": {
                "cell_id": "19599838807d4d25bcfe94c59f5f0abc",
                "deepnote_cell_type": "code",
                "deepnote_to_be_reexecuted": true,
                "id": "WEanCBRQPkG3"
            },
            "outputs": [],
            "source": [
                "# Task 2: Write necessary helper functions for Q-learning\n",
                "# Tip: just use the same helper functions you already implemented above\n",
                "\n",
                "# YOU DON'T NEED TO DO ANYTHING HERE. They are the same"
            ]
        },
        {
            "cell_type": "markdown",
            "metadata": {
                "cell_id": "419a9bba419d455195c2f9edfb818c28",
                "deepnote_cell_type": "markdown",
                "id": "Caf0nsoiPkG3"
            },
            "source": [
                "### Task 3: Play with Hyperparameters"
            ]
        },
        {
            "cell_type": "code",
            "execution_count": 545,
            "metadata": {
                "cell_id": "b9aeb8ce2dc0436db3133bd97128c0b3",
                "deepnote_cell_type": "code",
                "deepnote_to_be_reexecuted": true,
                "id": "h52WTqg9PkG3"
            },
            "outputs": [],
            "source": [
                "# Task 3: Play with Hyperparameters\n",
                "# Tip - you can also use the same parameters as for the toy example above\n",
                "# YOUR CODE GOES HERE (set the values below)\n",
                "\n",
                "GAMMA_test = None\n",
                "NUM_EPISODES_test = None\n",
                "MIN_EXPLORE_RATE_test = None\n",
                "MIN_LEARNING_RATE_test = None\n",
                "STEP_SIZE_TEST = None\n",
                "# Depending on your parameters for the toy environment, using the same parameters here could work fine\n",
                "# if they are not working, you may want to set them to different values here"
            ]
        },
        {
            "cell_type": "markdown",
            "metadata": {
                "cell_id": "b7e0873e8cbe4782b393736744008c05",
                "deepnote_cell_type": "markdown",
                "id": "qFNdPJDsPkG3"
            },
            "source": [
                "## Now use Q-learning to learn the Q table\n",
                "### Task 4: Train the agent using Q-learning"
            ]
        },
        {
            "cell_type": "code",
            "execution_count": 546,
            "metadata": {
                "cell_id": "6ca633bdf9764d949ddfe0a6e5b06b09",
                "deepnote_cell_type": "code",
                "deepnote_to_be_reexecuted": true,
                "id": "3S1v2HSXPkG3"
            },
            "outputs": [],
            "source": [
                "# Task 4: Train the agent using Q-learning on\n",
                "# Tip - you can use the same function (or code) that you implemented for simple environment (Assignment 1 Task 4)\n",
                "\n",
                "# the logic is the same, just the enviroment is different\n",
                "# YOUR CODE GOES HERE"
            ]
        },
        {
            "cell_type": "code",
            "execution_count": 547,
            "metadata": {
                "cell_id": "dc96fdcd00a24163aff6f86bbbcd4273",
                "deepnote_cell_type": "code",
                "deepnote_to_be_reexecuted": true,
                "id": "2S7gcosOPkG4"
            },
            "outputs": [
                {
                    "name": "stdout",
                    "output_type": "stream",
                    "text": [
                        "Total reward after training: 1200, total Explore rate after training: 0.20186964080642128\n"
                    ]
                }
            ],
            "source": [
                "print(f\"Total reward after training: {total_reward}, total Explore rate after training: {explore_rate}\")"
            ]
        },
        {
            "cell_type": "markdown",
            "metadata": {
                "cell_id": "8447750a6b2a4289b86cdd1f4b3d2e43",
                "deepnote_cell_type": "markdown",
                "id": "hahegZZqPkG4"
            },
            "source": [
                "## Let's see one episode"
            ]
        },
        {
            "cell_type": "code",
            "execution_count": 548,
            "metadata": {
                "cell_id": "117f64efd38c45ba9f398fd259b140c5",
                "deepnote_cell_type": "code",
                "deepnote_to_be_reexecuted": true,
                "id": "U0DTHl47PkG4",
                "scrolled": false
            },
            "outputs": [
                {
                    "data": {
                        "image/png": "[encoded data removed]",
                        "text/plain": [
                            "<Figure size 640x480 with 1 Axes>"
                        ]
                    },
                    "metadata": {},
                    "output_type": "display_data"
                },
                {
                    "ename": "TypeError",
                    "evalue": "'NoneType' object is not subscriptable",
                    "output_type": "error",
                    "traceback": [
                        "\u001b[1;31m---------------------------------------------------------------------------\u001b[0m",
                        "\u001b[1;31mTypeError\u001b[0m                                 Traceback (most recent call last)",
                        "Cell \u001b[1;32mIn[548], line 16\u001b[0m\n\u001b[0;32m     13\u001b[0m img \u001b[38;5;241m=\u001b[39m tmp_env\u001b[38;5;241m.\u001b[39mrender()\n\u001b[0;32m     14\u001b[0m image_samples\u001b[38;5;241m.\u001b[39mappend(img)\n\u001b[1;32m---> 16\u001b[0m action \u001b[38;5;241m=\u001b[39m \u001b[43mupdate_action\u001b[49m\u001b[43m(\u001b[49m\u001b[43mtmp_env\u001b[49m\u001b[43m,\u001b[49m\u001b[43m \u001b[49m\u001b[43mstate_0\u001b[49m\u001b[43m,\u001b[49m\u001b[43m \u001b[49m\u001b[43mexplore_rate\u001b[49m\u001b[43m,\u001b[49m\u001b[43m \u001b[49m\u001b[43mQ\u001b[49m\u001b[38;5;241;43m=\u001b[39;49m\u001b[43mQ_test\u001b[49m\u001b[43m)\u001b[49m\n\u001b[0;32m     17\u001b[0m obv, reward, done, info \u001b[38;5;241m=\u001b[39m tmp_env\u001b[38;5;241m.\u001b[39mstep(action)\n\u001b[0;32m     18\u001b[0m state_1 \u001b[38;5;241m=\u001b[39m tmp_env\u001b[38;5;241m.\u001b[39mget_1d_state()\n",
                        "Cell \u001b[1;32mIn[531], line 34\u001b[0m, in \u001b[0;36mupdate_action\u001b[1;34m(env, state, explore_rate, Q)\u001b[0m\n\u001b[0;32m     30\u001b[0m \u001b[38;5;28;01mdef\u001b[39;00m\u001b[38;5;250m \u001b[39m\u001b[38;5;21mupdate_action\u001b[39m(env, state, explore_rate, Q):\n\u001b[0;32m     31\u001b[0m \n\u001b[0;32m     32\u001b[0m     \u001b[38;5;66;03m# this function should return an action\u001b[39;00m\n\u001b[0;32m     33\u001b[0m \t\u001b[38;5;66;03m# YOUR CODE GOES HERE\u001b[39;00m\n\u001b[1;32m---> 34\u001b[0m     q_values \u001b[38;5;241m=\u001b[39m \u001b[43mQ\u001b[49m\u001b[43m[\u001b[49m\u001b[43mstate\u001b[49m\u001b[43m]\u001b[49m\n\u001b[0;32m     36\u001b[0m     \u001b[38;5;28;01mif\u001b[39;00m np\u001b[38;5;241m.\u001b[39mrandom\u001b[38;5;241m.\u001b[39mrandom() \u001b[38;5;241m<\u001b[39m explore_rate:\n\u001b[0;32m     37\u001b[0m         action \u001b[38;5;241m=\u001b[39m np\u001b[38;5;241m.\u001b[39mrandom\u001b[38;5;241m.\u001b[39mrandint(\u001b[38;5;241m0\u001b[39m, env\u001b[38;5;241m.\u001b[39maction_space\u001b[38;5;241m.\u001b[39mn)\n",
                        "\u001b[1;31mTypeError\u001b[0m: 'NoneType' object is not subscriptable"
                    ]
                }
            ],
            "source": [
                "#now we can show one episode\n",
                "\n",
                "tmp_env.manual_mode = True # we want to see the messages\n",
                "STEP_SIZE_TEST_test = 45\n",
                "\n",
                "image_samples = []  # Array to store images\n",
                "\n",
                "observation = tmp_env.reset()\n",
                "state_0 = tmp_env.get_1d_state()\n",
                "total_reward = 0\n",
                "\n",
                "for _ in range(STEP_SIZE_TEST_test):\n",
                "    img = tmp_env.render()\n",
                "    image_samples.append(img)\n",
                "\n",
                "    action = update_action(tmp_env, state_0, explore_rate, Q=Q_test)\n",
                "    obv, reward, done, info = tmp_env.step(action)\n",
                "    state_1 = tmp_env.get_1d_state()\n",
                "    state_0 = state_1\n",
                "\n",
                "    total_reward += reward\n",
                "\n",
                "print(f\"Total_reward: \", total_reward)\n",
                "# self.observation.shape[0]"
            ]
        },
        {
            "cell_type": "markdown",
            "metadata": {
                "cell_id": "c497d52b223e415eb6464d102b593a74",
                "deepnote_cell_type": "markdown",
                "id": "fw1c9kfbiUiw"
            },
            "source": [
                "### Simple animation of agent movement in one episode"
            ]
        },
        {
            "cell_type": "code",
            "execution_count": null,
            "metadata": {
                "cell_id": "1fa236906f614475bd7dbf69395fe64b",
                "deepnote_cell_type": "code",
                "deepnote_to_be_reexecuted": true,
                "id": "xzKx98oDPkG4"
            },
            "outputs": [],
            "source": [
                "# let's make an animation of this, because it's fun\n",
                "# nothing for you to do here - just run the code\n",
                "\n",
                "import os\n",
                "import matplotlib.animation as animation\n",
                "\n",
                "height = img.shape[0]\n",
                "width = img.shape[1]\n",
                "\n",
                "output_folder = 'output_stuff'\n",
                "if not os.path.exists(output_folder):\n",
                "    os.makedirs(output_folder)\n",
                "\n",
                "\n",
                "fig = plt.figure()\n",
                "imgs = []\n",
                "for i in range(STEP_SIZE_TEST_test):\n",
                "    im = plt.imshow(image_samples[i].reshape(height, width, 3), animated=True)\n",
                "    imgs.append([im])\n",
                "\n",
                "animate = animation.ArtistAnimation(fig, imgs, interval=80, blit=True, repeat_delay=1000)\n",
                "filename_gif = os.path.join(output_folder, 'animation_test.gif')\n",
                "animate.save(filename_gif)\n",
                "plt.show()"
            ]
        },
        {
            "cell_type": "markdown",
            "metadata": {
                "created_in_deepnote_cell": true,
                "deepnote_cell_type": "markdown"
            },
            "source": [
                "<a style='text-decoration:none;line-height:16px;display:flex;color:#5B5B62;padding:10px;justify-content:end;' href='https://deepnote.com?utm_source=created-in-deepnote-cell&projectId=cd10384d-28df-431e-b0f2-62886eff090a' target=\"_blank\">\n",
                "<img alt='Created in deepnote.com' style='display:inline;max-height:16px;margin:0px;margin-right:7.5px;' src='data:image/svg+xml;base64,PD94bWwgdmVyc2lvbj0iMS4wIiBlbmNvZGluZz0iVVRGLTgiPz4KPHN2ZyB3aWR0aD0iODBweCIgaGVpZ2h0PSI4MHB4IiB2aWV3Qm94PSIwIDAgODAgODAiIHZlcnNpb249IjEuMSIgeG1sbnM9Imh0dHA6Ly93d3cudzMub3JnLzIwMDAvc3ZnIiB4bWxuczp4bGluaz0iaHR0cDovL3d3dy53My5vcmcvMTk5OS94bGluayI+CiAgICA8IS0tIEdlbmVyYXRvcjogU2tldGNoIDU0LjEgKDc2NDkwKSAtIGh0dHBzOi8vc2tldGNoYXBwLmNvbSAtLT4KICAgIDx0aXRsZT5Hcm91cCAzPC90aXRsZT4KICAgIDxkZXNjPkNyZWF0ZWQgd2l0aCBTa2V0Y2guPC9kZXNjPgogICAgPGcgaWQ9IkxhbmRpbmciIHN0cm9rZT0ibm9uZSIgc3Ryb2tlLXdpZHRoPSIxIiBmaWxsPSJub25lIiBmaWxsLXJ1bGU9ImV2ZW5vZGQiPgogICAgICAgIDxnIGlkPSJBcnRib2FyZCIgdHJhbnNmb3JtPSJ0cmFuc2xhdGUoLTEyMzUuMDAwMDAwLCAtNzkuMDAwMDAwKSI+CiAgICAgICAgICAgIDxnIGlkPSJHcm91cC0zIiB0cmFuc2Zvcm09InRyYW5zbGF0ZSgxMjM1LjAwMDAwMCwgNzkuMDAwMDAwKSI+CiAgICAgICAgICAgICAgICA8cG9seWdvbiBpZD0iUGF0aC0yMCIgZmlsbD0iIzAyNjVCNCIgcG9pbnRzPSIyLjM3NjIzNzYyIDgwIDM4LjA0NzY2NjcgODAgNTcuODIxNzgyMiA3My44MDU3NTkyIDU3LjgyMTc4MjIgMzIuNzU5MjczOSAzOS4xNDAyMjc4IDMxLjY4MzE2ODMiPjwvcG9seWdvbj4KICAgICAgICAgICAgICAgIDxwYXRoIGQ9Ik0zNS4wMDc3MTgsODAgQzQyLjkwNjIwMDcsNzYuNDU0OTM1OCA0Ny41NjQ5MTY3LDcxLjU0MjI2NzEgNDguOTgzODY2LDY1LjI2MTk5MzkgQzUxLjExMjI4OTksNTUuODQxNTg0MiA0MS42NzcxNzk1LDQ5LjIxMjIyODQgMjUuNjIzOTg0Niw0OS4yMTIyMjg0IEMyNS40ODQ5Mjg5LDQ5LjEyNjg0NDggMjkuODI2MTI5Niw0My4yODM4MjQ4IDM4LjY0NzU4NjksMzEuNjgzMTY4MyBMNzIuODcxMjg3MSwzMi41NTQ0MjUgTDY1LjI4MDk3Myw2Ny42NzYzNDIxIEw1MS4xMTIyODk5LDc3LjM3NjE0NCBMMzUuMDA3NzE4LDgwIFoiIGlkPSJQYXRoLTIyIiBmaWxsPSIjMDAyODY4Ij48L3BhdGg+CiAgICAgICAgICAgICAgICA8cGF0aCBkPSJNMCwzNy43MzA0NDA1IEwyNy4xMTQ1MzcsMC4yNTcxMTE0MzYgQzYyLjM3MTUxMjMsLTEuOTkwNzE3MDEgODAsMTAuNTAwMzkyNyA4MCwzNy43MzA0NDA1IEM4MCw2NC45NjA0ODgyIDY0Ljc3NjUwMzgsNzkuMDUwMzQxNCAzNC4zMjk1MTEzLDgwIEM0Ny4wNTUzNDg5LDc3LjU2NzA4MDggNTMuNDE4MjY3Nyw3MC4zMTM2MTAzIDUzLjQxODI2NzcsNTguMjM5NTg4NSBDNTMuNDE4MjY3Nyw0MC4xMjg1NTU3IDM2LjMwMzk1NDQsMzcuNzMwNDQwNSAyNS4yMjc0MTcsMzcuNzMwNDQwNSBDMTcuODQzMDU4NiwzNy43MzA0NDA1IDkuNDMzOTE5NjYsMzcuNzMwNDQwNSAwLDM3LjczMDQ0MDUgWiIgaWQ9IlBhdGgtMTkiIGZpbGw9IiMzNzkzRUYiPjwvcGF0aD4KICAgICAgICAgICAgPC9nPgogICAgICAgIDwvZz4KICAgIDwvZz4KPC9zdmc+' > </img>\n",
                "Created in <span style='font-weight:600;margin-left:4px;'>Deepnote</span></a>"
            ]
        }
    ],
    "metadata": {
        "deepnote_notebook_id": "3f3c926188764580822be3c87908636e",
        "kernelspec": {
            "display_name": "Python 3",
            "language": "python",
            "name": "python3"
        },
        "language_info": {
            "codemirror_mode": {
                "name": "ipython",
                "version": 3
            },
            "file_extension": ".py",
            "mimetype": "text/x-python",
            "name": "python",
            "nbconvert_exporter": "python",
            "pygments_lexer": "ipython3",
            "version": "3.13.6"
        }
    },
    "nbformat": 4,
    "nbformat_minor": 0
}
