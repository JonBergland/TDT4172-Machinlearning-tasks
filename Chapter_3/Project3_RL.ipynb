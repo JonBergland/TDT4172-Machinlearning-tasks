{
    "cells": [
        {
            "cell_type": "markdown",
            "metadata": {
                "cell_id": "539eb6a663f148c8b3648d4c30841fb9",
                "deepnote_cell_type": "markdown",
                "id": "Bb6euaGTtpwB"
            },
            "source": [
                "# **Project 3 - Reinforcement Learning**\n",
                "\n",
                "\n",
                "\n",
                "\n"
            ]
        },
        {
            "cell_type": "markdown",
            "metadata": {
                "cell_id": "1aac8b7f7768453fa7dd37c8ca8280c1",
                "deepnote_cell_type": "markdown",
                "id": "8ECxNoBGPkGr"
            },
            "source": [
                "## 🌞 Mission: Find a secret Location in Trondheim where SkyNets servers are located"
            ]
        },
        {
            "cell_type": "markdown",
            "metadata": {
                "cell_id": "80824d25073c4a33ab70d21d8172f113",
                "deepnote_cell_type": "markdown",
                "id": "daDMCdxyPkGs"
            },
            "source": [
                "📊 **High-level goal:**\n",
                "\n",
                "Train an agent (the “learner”) to interact with given environment and learn from it, so it can maximize its cumulative rewards over time.\n",
                "\n",
                "\n",
                "\n",
                "\n",
                "*   **Environment:**\n",
                "     *   The environment **is already created** and set up for you with the help of\n",
                "\"gymnasium\" library.\n",
                "     *   The agent is interacting with a simulated environment, which has states, accepts actions, and returns rewards. The environment resets at the beginning of each episode, and the agent takes actions within it, receiving feedback in the form of rewards.\n",
                "*   **Q-table:**\n",
                "     *   This table stores information about the \"quality\" of actions in different states.\n",
                "     *   The goal of the agent is to update the Q-table over time to estimate the value of taking different actions in various states.\n",
                "     *   You will initialize and learn Q-table in this project.\n"
            ]
        },
        {
            "cell_type": "markdown",
            "metadata": {
                "cell_id": "ac7567d6c1c245519be2d901ef2dd080",
                "deepnote_cell_type": "markdown",
                "id": "URR74x6gPkGs"
            },
            "source": [
                "## 📮 Imports:"
            ]
        },
        {
            "cell_type": "code",
            "execution_count": 91,
            "metadata": {
                "cell_id": "93330a103fdb47278514898b9b645446",
                "deepnote_cell_type": "code",
                "execution_context_id": "25918dda-8400-4096-8584-354a0a1a97e1",
                "execution_millis": 5958,
                "execution_start": 1761731870490,
                "id": "NtDaL3aL9emb",
                "source_hash": "c956d0be"
            },
            "outputs": [
                {
                    "name": "stdout",
                    "output_type": "stream",
                    "text": [
                        "Requirement already satisfied: gymnasium in c:\\users\\jon bergland\\appdata\\local\\programs\\python\\python311\\lib\\site-packages (0.29.1)Note: you may need to restart the kernel to use updated packages.\n",
                        "\n"
                    ]
                },
                {
                    "name": "stderr",
                    "output_type": "stream",
                    "text": [
                        "ERROR: Could not find a version that satisfies the requirement quiet (from versions: none)\n",
                        "\n",
                        "[notice] A new release of pip is available: 24.2 -> 25.3\n",
                        "[notice] To update, run: python.exe -m pip install --upgrade pip\n",
                        "ERROR: No matching distribution found for quiet\n"
                    ]
                },
                {
                    "name": "stdout",
                    "output_type": "stream",
                    "text": [
                        "Requirement already satisfied: imageio in c:\\users\\jon bergland\\appdata\\local\\programs\\python\\python311\\lib\\site-packages (2.37.0)\n",
                        "Note: you may need to restart the kernel to use updated packages.\n"
                    ]
                },
                {
                    "name": "stderr",
                    "output_type": "stream",
                    "text": [
                        "ERROR: Could not find a version that satisfies the requirement quiet (from versions: none)\n",
                        "\n",
                        "[notice] A new release of pip is available: 24.2 -> 25.3\n",
                        "[notice] To update, run: python.exe -m pip install --upgrade pip\n",
                        "ERROR: No matching distribution found for quiet\n"
                    ]
                }
            ],
            "source": [
                "%pip install gymnasium -- quiet\n",
                "%pip install imageio -- quiet\n",
                "# import libraries\n",
                "import numpy as np\n",
                "import matplotlib.pyplot as plt\n",
                "import imageio.v3 as iio\n",
                "import random\n",
                "import os\n",
                "\n",
                "# note: make sure to install necessary libraries like imageio, gymnasium etc.\n"
            ]
        },
        {
            "cell_type": "code",
            "execution_count": 92,
            "metadata": {
                "cell_id": "8b58823a51bd4fed92b5a1a5571c2463",
                "deepnote_cell_type": "code",
                "execution_context_id": "25918dda-8400-4096-8584-354a0a1a97e1",
                "execution_millis": 0,
                "execution_start": 1761731876494,
                "id": "Jq1P8fu_itVF",
                "source_hash": "bca8a597"
            },
            "outputs": [],
            "source": [
                "# import gymnasium stuff\n",
                "import gymnasium as gym\n",
                "from gymnasium import error, spaces, utils\n",
                "from gymnasium.utils import seeding\n",
                "from gymnasium.spaces import Discrete, MultiDiscrete"
            ]
        },
        {
            "cell_type": "markdown",
            "metadata": {
                "cell_id": "4be17433bcb14d9ebf8d537884f5b065",
                "deepnote_cell_type": "markdown",
                "id": "4UCkLhnL5hik"
            },
            "source": [
                "### Utility functions are provided for you:\n",
                "\n",
                "\n",
                "*   one_hot_decode\n",
                "*   one_hot_encode\n",
                "*   make_2d\n",
                "*   make_3d\n",
                "*   read_png_file\n",
                "*   is_valid_idx\n",
                "*   flatten_observation\n",
                "*   is_valid_idx\n",
                "*   flatten_observation\n",
                "*   make_2d_observation\n",
                "*   swap_values"
            ]
        },
        {
            "cell_type": "code",
            "execution_count": 93,
            "metadata": {
                "cell_id": "8ce8e67becfa4e1c98721e9798e33c8b",
                "deepnote_cell_type": "code",
                "execution_context_id": "25918dda-8400-4096-8584-354a0a1a97e1",
                "execution_millis": 1,
                "execution_start": 1761731876543,
                "id": "O6bisXF65lHl",
                "source_hash": "9056160b"
            },
            "outputs": [],
            "source": [
                "def one_hot_decode(label_3D):\n",
                "  \"\"\"\n",
                "  Converts back from one-hot encoded format (label_3D)\n",
                "  to original class labels for each pixel (2D)\n",
                "  \"\"\"\n",
                "  return np.argmax(label_3D, axis=-1)\n",
                "\n",
                "def one_hot_encode(label_2D, label_values):\n",
                "    \"\"\"\n",
                "    Converts a segmentation image label array (label_2D) to one-hot format\n",
                "    by replacing each pixel value with a vector of length num_classes\n",
                "    # Arguments\n",
                "        label_2D: The 2D array segmentation image label\n",
                "        label_values: an RGB array of classes (num_classes, 3)\n",
                "\n",
                "    # Returns\n",
                "        A 3D array with the same width and height as the input,\n",
                "        but with a depth size of num_classes (for each pixel)\n",
                "\n",
                "        Each class gets its own encoding for every pixel in the image.\n",
                "        Encodings are then stacked along new axis which is number of classes\n",
                "    \"\"\"\n",
                "    semantic_map = []\n",
                "    for colour in label_values:\n",
                "        equality = np.equal(label_2D, colour)\n",
                "        class_map = np.all(equality, axis=-1)\n",
                "        semantic_map.append(class_map)\n",
                "    semantic_map = np.stack(semantic_map, axis=-1)\n",
                "\n",
                "    return semantic_map\n",
                "\n",
                "def make_2d(map_3d=None, palette_array=None):\n",
                "    \"\"\"\n",
                "    Converts RGB images to images with number of class as value at [i,j]\n",
                "\n",
                "    map_3d: 3D RGB image (H, W, n_ch = 3)\n",
                "    palette_array: an RGB array of classes (num_classes, 3)\n",
                "\n",
                "    Result: 2D structure where each \"pixel\" in the image\n",
                "    has a class number instead of RGB color\n",
                "    \"\"\"\n",
                "    # here we make 3D representation, 3rd dimension has one-hot encoded classes\n",
                "    replaced_image_onehot = one_hot_encode(\n",
                "        map_3d.astype(np.uint8), palette_array) # size (H, W, num_classes)\n",
                "    # we create 2D representation, where every pixel has the value of its class\n",
                "    return one_hot_decode(replaced_image_onehot) # size (H, W) - 2D\n",
                "\n",
                "def make_3d(map_2d=None, palette_array=None):\n",
                "    \"\"\"\n",
                "    Convert a 2d img to 3d\n",
                "    Convert a 2D image where each pixel represents a class label\n",
                "    into a 3D image where each class label is represented\n",
                "    by its corresponding RGB color from the palette_array.\n",
                "    Creates colorized 3D image from the original 2D class map\n",
                "\n",
                "    map_2d: array of class labels, size (H, W)\n",
                "    palette_array: an RGB array of classes (num_classes, 3)\n",
                "\n",
                "    Result: RGB image (H, W, 3)\n",
                "    \"\"\"\n",
                "    return palette_array[map_2d.astype(np.uint8)]\n",
                "\n",
                "\n",
                "def read_png_file(image_path, printDebug = True):\n",
                "    \"\"\"\n",
                "    read a png file and returns it as a 3D numpy array\n",
                "    \"\"\"\n",
                "    original_image_matrix = iio.imread(image_path)\n",
                "\n",
                "    if original_image_matrix.ndim > 2 and original_image_matrix.shape[-1] > 3:\n",
                "        if printDebug:\n",
                "            print(f'image has more than 3 channels, only first 3 channels are used there are {original_image_matrix.shape} channels')\n",
                "        original_image_matrix = original_image_matrix[:, :, :3]\n",
                "    return original_image_matrix\n",
                "\n",
                "def is_valid_idx(image_2D, selected_idx):\n",
                "    \"\"\"\n",
                "    Checks if a given index is within the valid range of a 2D array\n",
                "\n",
                "    if selected_idx is valid in image_2D\n",
                "    selected_idx = [i,j]\n",
                "    image_2D = [h,w]\n",
                "      \"\"\"\n",
                "    if selected_idx[0] < 0 or selected_idx[1] < 0:\n",
                "        return False\n",
                "    if selected_idx[0] < image_2D.shape[0]:\n",
                "        if selected_idx[1] < image_2D.shape[1]:\n",
                "            return True\n",
                "    return False\n",
                "\n",
                "def flatten_observation(observation_arr):\n",
                "    \"\"\"\n",
                "    Converts/flattens a multi-dimensional array into a 1D array\n",
                "    \"\"\"\n",
                "    return observation_arr.flatten\n",
                "\n",
                "\n",
                "def make_2d_observation(observation_flattened, observation_arr_shape):\n",
                "    \"\"\"\n",
                "    Converts flattened array into shape observation_arr_shape\n",
                "    \"\"\"\n",
                "    return observation_flattened.reshape(observation_arr_shape.shape)\n",
                "\n",
                "def swap_values(arr, value1, value2):\n",
                "    \"\"\"\n",
                "    Swaps occurencies of two specific values (value1 and value2)\n",
                "    within a 2D NumPy array (arr).\n",
                "\n",
                "    arr: A 2D NumPy array where we want to swap the values\n",
                "    value1: the first value that we want to swap with value2\n",
                "    value2: the second value that we want to swap with value1\n",
                "\n",
                "    Returns: 2D array with swapped values\n",
                "    \"\"\"\n",
                "\n",
                "    # Ensure the values are integers\n",
                "    value1, value2 = int(value1), int(value2)\n",
                "\n",
                "    # Step 1: Find the first position of value1 and change it to value2\n",
                "    pos_value1 = np.argwhere(arr == value1) # returns 2D array\n",
                "    if pos_value1.size > 0:\n",
                "        arr[pos_value1[0][0], pos_value1[0][1]] = value2\n",
                "\n",
                "    # Step 2: Get all positions of value2\n",
                "    pos_value2 = np.argwhere(arr == value2) # returns 2D array\n",
                "\n",
                "    # Step 3: Randomly select a position of value2 that is not the original value1's position\n",
                "    if len(pos_value2) > 1:\n",
                "        # filter out the position of former value1 (pos_value1) which now also contains value2\n",
                "        pos_value2 = pos_value2[np.all(pos_value2 != pos_value1[0], axis=1)]\n",
                "        if pos_value2.size > 0:\n",
                "            random_pos_value2 = pos_value2[np.random.choice(len(pos_value2))]\n",
                "            arr[random_pos_value2[0], random_pos_value2[1]] = value1\n",
                "\n",
                "    return arr"
            ]
        },
        {
            "cell_type": "markdown",
            "metadata": {
                "cell_id": "0c4c1c3334ff4053b26ecabcdceba815",
                "deepnote_cell_type": "markdown",
                "id": "I95zkEvIPkGt"
            },
            "source": [
                "### Environment class with necessary functions - provided for you:\n",
                "\n",
                "\n",
                "*   constructor __init__\n",
                "*   step\n",
                "*   reset\n",
                "*   get_1d_state\n",
                "*   render\n",
                "*   close\n"
            ]
        },
        {
            "cell_type": "code",
            "execution_count": 94,
            "metadata": {
                "cell_id": "745f767d1f4149318c185f107831415b",
                "deepnote_cell_type": "code",
                "execution_context_id": "25918dda-8400-4096-8584-354a0a1a97e1",
                "execution_millis": 1,
                "execution_start": 1761731876603,
                "id": "s6TWGiuXth-H",
                "source_hash": "9e987f1d"
            },
            "outputs": [],
            "source": [
                "class TrondheimEnv(gym.Env):\n",
                "    metadata = {'render.modes': ['human']}\n",
                "\n",
                "    def __init__(self, conf):\n",
                "        \"\"\"\n",
                "        Every environment should be derived from gym.Env and at least contain\n",
                "        variables observation_space and action_space specifying the type of possible\n",
                "        observations and actions using spaces.Box or spaces.Discrete.\n",
                "\n",
                "        Example:\n",
                "        >>> EnvTest = TrondheimEnv()\n",
                "        >>> EnvTest.observation_space=spaces.Box(low=-1, high=1, shape=(3,4))\n",
                "        >>> EnvTest.action_space=spaces.Discrete(2)\n",
                "        \"\"\"\n",
                "\n",
                "        self.manual_mode = True  # Flag to control printouts\n",
                "\n",
                "        # action definition:\n",
                "        number_action = 4\n",
                "        self.action_space = Discrete(number_action)\n",
                "\n",
                "        self.env_image_path = conf['env_image_path']\n",
                "        self.number_removable_locations = conf['number_removable_locations']\n",
                "\n",
                "        self.pallete = np.array([[0, 0, 255],    # Blue:0:Water\n",
                "                            [255, 255, 0],  # Yellow:1:Start\n",
                "                            [0, 255, 0],    # Green:2:Land\n",
                "                            [255, 0, 0],    # Red:3:BusLane\n",
                "                            [128, 0, 128],  # Purple:4:BusStop\n",
                "                            [0,   0,   0],  # Black:5:Secret Location\n",
                "                            [128, 128, 0]], # Olive:6:Final Location\n",
                "                           dtype=np.uint8)\n",
                "\n",
                "        self.neighbours = np.array([[-1,0],[0,-1],[1,0],[0,1]]) # up, left, down, right\n",
                "        self.not_allowed_area = [0] # water\n",
                "        self.normal_land_class = 2 # land\n",
                "        self.neutral_area = [self.normal_land_class,3] # land and BusLane\n",
                "        self.start_class = 1 # start\n",
                "        self.busstop_class = 4 # bus stop\n",
                "        self.secret_location_class = 5 # secret location\n",
                "        self.final_location_class = 6 # final location (2)\n",
                "\n",
                "        # does agent die when enter not_allowed_area\n",
                "        self.dead_allowed = conf['dead_allowed']\n",
                "        # does shops closed after the first purchase\n",
                "        self.remove_after_location_found = conf['remove_after_location_found']\n",
                "        # should we start at different place each time\n",
                "        self.start_random = conf['start_random']\n",
                "\n",
                "        # read RGB image into a 3D numpy array\n",
                "        img_3d = read_png_file(self.env_image_path, printDebug = False)\n",
                "\n",
                "        # convert RGB image into 2D semantic class representation\n",
                "        img_2d = make_2d(map_3d=img_3d,\n",
                "                         palette_array=self.pallete)\n",
                "\n",
                "        # the current state of the environment\n",
                "        self.observation = img_2d # initial observation - 2D semantic class\n",
                "        # copy of the environment's initial state before any actions have been taken\n",
                "        self.initial_observation = img_2d.copy()\n",
                "\n",
                "        max_observation_value = np.max(img_2d)\n",
                "        # assert isinstance(max_observation_value, int)\n",
                "        # can be used, not needed for this implementation\n",
                "        # observation space is a gym object (MultiDiscrete), like numpy array. It can be sampled\n",
                "        observation_space = np.full_like(img_2d,\n",
                "                                         fill_value=max_observation_value)\n",
                "        self.observation_space = MultiDiscrete(observation_space)\n",
                "\n",
                "        # rewards\n",
                "        self.reward = 0\n",
                "\n",
                "        # done\n",
                "        self.done = False\n",
                "\n",
                "        # terminated\n",
                "        self.terminated = False\n",
                "\n",
                "\n",
                "\n",
                "\n",
                "    def step(self, action):\n",
                "        \"\"\"\n",
                "        This method is the primary interface between environment and agent.\n",
                "\n",
                "        Parameters:\n",
                "            action: int\n",
                "                    the index of the respective action (if action space is discrete)\n",
                "\n",
                "        Returns:\n",
                "            output: (array, float, bool, info)\n",
                "                    information provided by the environment about its current state:\n",
                "                    (observation, reward, done)\n",
                "\n",
                "                    self.observation: The updated state of the environment (2D)\n",
                "                    reward: Reward agent received for the action in this step (Int)\n",
                "                    terminated: indicate if the episode has ended (Bool)\n",
                "                    info: Additional information (not used currently)\n",
                "\n",
                "        \"\"\"\n",
                "        obs = self.observation # 2D array of semantic class image representation\n",
                "        terminated = False\n",
                "        truncated = False\n",
                "        info = None\n",
                "\n",
                "        # just start and see where it goes\n",
                "        start_idx = np.argwhere(obs == self.start_class)[0]\n",
                "        # action is: 0:up, 1:left, 2:down, 3:right\n",
                "        next_idx = start_idx + self.neighbours[action]\n",
                "        reward = self.reward\n",
                "        if self.manual_mode:\n",
                "          print('Next step towards: ')\n",
                "\n",
                "        if not is_valid_idx(image_2D=obs, selected_idx=next_idx):\n",
                "            next_idx = start_idx\n",
                "            if self.manual_mode:\n",
                "                print('Hey there, you cannot escape outside of the environment')\n",
                "\n",
                "        # now decide what happens next\n",
                "\n",
                "        if obs[tuple(next_idx)] == self.normal_land_class:\n",
                "            if self.manual_mode:\n",
                "                print('Green Land class area')\n",
                "\n",
                "        # check if it is a non allowed area\n",
                "        if obs[tuple(next_idx)] in self.not_allowed_area:\n",
                "            if self.manual_mode:\n",
                "                print('The move is not allowed')\n",
                "            if self.dead_allowed:\n",
                "                # penalize the agent if allowed to die. Terminate\n",
                "                reward = -1000\n",
                "                terminated = True\n",
                "            else:\n",
                "                # if NOT allowed to die, reset the next position to current one - prevent the move\n",
                "                reward = -1\n",
                "                next_idx = start_idx\n",
                "\n",
                "\n",
                "        # if the player is in bus stup\n",
                "        elif obs[tuple(next_idx)] == self.busstop_class:\n",
                "            if self.manual_mode:\n",
                "                print('A bus stop')\n",
                "\n",
                "            # get the bus stop that is not the next step\n",
                "            bus_stop_indices = np.argwhere(obs == self.busstop_class)\n",
                "            # flip the next state to the other side of the stop\n",
                "            if np.array_equal(next_idx, bus_stop_indices[0]):\n",
                "                # teleport the agent from bus stop 0 to bus stop 1\n",
                "                next_idx = bus_stop_indices[1]\n",
                "            else:\n",
                "                # teleport the agent from bus stop 1 to bus stop 0\n",
                "                next_idx = bus_stop_indices[0]\n",
                "\n",
                "        # if it is Secret Location\n",
                "        elif obs[tuple(next_idx)] == self.secret_location_class:\n",
                "            if self.manual_mode:\n",
                "                print('Central Source Secret Location')\n",
                "            reward = 300\n",
                "            # close the shop (remove from the map)\n",
                "            if self.remove_after_location_found:\n",
                "                self.initial_observation[tuple(next_idx)] = self.normal_land_class\n",
                "                self.number_removed_shop += 1\n",
                "                reward = 9000\n",
                "\n",
                "        # and the Final Location\n",
                "        elif obs[tuple(next_idx)] == self.final_location_class:\n",
                "            if self.manual_mode:\n",
                "                print('Final Location - well done!')\n",
                "                print('You have discovered the Final Location of AI center in Trondheim')\n",
                "            reward = 200\n",
                "\n",
                "\n",
                "        # now we need to change the observation space\n",
                "        # i.e. update the environment’s state to reflect the agent's movement\n",
                "\n",
                "        # if agent’s current position was initial start position\n",
                "        if self.initial_observation[tuple(start_idx)] == self.start_class:\n",
                "            # if true, update observation - mark the start position as neutral area\n",
                "            self.observation[tuple(start_idx)] = self.normal_land_class\n",
                "        else:\n",
                "            # if current position not the initial start one\n",
                "            # restores position in self.observation to its original value from self.initial_observation\n",
                "            # re-color the observation as where you were if not start position\n",
                "            self.observation[tuple(start_idx)] = self.initial_observation[tuple(start_idx)]\n",
                "\n",
                "        # sets the new position of the agent as the next start position\n",
                "        self.observation[tuple(next_idx)] = self.start_class\n",
                "\n",
                "        return self.observation, reward, terminated, info\n",
                "\n",
                "\n",
                "    def reset(self):\n",
                "        \"\"\"\n",
                "        This method resets the environment to its initial values.\n",
                "\n",
                "        Returns:\n",
                "            observation:    array\n",
                "                            the initial state of the environment\n",
                "        \"\"\"\n",
                "        self.number_removed_shop = 0\n",
                "\n",
                "        img_3d = read_png_file(self.env_image_path, printDebug = False)\n",
                "        img_2d = make_2d(map_3d=img_3d,\n",
                "                         palette_array=self.pallete)\n",
                "\n",
                "        if self.start_random:\n",
                "          # we need to move the start to another place\n",
                "          img_2d = swap_values(arr=img_2d,\n",
                "                               value1=1,\n",
                "                               value2=2)\n",
                "\n",
                "        self.observation = img_2d\n",
                "        self.initial_observation = img_2d.copy()\n",
                "\n",
                "        max_observation_value = np.max(img_2d)\n",
                "        observation_space = np.full_like(img_2d,\n",
                "                                         fill_value=max_observation_value)\n",
                "        self.observation_space = MultiDiscrete(observation_space)\n",
                "\n",
                "        # rewards\n",
                "        self.reward = 0\n",
                "\n",
                "        # done\n",
                "        self.done = False\n",
                "\n",
                "        # terminated\n",
                "        self.terminated = False\n",
                "\n",
                "        return self.observation\n",
                "\n",
                "\n",
                "    def get_1d_state(self):\n",
                "        \"\"\"\n",
                "        This function returns state as 1d observation\n",
                "        \"\"\"\n",
                "        max_x = self.observation.shape[0]\n",
                "        max_y = self.observation.shape[1]\n",
                "\n",
                "        start_idx = np.argwhere(\n",
                "            self.observation == self.start_class)[0]\n",
                "        state_number = (\n",
                "            start_idx[0] * max_x) + start_idx[1]\n",
                "        state_number = (self.number_removed_shop * max_x * max_y) + state_number\n",
                "        return state_number\n",
                "\n",
                "    def render(self, mode='human', close=False):\n",
                "        \"\"\"\n",
                "        This methods provides the option to render the environment's behavior to a\n",
                "        window which should be readable to the human eye if mode is set to 'human'.\n",
                "        \"\"\"\n",
                "        render_ready_arr = make_3d(map_2d=self.observation,\n",
                "                                   palette_array=self.pallete)\n",
                "        plt.imshow(render_ready_arr)\n",
                "        plt.show()\n",
                "        plt.close()\n",
                "        return render_ready_arr\n",
                "\n",
                "    def close(self):\n",
                "        \"\"\"\n",
                "        This method provides the user with the option to perform necessary\n",
                "        cleanup.\n",
                "        \"\"\"\n",
                "        img_3d = read_png_file(self.env_image_path)\n",
                "        img_2d = make_2d(map_3d=img_3d,\n",
                "                         palette_array=self.pallete)\n",
                "        self.observation = img_2d\n",
                "        self.initial_observation = img_2d.copy()\n"
            ]
        },
        {
            "cell_type": "code",
            "execution_count": 95,
            "metadata": {
                "cell_id": "b4933b85f02346cba99aac706970364f",
                "deepnote_cell_type": "code",
                "execution_context_id": "25918dda-8400-4096-8584-354a0a1a97e1",
                "execution_millis": 17,
                "execution_start": 1761731876653,
                "id": "oYWhRI2VygG9",
                "source_hash": "27d1c183"
            },
            "outputs": [],
            "source": [
                "# let's make sure to create subfolder for our input images, if not already there\n",
                "input_folder = 'input_images'\n",
                "if not os.path.exists(input_folder):\n",
                "    os.makedirs(input_folder)"
            ]
        },
        {
            "cell_type": "markdown",
            "metadata": {
                "cell_id": "b98d57260f3f4f6b8e758aca6c3727e8",
                "deepnote_cell_type": "markdown",
                "id": "LESqxWq8PkGu"
            },
            "source": [
                "# Configuring and loading the environment:"
            ]
        },
        {
            "cell_type": "markdown",
            "metadata": {
                "cell_id": "2da99cbe2dd647aa94d4112773f0108f",
                "deepnote_cell_type": "markdown",
                "id": "aPy3pcnbPkGu"
            },
            "source": [
                "## 🔎📉  Let's first visualize our simple toy environment"
            ]
        },
        {
            "cell_type": "code",
            "execution_count": 96,
            "metadata": {
                "cell_id": "e71a4b6eae634b8580275c7dfaf79c06",
                "deepnote_cell_type": "code",
                "execution_context_id": "25918dda-8400-4096-8584-354a0a1a97e1",
                "execution_millis": 238,
                "execution_start": 1761731876734,
                "id": "HEmdFlf2PkGu",
                "source_hash": "11651609"
            },
            "outputs": [
                {
                    "name": "stdout",
                    "output_type": "stream",
                    "text": [
                        "Environment successfully created\n"
                    ]
                }
            ],
            "source": [
                "# This is how you create a configuration for the environment\n",
                "# Note: make sure that folder input_images is created\n",
                "# Note 2: make sure you copy necessary input images there\n",
                "\n",
                "env_config = {\n",
                "    'env_image_path':'input_images/image_simple_1.png',\n",
                "    'dead_allowed':False,\n",
                "    'remove_after_location_found':False,\n",
                "    'start_random':False,\n",
                "    'number_removable_locations':0,\n",
                "}\n",
                "\n",
                "\n",
                "if not os.path.exists(env_config['env_image_path']):\n",
                "  # make sure you have the folder and the image\n",
                "  print(f\"Error: The image path {env_config['env_image_path']} does not exist.\")\n",
                "else:\n",
                "  # if everything fine, we create the environment\n",
                "  tmp_env = TrondheimEnv(conf=env_config)\n",
                "  print(f\"Environment successfully created\")"
            ]
        },
        {
            "cell_type": "code",
            "execution_count": 97,
            "metadata": {
                "cell_id": "e1d224933fb64508a3d1c60d2ddd310a",
                "deepnote_cell_type": "code",
                "execution_context_id": "25918dda-8400-4096-8584-354a0a1a97e1",
                "execution_millis": 484,
                "execution_start": 1761731877023,
                "id": "_clXneCvPkGu",
                "source_hash": "62718f3d"
            },
            "outputs": [
                {
                    "data": {
                        "image/png": "[encoded data removed]",
                        "text/plain": [
                            "<Figure size 640x480 with 1 Axes>"
                        ]
                    },
                    "metadata": {},
                    "output_type": "display_data"
                },
                {
                    "data": {
                        "text/plain": [
                            "array([[[  0, 255,   0],\n",
                            "        [  0, 255,   0],\n",
                            "        [  0, 255,   0],\n",
                            "        [  0, 255,   0],\n",
                            "        [  0, 255,   0],\n",
                            "        [  0, 255,   0],\n",
                            "        [  0, 255,   0],\n",
                            "        [  0, 255,   0],\n",
                            "        [  0, 255,   0],\n",
                            "        [  0, 255,   0],\n",
                            "        [  0, 255,   0],\n",
                            "        [  0, 255,   0]],\n",
                            "\n",
                            "       [[  0, 255,   0],\n",
                            "        [  0, 255,   0],\n",
                            "        [  0, 255,   0],\n",
                            "        [  0, 255,   0],\n",
                            "        [  0, 255,   0],\n",
                            "        [  0, 255,   0],\n",
                            "        [  0, 255,   0],\n",
                            "        [  0, 255,   0],\n",
                            "        [  0, 255,   0],\n",
                            "        [  0, 255,   0],\n",
                            "        [  0, 255,   0],\n",
                            "        [  0, 255,   0]],\n",
                            "\n",
                            "       [[  0, 255,   0],\n",
                            "        [  0, 255,   0],\n",
                            "        [  0, 255,   0],\n",
                            "        [  0, 255,   0],\n",
                            "        [  0, 255,   0],\n",
                            "        [  0, 255,   0],\n",
                            "        [  0, 255,   0],\n",
                            "        [  0, 255,   0],\n",
                            "        [  0, 255,   0],\n",
                            "        [  0, 255,   0],\n",
                            "        [  0, 255,   0],\n",
                            "        [  0, 255,   0]],\n",
                            "\n",
                            "       [[  0, 255,   0],\n",
                            "        [  0, 255,   0],\n",
                            "        [  0, 255,   0],\n",
                            "        [  0, 255,   0],\n",
                            "        [  0, 255,   0],\n",
                            "        [  0, 255,   0],\n",
                            "        [  0, 255,   0],\n",
                            "        [  0, 255,   0],\n",
                            "        [  0, 255,   0],\n",
                            "        [  0, 255,   0],\n",
                            "        [  0, 255,   0],\n",
                            "        [  0, 255,   0]],\n",
                            "\n",
                            "       [[  0, 255,   0],\n",
                            "        [  0, 255,   0],\n",
                            "        [  0, 255,   0],\n",
                            "        [  0, 255,   0],\n",
                            "        [  0, 255,   0],\n",
                            "        [  0, 255,   0],\n",
                            "        [  0, 255,   0],\n",
                            "        [  0, 255,   0],\n",
                            "        [  0, 255,   0],\n",
                            "        [  0, 255,   0],\n",
                            "        [  0, 255,   0],\n",
                            "        [  0, 255,   0]],\n",
                            "\n",
                            "       [[  0, 255,   0],\n",
                            "        [  0, 255,   0],\n",
                            "        [  0, 255,   0],\n",
                            "        [  0, 255,   0],\n",
                            "        [  0, 255,   0],\n",
                            "        [  0, 255,   0],\n",
                            "        [  0,   0,   0],\n",
                            "        [  0, 255,   0],\n",
                            "        [  0, 255,   0],\n",
                            "        [  0, 255,   0],\n",
                            "        [  0, 255,   0],\n",
                            "        [  0, 255,   0]],\n",
                            "\n",
                            "       [[  0, 255,   0],\n",
                            "        [  0, 255,   0],\n",
                            "        [  0, 255,   0],\n",
                            "        [  0, 255,   0],\n",
                            "        [  0, 255,   0],\n",
                            "        [  0, 255,   0],\n",
                            "        [  0, 255,   0],\n",
                            "        [  0, 255,   0],\n",
                            "        [  0, 255,   0],\n",
                            "        [  0, 255,   0],\n",
                            "        [  0, 255,   0],\n",
                            "        [  0, 255,   0]],\n",
                            "\n",
                            "       [[  0, 255,   0],\n",
                            "        [  0, 255,   0],\n",
                            "        [  0, 255,   0],\n",
                            "        [  0, 255,   0],\n",
                            "        [  0, 255,   0],\n",
                            "        [  0, 255,   0],\n",
                            "        [  0, 255,   0],\n",
                            "        [  0, 255,   0],\n",
                            "        [  0, 255,   0],\n",
                            "        [  0, 255,   0],\n",
                            "        [  0, 255,   0],\n",
                            "        [  0, 255,   0]],\n",
                            "\n",
                            "       [[  0, 255,   0],\n",
                            "        [  0, 255,   0],\n",
                            "        [  0, 255,   0],\n",
                            "        [  0, 255,   0],\n",
                            "        [  0, 255,   0],\n",
                            "        [  0, 255,   0],\n",
                            "        [  0, 255,   0],\n",
                            "        [  0, 255,   0],\n",
                            "        [  0, 255,   0],\n",
                            "        [  0, 255,   0],\n",
                            "        [  0, 255,   0],\n",
                            "        [  0, 255,   0]],\n",
                            "\n",
                            "       [[  0, 255,   0],\n",
                            "        [  0, 255,   0],\n",
                            "        [  0, 255,   0],\n",
                            "        [  0, 255,   0],\n",
                            "        [  0, 255,   0],\n",
                            "        [  0, 255,   0],\n",
                            "        [  0, 255,   0],\n",
                            "        [  0, 255,   0],\n",
                            "        [  0, 255,   0],\n",
                            "        [  0, 255,   0],\n",
                            "        [  0, 255,   0],\n",
                            "        [  0, 255,   0]],\n",
                            "\n",
                            "       [[  0, 255,   0],\n",
                            "        [  0, 255,   0],\n",
                            "        [  0, 255,   0],\n",
                            "        [  0, 255,   0],\n",
                            "        [  0, 255,   0],\n",
                            "        [  0, 255,   0],\n",
                            "        [  0, 255,   0],\n",
                            "        [  0, 255,   0],\n",
                            "        [  0, 255,   0],\n",
                            "        [  0, 255,   0],\n",
                            "        [255, 255,   0],\n",
                            "        [  0, 255,   0]],\n",
                            "\n",
                            "       [[  0, 255,   0],\n",
                            "        [  0, 255,   0],\n",
                            "        [  0, 255,   0],\n",
                            "        [  0, 255,   0],\n",
                            "        [  0, 255,   0],\n",
                            "        [  0, 255,   0],\n",
                            "        [  0, 255,   0],\n",
                            "        [  0, 255,   0],\n",
                            "        [  0, 255,   0],\n",
                            "        [  0, 255,   0],\n",
                            "        [  0, 255,   0],\n",
                            "        [  0, 255,   0]]], dtype=uint8)"
                        ]
                    },
                    "execution_count": 97,
                    "metadata": {},
                    "output_type": "execute_result"
                }
            ],
            "source": [
                "# visualize the environment. Yellow is where we are, Black is where we want to go\n",
                "tmp_env.reset()\n",
                "tmp_env.render()"
            ]
        },
        {
            "cell_type": "markdown",
            "metadata": {
                "cell_id": "d0ac2c04852246909a54656881bad0f2",
                "deepnote_cell_type": "markdown",
                "id": "XVfyvoCRPkGv"
            },
            "source": [
                "Let's see how actions work:"
            ]
        },
        {
            "cell_type": "code",
            "execution_count": 98,
            "metadata": {
                "cell_id": "b0558429ac354c7cac54cebf71008674",
                "deepnote_cell_type": "code",
                "execution_context_id": "25918dda-8400-4096-8584-354a0a1a97e1",
                "execution_millis": 0,
                "execution_start": 1761731877563,
                "id": "S22Lbe8OPkGv",
                "source_hash": "ddac327d"
            },
            "outputs": [],
            "source": [
                "action_dict = {\n",
                "    'up':0,\n",
                "    'left':1,\n",
                "    'down':2,\n",
                "    'right':3,\n",
                "}"
            ]
        },
        {
            "cell_type": "code",
            "execution_count": 99,
            "metadata": {
                "cell_id": "f1c396ed3ea34af7b02773c1e3fd262d",
                "deepnote_cell_type": "code",
                "execution_context_id": "25918dda-8400-4096-8584-354a0a1a97e1",
                "execution_millis": 108,
                "execution_start": 1761734831927,
                "id": "1wUXsfWIPkGv",
                "source_hash": "ad313cff"
            },
            "outputs": [
                {
                    "name": "stdout",
                    "output_type": "stream",
                    "text": [
                        "Next step towards: \n",
                        "Green Land class area\n",
                        "Reward for action up is: 0\n"
                    ]
                },
                {
                    "data": {
                        "image/png": "[encoded data removed]",
                        "text/plain": [
                            "<Figure size 640x480 with 1 Axes>"
                        ]
                    },
                    "metadata": {},
                    "output_type": "display_data"
                },
                {
                    "name": "stdout",
                    "output_type": "stream",
                    "text": [
                        "Observation space looks like this:\n",
                        "[[2 2 2 2 2 2 2 2 2 2 2 2]\n",
                        " [2 2 2 2 2 2 2 2 2 2 2 2]\n",
                        " [2 2 2 2 2 2 2 2 2 2 2 2]\n",
                        " [2 2 2 2 2 2 2 2 2 2 2 2]\n",
                        " [2 2 2 2 2 2 2 2 2 2 2 2]\n",
                        " [2 2 2 2 2 2 5 2 2 2 2 2]\n",
                        " [2 2 2 2 2 2 2 2 2 2 2 2]\n",
                        " [2 2 2 2 2 2 2 2 2 2 2 2]\n",
                        " [2 2 2 2 2 2 2 2 2 2 2 2]\n",
                        " [2 2 2 2 2 2 2 2 2 2 1 2]\n",
                        " [2 2 2 2 2 2 2 2 2 2 2 2]\n",
                        " [2 2 2 2 2 2 2 2 2 2 2 2]]\n",
                        "Observation length is: 144\n"
                    ]
                }
            ],
            "source": [
                "# select your action here\n",
                "# you are encouraged to play further with this\n",
                "my_action = 'up'\n",
                "\n",
                "# now take a step through the environment by taking this action\n",
                "obs, rew, term, info = tmp_env.step(action_dict[my_action])\n",
                "print(f\"Reward for action {my_action} is: {rew}\")\n",
                "tmp_env.render()\n",
                "\n",
                "print(f\"Observation space looks like this:\\n{obs}\")\n",
                "print(f\"Observation length is: {obs.size}\")"
            ]
        },
        {
            "cell_type": "markdown",
            "metadata": {
                "cell_id": "7c8f2413f5104502a893503fbf0640e3",
                "deepnote_cell_type": "markdown",
                "id": "_BKNX9F4PkGv"
            },
            "source": [
                "# 🧠 **Your Assignments**"
            ]
        },
        {
            "cell_type": "markdown",
            "metadata": {
                "cell_id": "aca7abf100d64c029579681d7fe2adc8",
                "deepnote_cell_type": "markdown",
                "id": "BpfZYKmOPkGv"
            },
            "source": [
                "# 1️⃣ Assignment 1: Q-learning with simple toy environment"
            ]
        },
        {
            "cell_type": "markdown",
            "metadata": {
                "cell_id": "eb1805166f9648ebb0993fde48fed465",
                "deepnote_cell_type": "markdown",
                "id": "CvG3QGzTPkGv"
            },
            "source": [
                "## 🐣 Let's learn how to do this in a simple environment\n",
                "\n",
                "\n",
                "*   Task 1: Initialize Q table\n",
                "*   Task 2: Write necessary helper functions for Q-learning\n",
                "*   Task 3: Play with Hyperparameters\n",
                "*   Task 4: Train the agent using Q-learning\n",
                "\n",
                "**Note**: Task 2, Task 3 and Task 4: you will use the same code you implemented for these in the Assignment 2."
            ]
        },
        {
            "cell_type": "code",
            "execution_count": 100,
            "metadata": {
                "cell_id": "b21222f4823741c9b54e9a8fb5a10457",
                "deepnote_cell_type": "code",
                "execution_context_id": "25918dda-8400-4096-8584-354a0a1a97e1",
                "execution_millis": 309,
                "execution_start": 1761731961443,
                "id": "gdWAfr8fPkGv",
                "source_hash": "2b1cd628"
            },
            "outputs": [
                {
                    "name": "stdout",
                    "output_type": "stream",
                    "text": [
                        "Environment successfully created\n"
                    ]
                }
            ],
            "source": [
                "# Environment is set up for you here\n",
                "env_config = {\n",
                "    'env_image_path':'input_images/image_simple_1.png',\n",
                "    'dead_allowed':False,\n",
                "    'remove_after_location_found':False,\n",
                "    'start_random':False,\n",
                "    'number_removable_locations':0,\n",
                "}\n",
                "\n",
                "if not os.path.exists(env_config['env_image_path']):\n",
                "  # make sure you have the folder and the image\n",
                "  print(f\"Error: The image path {env_config['env_image_path']} does not exist.\")\n",
                "else:\n",
                "  # if everything fine, we create the environment\n",
                "  tmp_env = TrondheimEnv(conf=env_config)\n",
                "  print(f\"Environment successfully created\")"
            ]
        },
        {
            "cell_type": "markdown",
            "metadata": {
                "cell_id": "d521f145b28a4f96a0739827fc85c921",
                "deepnote_cell_type": "markdown",
                "id": "0PT6w7C-PkGw"
            },
            "source": [
                "### Task 1: Initialize Q table"
            ]
        },
        {
            "cell_type": "code",
            "execution_count": 101,
            "metadata": {
                "cell_id": "7a5b6f631ca04584bfd3c5bfbadfe97e",
                "deepnote_cell_type": "code",
                "execution_context_id": "25918dda-8400-4096-8584-354a0a1a97e1",
                "execution_millis": 0,
                "execution_start": 1761733044803,
                "id": "guc-6hxaPkGw",
                "source_hash": "5bed9389"
            },
            "outputs": [
                {
                    "name": "stdout",
                    "output_type": "stream",
                    "text": [
                        "Observation space dimensions:  (12, 12)\n",
                        "Number of possible actions: 4\n",
                        "(144, 4)\n"
                    ]
                }
            ],
            "source": [
                "# Task 1: Initialize Q table\n",
                "\"\"\"\n",
                "TODO: given the environment, initialize the Q table\n",
                "\"\"\"\n",
                "\n",
                "# Tip: pay attention to the dimensions of Q table\n",
                "# Tip: how many states does the table have, how many actions\n",
                "\n",
                "print(f\"Observation space dimensions:  {tmp_env.observation_space.shape}\")\n",
                "print(f\"Number of possible actions: {tmp_env.action_space.n}\")\n",
                "\n",
                "# YOUR CODE GOES HERE\n",
                "states = np.prod(tmp_env.observation_space.shape)\n",
                "actions = tmp_env.action_space.n\n",
                "Q_test = np.zeros((states, actions)) # you need to initialize this variable\n",
                "Q_test += np.random.randn(states, actions) * 1e-4\n",
                "print(Q_test.shape)"
            ]
        },
        {
            "cell_type": "code",
            "execution_count": 102,
            "metadata": {
                "cell_id": "40ce60c97583498d84ec9ebb001da39a",
                "deepnote_cell_type": "code",
                "execution_context_id": "25918dda-8400-4096-8584-354a0a1a97e1",
                "execution_millis": 0,
                "execution_start": 1761733122453,
                "id": "Tg715k80PkGw",
                "source_hash": "f354733"
            },
            "outputs": [
                {
                    "name": "stdout",
                    "output_type": "stream",
                    "text": [
                        "Q table has this shape: (144, 4)\n",
                        "\n",
                        "[[-3.97113786e-06 -8.70346281e-05  4.08060039e-05 -2.56736542e-04]\n",
                        " [-8.01098792e-05  7.99597453e-05 -1.89556942e-05  1.18358330e-04]\n",
                        " [-1.67761168e-05  9.61990055e-05 -1.51246760e-05  1.04632666e-05]\n",
                        " [-8.06848430e-05 -3.49436274e-05 -1.21589736e-04 -3.59982622e-05]\n",
                        " [-6.60260520e-06  4.97061548e-07 -1.73300172e-05 -4.51802446e-06]\n",
                        " [ 9.10728926e-05 -6.99673730e-05 -7.16713725e-05  7.91564021e-06]\n",
                        " [ 5.73677618e-06  1.17299720e-04  3.19442088e-05  9.97753323e-06]\n",
                        " [ 1.96271404e-04 -1.30252499e-04  2.04124890e-05 -1.03272359e-04]\n",
                        " [ 1.00021183e-04 -3.43850993e-05 -1.01318629e-04 -4.39671588e-06]\n",
                        " [ 4.54737561e-06  1.09754414e-04  2.02715154e-04  4.69263838e-05]]\n",
                        "\n",
                        "\n"
                    ]
                }
            ],
            "source": [
                "# take a look into initial Q table (randomized one)\n",
                "print(f\"Q table has this shape: {Q_test.shape}\\n\")\n",
                "\n",
                "# you may want to print Q table, or parts of it, to get the vibe\n",
                "print(Q_test[:10])\n",
                "print(f\"\\n\")\n",
                "#print(Q_test[135:])"
            ]
        },
        {
            "cell_type": "markdown",
            "metadata": {
                "cell_id": "11ecc23dd74e486bbec3537ccf42a876",
                "deepnote_cell_type": "markdown",
                "id": "zXiBz_haPkGw"
            },
            "source": [
                "### Task 2: Write necessary helper functions for Q-learning"
            ]
        },
        {
            "cell_type": "code",
            "execution_count": 103,
            "metadata": {
                "cell_id": "2c0412eed5e34e1782e46b2845b13666",
                "deepnote_cell_type": "code",
                "deepnote_to_be_reexecuted": true,
                "id": "8ySxhzOxPkGw"
            },
            "outputs": [],
            "source": [
                "# Task 2: Write necessary helper functions for Q-learning\n",
                "\"\"\"\n",
                "TODO: write helper function to:\n",
                " update_explore_rate() - controls the balance between exploration and exploitation\n",
                " update_learning_rate() - controls how aggressively the agent updates its knowledge\n",
                "\n",
                " update_action() - uses the exploration rate to decide whether to take a\n",
                " random action (explore) or to act according to the learned Q-values (exploit)\n",
                "\"\"\"\n",
                "\n",
                "\n",
                "# Explore Rate Decay Function, Converges to MIN_EXPLORE_RATE\n",
                "def update_explore_rate(episode, MIN_EXPLORE_RATE):\n",
                "    # this function should return updated explore_rate\n",
                "    rate_decay = 0.95\n",
                "    initial_rate = 0.5 - MIN_EXPLORE_RATE\n",
                "    \n",
                "    return MIN_EXPLORE_RATE + initial_rate * (rate_decay ** episode)\n",
                "\n",
                "# Learning Rate Decay Function, Converges to MIN_LEARNING_RATE\n",
                "def update_learning_rate(episode, MIN_LEARNING_RATE):\n",
                "    # this function should return updated learning_rate\n",
                "    rate_decay = 0.95\n",
                "    initial_rate = 1 - MIN_LEARNING_RATE\n",
                "    \n",
                "    return MIN_LEARNING_RATE + initial_rate * (rate_decay ** episode)\n",
                "\n",
                "\n",
                "# returns an action based on current state, explore rate and Q table\n",
                "def update_action(env, state, explore_rate, Q):\n",
                "\n",
                "    # this function should return an action\n",
                "\t# YOUR CODE GOES HERE\n",
                "    q_values = Q[state]\n",
                "\n",
                "    if np.random.random() < explore_rate:\n",
                "        action = np.random.randint(0, env.action_space.n)\n",
                "    else:\n",
                "        action = np.argmax(q_values)\n",
                "\n",
                "    return action\n",
                "\n",
                "\n",
                "    \n"
            ]
        },
        {
            "cell_type": "markdown",
            "metadata": {
                "cell_id": "cf9b12e622ed4d28b5808d6a71daf021",
                "deepnote_cell_type": "markdown",
                "id": "nx48WICzPkGw"
            },
            "source": [
                "### Task 3: Play with Hyperparameters"
            ]
        },
        {
            "cell_type": "code",
            "execution_count": 104,
            "metadata": {
                "cell_id": "3912c9a00e10477f8962635396e2c1ea",
                "deepnote_cell_type": "code",
                "deepnote_to_be_reexecuted": true,
                "id": "77QFrN9OPkGw"
            },
            "outputs": [],
            "source": [
                "# Task 3: Play with Hyperparameters\n",
                "\n",
                "# YOUR CODE GOES HERE: replace None with your values\n",
                "GAMMA_test = 0.5\n",
                "NUM_EPISODES_test = 100\n",
                "MIN_EXPLORE_RATE_test = 0.2\n",
                "MIN_LEARNING_RATE_test = 0.2\n",
                "STEP_SIZE_TEST = 100"
            ]
        },
        {
            "cell_type": "markdown",
            "metadata": {
                "cell_id": "798ba2df06b0484a979daa25d3e0d2bc",
                "deepnote_cell_type": "markdown",
                "id": "T2szdmzyT27h"
            },
            "source": [
                "## 🐤 Now use Q learning to learn the Q table\n",
                "### Task 4: Train the agent using Q-learning"
            ]
        },
        {
            "cell_type": "markdown",
            "metadata": {
                "cell_id": "e71147f9e5f74289a5ee124535a3f7f0",
                "deepnote_cell_type": "markdown",
                "id": "rJQRmWF3rFnb"
            },
            "source": [
                "The Q-value update equation, derived from Bellman equation is as follows:\n"
            ]
        },
        {
            "cell_type": "markdown",
            "metadata": {
                "cell_id": "acd5fdadcd1e48d7bf0c95e7a0d95ff8",
                "deepnote_cell_type": "markdown",
                "id": "rrjUtRs4PwDQ"
            },
            "source": [
                "$$\n",
                "Q(s, a) \\gets Q(s, a) + \\alpha*\\Big[ R(s, a) + \\gamma* \\max_{a'} Q(s', a') - Q(s, a) \\Big]\n",
                "$$"
            ]
        },
        {
            "cell_type": "markdown",
            "metadata": {
                "cell_id": "d7cc138f84154459830b83f31efcbdfa",
                "deepnote_cell_type": "markdown",
                "id": "L9hrmRcSN2gQ"
            },
            "source": [
                "**Legend:**\n",
                "\n",
                "- **Q(s, a)**: Action-value function, estimating the expected return for taking action *a* in state *s*\n",
                "- **α**: learning rate\n",
                "- **R(s, a)**: reward received after taking action *a* in state *s*\n",
                "- **γ**: discount factor (importance of future rewards)\n",
                "- **s'**: Next state resulting from taking action *a* in state *s*  \n",
                "- **a'**: Possible actions in the next state *s'*\n",
                "- **max Q(s', a')**: Maximum estimated Q value of the next state over all possible actions *a'*\n"
            ]
        },
        {
            "cell_type": "code",
            "execution_count": 105,
            "metadata": {
                "cell_id": "31367d68fda04aa680ccd5e9fb3408cb",
                "deepnote_cell_type": "code",
                "deepnote_to_be_reexecuted": true,
                "id": "uKV3Mce-PkGx"
            },
            "outputs": [],
            "source": [
                "# Task 4: Train the agent using Q-learning\n",
                "# Suggestion: you can wrap the code to learn Q-table in a function,\n",
                "# which you can also use for Task 4 in Assignment 2\n",
                "\n",
                "# result of the training is:\n",
                "#   updated Q table (Q_test)\n",
                "#   total_reward\n",
                "#   you are free to add others, if you will\n",
                "\n",
                "def train(env: TrondheimEnv, GAMMA, NUM_EPISODES, MIN_EXPLORE_RATE, MIN_LEARNING_RATE, STEP_SIZE, Q):\n",
                "    env.manual_mode = False # disable printouts while training\n",
                "\n",
                "    # initialize some variables\n",
                "\n",
                "    # YOUR CODE GOES HERE\n",
                "\n",
                "    # Tip: iterate over number of episodes\n",
                "    for episode in range(NUM_EPISODES):\n",
                "        env.reset()\n",
                "        state = env.get_1d_state()\n",
                "\n",
                "        total_reward = 0\n",
                "        explore_rate = update_explore_rate(episode, MIN_EXPLORE_RATE)\n",
                "        learning_rate = update_learning_rate(episode, MIN_LEARNING_RATE)\n",
                "\n",
                "        # Tip: iterate over number of steps in each Episode\n",
                "        for _ in range(STEP_SIZE):\n",
                "            action = update_action(env, state, explore_rate, Q)\n",
                "            next_obs, reward, terminated, info = env.step(action)\n",
                "            next_state = env.get_1d_state()\n",
                "            best_next_action = np.argmax(Q[next_state])\n",
                "\n",
                "            Q[state, action] = Q[state, action] + learning_rate * (reward + GAMMA * Q[next_state, best_next_action] - Q[state, action])\n",
                "            # Tip: use helper functions defined above to navigate the environment\n",
                "            # Tip: use the Q-learning update rule equation - Bellman equation\n",
                "\n",
                "            state = next_state\n",
                "            total_reward += reward\n",
                "\n",
                "            if terminated:\n",
                "                print(\"terminted\")\n",
                "                break\n",
                "\n",
                "    return Q, total_reward, explore_rate\n",
                "            \n",
                "\n",
                "\n",
                "\n",
                "    # Tip : print variables of interest, like episode, total_reward, explore_rate\n",
                "    # print(f\"Episode :{i}  Total_reward: {total_reward}  Explore rate: {explore_rate}\")\n",
                "    #print(\"Final Q values: \", Q_test)\n",
                "\n",
                "Q_test, total_reward, explore_rate = train(tmp_env, GAMMA_test, NUM_EPISODES_test, MIN_EXPLORE_RATE_test, MIN_LEARNING_RATE_test, STEP_SIZE_TEST, Q_test)"
            ]
        },
        {
            "cell_type": "code",
            "execution_count": 106,
            "metadata": {
                "cell_id": "c8a6cf6bd52e479c863bd589512e1750",
                "deepnote_cell_type": "code",
                "deepnote_to_be_reexecuted": true,
                "id": "YVOVYADQPkGx"
            },
            "outputs": [
                {
                    "name": "stdout",
                    "output_type": "stream",
                    "text": [
                        "Total reward after training: 11700, total Explore rate after training: 0.20186964080642128\n",
                        "[[-3.97113786e-06 -8.70346281e-05  3.59340147e-05 -2.56736542e-04]\n",
                        " [ 2.16736880e-05  3.17546131e-05  2.54371529e-05  3.28609290e-05]\n",
                        " [ 2.07470105e-05  2.61936694e-05  1.18231412e-05  7.25152580e-06]\n",
                        " [-8.06848430e-05  2.27676986e-05 -1.21589736e-04  1.10877342e-07]\n",
                        " [-6.60260520e-06  9.14834624e-06 -1.73300172e-05 -4.51802446e-06]\n",
                        " [ 9.10728926e-05 -6.99673730e-05 -7.16713725e-05  7.91564021e-06]\n",
                        " [ 5.73677618e-06  1.17299720e-04  3.19442088e-05  9.97753323e-06]\n",
                        " [ 1.96271404e-04 -1.30252499e-04  2.04124890e-05 -1.03272359e-04]\n",
                        " [ 1.14191211e-05 -3.43850993e-05  5.16167773e-06  2.19781287e-05]\n",
                        " [ 2.54142804e-05  1.41247730e-05  2.91690342e-05  1.96568438e-05]\n",
                        " [ 2.93497372e-05  2.43995048e-05 -1.61272485e-05 -1.60302625e-06]\n",
                        " [-1.05329580e-04 -1.99801516e-04  4.62850254e-05 -1.45496398e-04]\n",
                        " [-1.85138602e-05  3.43275430e-05  3.78499281e-05  2.54347630e-05]\n",
                        " [ 3.67107468e-05  2.10814652e-05  1.66548998e-05  2.36917169e-05]\n",
                        " [ 3.07192896e-05  2.93191482e-05  2.86712013e-05 -3.87205721e-05]\n",
                        " [-1.72339003e-04  4.01878091e-05 -1.53641065e-04  1.44307141e-05]\n",
                        " [-1.25011808e-04  2.89541302e-05 -1.35281387e-04 -3.03269349e-07]\n",
                        " [-1.78987905e-04 -2.22700662e-07 -7.18755109e-05 -1.19076744e-04]\n",
                        " [-2.08344218e-05  1.34865368e-05  2.15131070e+01 -4.88298246e-05]\n",
                        " [ 2.44914090e-05  1.23030821e-05  2.94652058e-05  1.60056641e-05]\n",
                        " [-1.92097112e-05  2.12109803e-05  1.69796618e-05 -1.59556885e-05]\n",
                        " [ 2.25658370e-05  2.09878622e-05  2.15376422e-05  3.54956324e-05]\n",
                        " [ 2.30268230e-05 -1.21959036e-06  1.74794575e-05  6.90034298e-06]\n",
                        " [-6.41210499e-06 -1.36753657e-04  1.38006860e-05 -4.96040225e-05]\n",
                        " [ 3.68395649e-05  7.43303628e-05 -1.67959916e-05  1.69929986e-05]\n",
                        " [ 2.70225048e-05  1.61717672e-05  4.06507162e-05  3.55955951e-06]\n",
                        " [ 5.65434612e-06  1.93970343e-05 -1.26009596e-04 -4.00653342e-05]\n",
                        " [ 2.18543371e-05 -3.03441359e-05 -9.38938983e-05 -1.06375046e-04]\n",
                        " [-1.38299366e-04 -1.07608256e-04  3.73139226e-05  7.23658028e-07]\n",
                        " [ 1.84680012e-07 -2.10507589e-04 -2.46415656e-05  1.73018535e-05]\n",
                        " [ 1.19093490e-05  7.38436883e-06  9.30860734e+01  1.38219114e-05]\n",
                        " [ 1.65145719e-05  1.57389411e-05 -2.69693021e-04  1.81921321e-05]\n",
                        " [ 1.96222086e-05  1.64399231e-05  2.63158220e-05  3.12142683e-05]\n",
                        " [ 4.33764829e-05 -1.84128303e-05  3.02281391e-05  2.29862615e-05]\n",
                        " [ 2.62909049e-05  2.89860459e-05  2.58096214e-05 -1.31041374e-05]\n",
                        " [ 2.37477119e-06  1.74794575e-05  1.23224854e-05  9.57729595e-06]\n",
                        " [ 8.97251843e-06 -9.53392323e-05  4.26527715e-05 -3.74376136e-05]\n",
                        " [ 2.64776751e-05  4.27918652e-05  1.03086834e-06  3.72905384e-05]\n",
                        " [ 2.18622317e-04  1.26498188e-04 -2.70572657e-05 -1.91774964e-05]\n",
                        " [-1.00557766e-04  1.86356378e-05 -5.28634504e-05  3.20519850e-05]\n",
                        " [ 4.11771309e-05 -1.18528591e-04  4.87838052e+01 -8.88668880e-05]\n",
                        " [-7.62117599e-05  2.12615830e+01  9.99752538e+01  3.35561899e+01]\n",
                        " [ 2.91277700e+01  3.25578161e+01  1.99794937e+02 -1.35280483e-05]\n",
                        " [ 1.25936761e-05 -1.68107409e-04  5.50036803e+01 -3.97870683e-05]\n",
                        " [ 2.01033218e-05  1.64209616e-05  1.75861572e-05  1.86030529e-05]\n",
                        " [ 2.49467943e-05  4.32041303e-05 -1.16951198e-05  3.00454826e-05]\n",
                        " [ 1.74794575e-05  4.97472945e-05  1.49628894e-05 -7.92854173e-06]\n",
                        " [-1.17383340e-04  2.48736472e-05 -8.04912238e-05 -1.47329015e-04]\n",
                        " [ 5.72682021e-05  2.77216159e-05 -8.02515547e-05  5.14261251e-05]\n",
                        " [ 2.93048080e-05 -1.27787121e-04  5.96492775e-05 -5.35977135e-05]\n",
                        " [-2.12391207e-05 -1.70045267e-04  1.13588961e-04  1.07193142e-05]\n",
                        " [ 1.47417008e-05 -2.60370450e-05 -2.55320219e-05  4.61564502e+01]\n",
                        " [ 2.50765432e-05  1.81051885e+01  9.99999931e+01  8.44334475e+01]\n",
                        " [ 4.99509007e+01  4.99134817e+01  2.00000000e+02  1.99966642e+02]\n",
                        " [ 9.88265983e+01  9.99984941e+01  4.00000000e+02  9.98754446e+01]\n",
                        " [ 4.68108751e+00  1.06690886e+02  1.99999912e+02  1.99486003e+01]\n",
                        " [ 1.95079961e-05  9.27975125e+01  2.93347365e+01 -1.97561678e-05]\n",
                        " [-7.43256820e-05  9.62781541e+00 -2.05220069e-04 -3.86665420e-05]\n",
                        " [ 9.44711439e-06  2.04463376e-05  2.30021321e+00 -3.01576687e-05]\n",
                        " [ 3.13525307e-05  6.22154204e-05  2.08657805e-05 -1.61822624e-04]\n",
                        " [-1.37668203e-04  3.36324861e-05  5.36597989e-05 -3.12071708e-05]\n",
                        " [-1.44157207e-05 -2.71669800e-05  8.69599217e-05  1.55309893e-04]\n",
                        " [ 1.03523997e-04  3.76878193e-05 -6.28588567e-05  3.30644880e+01]\n",
                        " [ 1.85611187e+01  3.54371624e+00  8.75496579e-06  9.99530675e+01]\n",
                        " [ 4.96702893e+01  4.97134034e+01  4.97151523e+01  2.00000000e+02]\n",
                        " [ 1.00000000e+02  1.00000000e+02  1.00000000e+02  4.00000000e+02]\n",
                        " [ 2.00000000e+02  2.00000000e+02  2.00000000e+02  2.00000000e+02]\n",
                        " [ 9.97511789e+01  4.00000000e+02  9.99999998e+01  9.18417420e+01]\n",
                        " [ 2.79661289e+01  1.98654163e+02  4.88029695e-05  4.40268241e-05]\n",
                        " [-3.96943830e-05  5.14079682e-05  2.18330270e+01  5.66781109e-05]\n",
                        " [ 3.18257016e-05  3.88471914e-05  1.10179158e+01  7.38809905e-05]\n",
                        " [ 3.23360052e-05  4.54273443e-05  2.52157571e-05 -4.85952528e-05]\n",
                        " [ 4.08373702e-05 -1.52359639e-04  1.92611699e-04  3.12732542e-05]\n",
                        " [ 2.51154430e-05  8.31148134e-05  2.24938161e-05 -6.00072353e-05]\n",
                        " [ 9.59024040e-05 -5.03960155e-05  6.99580182e-05  1.19898736e-04]\n",
                        " [ 4.33265740e+01 -1.09352746e-05  2.17205080e-05  2.87050238e-05]\n",
                        " [-7.12016530e-05  1.50633078e+01  1.93689977e-05  9.99995117e+01]\n",
                        " [ 2.00000000e+02  4.99278304e+01  4.98758079e+01  1.99869946e+02]\n",
                        " [ 4.00000000e+02  9.99911434e+01  9.99999830e+01  9.99683007e+01]\n",
                        " [ 1.57148331e+02  2.00000000e+02  4.15775281e+01  4.85724090e+01]\n",
                        " [ 7.94511427e+01  1.00000000e+02  1.09800888e+00  2.13587424e+01]\n",
                        " [ 7.47665559e+00  5.00000000e+01  1.06610242e+01  1.24792309e+01]\n",
                        " [ 3.22482914e+00  2.50000000e+01  6.06538564e+00  5.17569832e-01]\n",
                        " [ 3.53748450e-05  3.97917458e-05  2.64193196e+00  2.71154554e-01]\n",
                        " [-2.77348894e-05  1.87595743e-06 -6.71599639e-05 -8.25258350e-05]\n",
                        " [-8.03665423e-05 -2.37024440e-05  7.26775769e-05  6.24934551e-05]\n",
                        " [-1.09182891e-04  6.62853970e-05 -2.92045301e-05  3.68650855e-05]\n",
                        " [ 2.41502584e-05  1.41012519e-05  3.52921171e-05  2.34724540e-05]\n",
                        " [ 1.02761565e+01  1.96730600e-05 -7.05800803e-05  2.51236619e-05]\n",
                        " [ 9.99990282e+01  2.23374128e-05  4.95650545e+00  5.52100916e+01]\n",
                        " [ 2.00000000e+02  3.86917202e+01 -5.39427034e-05  2.34705037e+01]\n",
                        " [ 9.79558845e+01 -7.09116972e-06  2.44643818e+01  3.50038705e-05]\n",
                        " [ 3.39329394e-05  1.38128261e+01 -1.22706001e-04  3.92319400e+00]\n",
                        " [ 2.49994621e+01 -1.74200747e-05  3.41421968e+00  4.35856573e+00]\n",
                        " [ 1.25000000e+01  1.13464342e+01  1.73306951e+00  2.97420964e+00]\n",
                        " [ 4.41350868e-01  6.21386124e+00  6.89976476e-01  7.50757585e-06]\n",
                        " [ 8.30623487e-05 -3.95712135e-05  1.01458062e-04 -1.05290587e-04]\n",
                        " [-1.02338606e-04  8.98089666e-05 -2.17577842e-04 -8.83042252e-05]\n",
                        " [-1.07395349e-04 -1.46691486e-04 -1.62995886e-05 -5.52599721e-05]\n",
                        " [ 4.63090120e-06 -1.79928166e-05 -4.61730308e-05  6.28120611e-06]\n",
                        " [ 5.30098728e-06  9.90410966e-06  3.18460798e-07  8.59855678e+00]\n",
                        " [ 4.76593536e+01  1.06303286e-05  2.33391949e-05  2.28598667e-05]\n",
                        " [ 9.99652585e+01  1.28722920e+01  1.01480264e+01  1.17534504e+01]\n",
                        " [ 8.36224054e+00  4.98747711e+01  4.47110174e+00  3.49466351e-05]\n",
                        " [ 1.58976612e-05 -9.23340137e-06 -1.52773677e-04  3.32202471e+00]\n",
                        " [ 1.24784528e+01  2.66774089e-01 -5.89813202e-05 -9.27958507e-05]\n",
                        " [ 6.25000000e+00  5.83814883e+00  1.46169989e+00  9.97449454e-01]\n",
                        " [ 9.20433771e-06  2.95314173e+00  2.76209932e-06  1.24527998e-05]\n",
                        " [-8.64043740e-06 -1.31710364e-04 -1.28516513e-05  9.57453158e-05]\n",
                        " [-4.41207733e-05  1.30388830e-05  2.95949579e-05  1.90158570e-04]\n",
                        " [-1.45546147e-05 -6.62917393e-05  4.99257512e-05 -2.05252556e-04]\n",
                        " [-4.34339436e-05 -1.65250536e-04  3.46974850e-05 -1.20492731e-04]\n",
                        " [ 9.67431196e-06 -3.45591076e-05  8.36866136e-05  2.13698146e-05]\n",
                        " [ 6.18542354e+00  1.62129832e-05  1.85642668e-05  6.28347246e-06]\n",
                        " [ 4.40033707e+01  7.39768092e-06 -6.46678777e-05 -3.71591880e-05]\n",
                        " [ 2.36767325e+01  5.90794129e+00  1.11304950e+00  1.61225815e-05]\n",
                        " [-6.05913309e-05  3.20959554e+00  1.13435254e-05 -1.48922738e-04]\n",
                        " [ 3.00198667e+00  6.17676162e-06  6.01666381e-06  7.00768812e-06]\n",
                        " [ 3.12500000e+00  2.30270826e-01  5.42080071e-01  2.45152657e-02]\n",
                        " [ 5.50490251e-06  7.01464396e-06  1.91633112e-01  4.97016747e-06]\n",
                        " [ 1.89849269e-05  8.42721207e-07  2.89511659e-05 -2.46455040e-05]\n",
                        " [-1.84277771e-04  2.89547359e-05  1.94021112e-05 -1.08777031e-05]\n",
                        " [ 1.35003890e-04  6.17322869e-05  4.53335955e-05 -8.08914281e-05]\n",
                        " [-6.63640502e-05 -9.26358240e-06 -2.24439900e-04 -1.79571578e-05]\n",
                        " [ 6.07265514e-05  1.18371459e-04 -1.44820267e-04 -1.66293124e-05]\n",
                        " [ 1.82910270e-05  1.31298363e-05  1.95835537e-05 -3.28784175e-05]\n",
                        " [ 1.04500688e+01  1.99804479e-05  1.79401627e-05  2.08431042e-05]\n",
                        " [ 9.87495560e+00  1.68982181e-05  2.81360571e-05  1.31520904e-05]\n",
                        " [ 1.43675970e-06  3.35844384e+00  5.56492222e-06  7.16106237e-06]\n",
                        " [ 5.86545689e-06  9.65853227e-01  3.80689452e-06  1.73496720e-01]\n",
                        " [ 1.56250000e+00  2.62252457e-01  1.08819687e-01  3.44412032e-01]\n",
                        " [ 9.39558003e-03  7.72025319e-01 -5.88399557e-05  2.67931570e-01]\n",
                        " [ 7.68482533e-05 -7.71430122e-05 -4.80346692e-05 -2.48140363e-05]\n",
                        " [ 2.42847402e-05 -9.03443445e-05 -1.87897640e-04 -2.43302223e-05]\n",
                        " [-1.24333660e-04 -1.12627173e-04  5.42261494e-06 -8.90838429e-05]\n",
                        " [-8.37978371e-05  2.35420016e-05 -1.13820421e-04 -2.75490229e-05]\n",
                        " [-6.62037432e-05 -2.12052127e-05  5.58590839e-05 -2.31268890e-04]\n",
                        " [ 1.45378779e-05 -2.57894923e-05  6.17478550e-06  1.29466824e-05]\n",
                        " [ 2.00720120e-05  1.20031634e-05  1.80815699e-05  2.80021728e-05]\n",
                        " [-1.16414491e-05  3.61577542e-05  4.66147396e-06  5.43404706e-06]\n",
                        " [ 2.47249148e-01 -4.83180136e-05  6.96133650e-06  4.53534050e-06]\n",
                        " [ 5.61563080e-06  4.51084925e-06 -2.08076329e-05  4.27093670e-06]\n",
                        " [ 5.01786773e-01  4.00313088e-06  4.93430181e-06  4.03207359e-06]\n",
                        " [ 8.79037257e-02  4.55491040e-06 -1.35590319e-05  5.59934193e-06]]\n"
                    ]
                }
            ],
            "source": [
                "print(f\"Total reward after training: {total_reward}, total Explore rate after training: {explore_rate}\")\n",
                "print(Q_test)"
            ]
        },
        {
            "cell_type": "markdown",
            "metadata": {
                "cell_id": "57108a976c514cb38c7ef31199decbe0",
                "deepnote_cell_type": "markdown",
                "id": "Gxlv9Qj-PkGx"
            },
            "source": [
                "## 🐥 Let's see this in action"
            ]
        },
        {
            "cell_type": "code",
            "execution_count": 107,
            "metadata": {
                "cell_id": "5a237d0e7ad3426cb0d92bae570f6280",
                "deepnote_cell_type": "code",
                "execution_context_id": "25918dda-8400-4096-8584-354a0a1a97e1",
                "execution_millis": 8891,
                "execution_start": 1761735584113,
                "id": "IOfVD-2xPkGx",
                "source_hash": "98761834"
            },
            "outputs": [
                {
                    "data": {
                        "image/png": "[encoded data removed]",
                        "text/plain": [
                            "<Figure size 640x480 with 1 Axes>"
                        ]
                    },
                    "metadata": {},
                    "output_type": "display_data"
                },
                {
                    "name": "stdout",
                    "output_type": "stream",
                    "text": [
                        "Next step towards: \n",
                        "Green Land class area\n"
                    ]
                },
                {
                    "data": {
                        "image/png": "[encoded data removed]",
                        "text/plain": [
                            "<Figure size 640x480 with 1 Axes>"
                        ]
                    },
                    "metadata": {},
                    "output_type": "display_data"
                },
                {
                    "name": "stdout",
                    "output_type": "stream",
                    "text": [
                        "Next step towards: \n",
                        "Green Land class area\n"
                    ]
                },
                {
                    "data": {
                        "image/png": "[encoded data removed]",
                        "text/plain": [
                            "<Figure size 640x480 with 1 Axes>"
                        ]
                    },
                    "metadata": {},
                    "output_type": "display_data"
                },
                {
                    "name": "stdout",
                    "output_type": "stream",
                    "text": [
                        "Next step towards: \n",
                        "Green Land class area\n"
                    ]
                },
                {
                    "data": {
                        "image/png": "[encoded data removed]",
                        "text/plain": [
                            "<Figure size 640x480 with 1 Axes>"
                        ]
                    },
                    "metadata": {},
                    "output_type": "display_data"
                },
                {
                    "name": "stdout",
                    "output_type": "stream",
                    "text": [
                        "Next step towards: \n",
                        "Green Land class area\n"
                    ]
                },
                {
                    "data": {
                        "image/png": "[encoded data removed]",
                        "text/plain": [
                            "<Figure size 640x480 with 1 Axes>"
                        ]
                    },
                    "metadata": {},
                    "output_type": "display_data"
                },
                {
                    "name": "stdout",
                    "output_type": "stream",
                    "text": [
                        "Next step towards: \n",
                        "Green Land class area\n"
                    ]
                },
                {
                    "data": {
                        "image/png": "[encoded data removed]",
                        "text/plain": [
                            "<Figure size 640x480 with 1 Axes>"
                        ]
                    },
                    "metadata": {},
                    "output_type": "display_data"
                },
                {
                    "name": "stdout",
                    "output_type": "stream",
                    "text": [
                        "Next step towards: \n",
                        "Green Land class area\n"
                    ]
                },
                {
                    "data": {
                        "image/png": "[encoded data removed]",
                        "text/plain": [
                            "<Figure size 640x480 with 1 Axes>"
                        ]
                    },
                    "metadata": {},
                    "output_type": "display_data"
                },
                {
                    "name": "stdout",
                    "output_type": "stream",
                    "text": [
                        "Next step towards: \n",
                        "Green Land class area\n"
                    ]
                },
                {
                    "data": {
                        "image/png": "[encoded data removed]",
                        "text/plain": [
                            "<Figure size 640x480 with 1 Axes>"
                        ]
                    },
                    "metadata": {},
                    "output_type": "display_data"
                },
                {
                    "name": "stdout",
                    "output_type": "stream",
                    "text": [
                        "Next step towards: \n",
                        "Green Land class area\n"
                    ]
                },
                {
                    "data": {
                        "image/png": "[encoded data removed]",
                        "text/plain": [
                            "<Figure size 640x480 with 1 Axes>"
                        ]
                    },
                    "metadata": {},
                    "output_type": "display_data"
                },
                {
                    "name": "stdout",
                    "output_type": "stream",
                    "text": [
                        "Next step towards: \n",
                        "Central Source Secret Location\n"
                    ]
                },
                {
                    "data": {
                        "image/png": "[encoded data removed]",
                        "text/plain": [
                            "<Figure size 640x480 with 1 Axes>"
                        ]
                    },
                    "metadata": {},
                    "output_type": "display_data"
                },
                {
                    "name": "stdout",
                    "output_type": "stream",
                    "text": [
                        "Next step towards: \n",
                        "Green Land class area\n"
                    ]
                },
                {
                    "data": {
                        "image/png": "[encoded data removed]",
                        "text/plain": [
                            "<Figure size 640x480 with 1 Axes>"
                        ]
                    },
                    "metadata": {},
                    "output_type": "display_data"
                },
                {
                    "name": "stdout",
                    "output_type": "stream",
                    "text": [
                        "Next step towards: \n",
                        "Green Land class area\n"
                    ]
                },
                {
                    "data": {
                        "image/png": "[encoded data removed]",
                        "text/plain": [
                            "<Figure size 640x480 with 1 Axes>"
                        ]
                    },
                    "metadata": {},
                    "output_type": "display_data"
                },
                {
                    "name": "stdout",
                    "output_type": "stream",
                    "text": [
                        "Next step towards: \n",
                        "Green Land class area\n"
                    ]
                },
                {
                    "data": {
                        "image/png": "[encoded data removed]",
                        "text/plain": [
                            "<Figure size 640x480 with 1 Axes>"
                        ]
                    },
                    "metadata": {},
                    "output_type": "display_data"
                },
                {
                    "name": "stdout",
                    "output_type": "stream",
                    "text": [
                        "Next step towards: \n",
                        "Central Source Secret Location\n"
                    ]
                },
                {
                    "data": {
                        "image/png": "[encoded data removed]",
                        "text/plain": [
                            "<Figure size 640x480 with 1 Axes>"
                        ]
                    },
                    "metadata": {},
                    "output_type": "display_data"
                },
                {
                    "name": "stdout",
                    "output_type": "stream",
                    "text": [
                        "Next step towards: \n",
                        "Green Land class area\n"
                    ]
                },
                {
                    "data": {
                        "image/png": "[encoded data removed]",
                        "text/plain": [
                            "<Figure size 640x480 with 1 Axes>"
                        ]
                    },
                    "metadata": {},
                    "output_type": "display_data"
                },
                {
                    "name": "stdout",
                    "output_type": "stream",
                    "text": [
                        "Next step towards: \n",
                        "Central Source Secret Location\n"
                    ]
                },
                {
                    "data": {
                        "image/png": "[encoded data removed]",
                        "text/plain": [
                            "<Figure size 640x480 with 1 Axes>"
                        ]
                    },
                    "metadata": {},
                    "output_type": "display_data"
                },
                {
                    "name": "stdout",
                    "output_type": "stream",
                    "text": [
                        "Next step towards: \n",
                        "Green Land class area\n",
                        "Total_reward:  900\n"
                    ]
                }
            ],
            "source": [
                "# now we show one episode\n",
                "# yellow spot should be able to find black spot here\n",
                "\n",
                "tmp_env.manual_mode = True # enable messages\n",
                "STEP_SIZE_TEST_test = 16\n",
                "\n",
                "observation = tmp_env.reset()\n",
                "state_0 = tmp_env.get_1d_state()\n",
                "total_reward = 0\n",
                "\n",
                "for _ in range(STEP_SIZE_TEST_test):\n",
                "    tmp_env.render()\n",
                "    action = update_action(tmp_env, state_0, explore_rate, Q=Q_test)\n",
                "    obv, reward, done, info = tmp_env.step(action)\n",
                "    state_1 = tmp_env.get_1d_state()\n",
                "\n",
                "    # No need to update the Q here\n",
                "    state_0 = state_1\n",
                "\n",
                "    total_reward += reward\n",
                "\n",
                "    if done:\n",
                "        print(\"Done\")\n",
                "        break\n",
                "\n",
                "print(f\"Total_reward: \", total_reward)"
            ]
        },
        {
            "cell_type": "code",
            "execution_count": 108,
            "metadata": {
                "cell_id": "ff6b6ba1e4974799aa7e5e5210c89879",
                "deepnote_cell_type": "code",
                "deepnote_to_be_reexecuted": true,
                "id": "LPtt6ZDoPkGx"
            },
            "outputs": [
                {
                    "name": "stdout",
                    "output_type": "stream",
                    "text": [
                        "(144, 4)\n",
                        "Obs space dimensions :(12, 12)\n"
                    ]
                }
            ],
            "source": [
                "# the shape of Q table (Q_test)\n",
                "print(Q_test.shape)\n",
                "print(f\"Obs space dimensions :{tmp_env.observation_space.shape}\")"
            ]
        },
        {
            "cell_type": "code",
            "execution_count": 109,
            "metadata": {
                "cell_id": "1e46e92b2a694a0e80c40ba8b2b2b7df",
                "deepnote_cell_type": "code",
                "deepnote_to_be_reexecuted": true,
                "id": "ou-VGkfDPkGx"
            },
            "outputs": [
                {
                    "data": {
                        "text/plain": [
                            "array([[2, 3, 1, 1, 1, 0, 1, 0, 3, 2, 0, 2],\n",
                            "       [2, 0, 0, 1, 1, 1, 2, 2, 1, 3, 0, 2],\n",
                            "       [1, 2, 1, 0, 2, 3, 2, 3, 3, 0, 1, 1],\n",
                            "       [2, 1, 0, 3, 2, 2, 2, 2, 0, 1, 1, 1],\n",
                            "       [0, 2, 2, 3, 2, 2, 2, 2, 1, 1, 2, 1],\n",
                            "       [2, 3, 3, 3, 3, 3, 1, 1, 1, 2, 2, 1],\n",
                            "       [2, 1, 3, 0, 3, 0, 0, 1, 1, 1, 1, 2],\n",
                            "       [1, 2, 1, 2, 0, 0, 0, 0, 1, 0, 0, 1],\n",
                            "       [2, 1, 2, 3, 3, 0, 0, 1, 3, 0, 0, 1],\n",
                            "       [3, 3, 2, 2, 2, 0, 0, 0, 1, 0, 0, 2],\n",
                            "       [2, 1, 0, 1, 1, 2, 0, 0, 1, 1, 0, 1],\n",
                            "       [0, 0, 2, 1, 2, 0, 3, 1, 0, 0, 0, 0]], dtype=int64)"
                        ]
                    },
                    "execution_count": 109,
                    "metadata": {},
                    "output_type": "execute_result"
                }
            ],
            "source": [
                "# print Q_table in \"observation space\" light\n",
                "Q_test.argmax(axis=1).reshape(tmp_env.observation_space.shape)"
            ]
        },
        {
            "cell_type": "code",
            "execution_count": 110,
            "metadata": {
                "cell_id": "b0947ee629fa4e82ab7f45cd66f6c38f",
                "deepnote_cell_type": "code",
                "deepnote_to_be_reexecuted": true,
                "id": "fbFTMZue12lQ"
            },
            "outputs": [
                {
                    "name": "stdout",
                    "output_type": "stream",
                    "text": [
                        "image has more than 3 channels, only first 3 channels are used there are (12, 12, 4) channels\n"
                    ]
                }
            ],
            "source": [
                "# close the environment\n",
                "tmp_env.close()"
            ]
        },
        {
            "cell_type": "markdown",
            "metadata": {
                "cell_id": "44c980fc3ad74b6d9376b287805b3887",
                "deepnote_cell_type": "markdown",
                "id": "ipz9XhhQ-ZVw"
            },
            "source": [
                "# 2️⃣ Assignment 2: Trondheim treasure hunt!\n"
            ]
        },
        {
            "cell_type": "markdown",
            "metadata": {
                "cell_id": "08b5196326854da5b9ff9d60f2a9c3a9",
                "deepnote_cell_type": "markdown",
                "id": "HKV9wMKXPkG2"
            },
            "source": [
                "# 🐔 You are ready for the Trondheim challenge now 💪\n",
                "\n",
                "*   Task 1: Initialize Q table\n",
                "*   Task 2: Write necessary helper functions for Q-learning\n",
                "*   Task 3: Play with Hyperparameters\n",
                "*   Task 4: Train the agent using Q-learning\n",
                "\n",
                "\n",
                "## **Important Note**:\n",
                "For Task 2, Task 3 and Task 4, you can (re)use the same code as in the Assignment 1.\n",
                "**These are mentioned here as the elements of the pipeline.**\n",
                "\n",
                "Most of the code from Assigment 1 is reusable, we are just using it with different environment here."
            ]
        },
        {
            "cell_type": "code",
            "execution_count": 111,
            "metadata": {
                "cell_id": "c9c347a7965d443382ece723f982d74e",
                "deepnote_cell_type": "code",
                "deepnote_to_be_reexecuted": true,
                "id": "AZ0DLZ-hPkG2"
            },
            "outputs": [
                {
                    "name": "stdout",
                    "output_type": "stream",
                    "text": [
                        "image has more than 3 channels, only first 3 channels are used there are (12, 12, 4) channels\n"
                    ]
                }
            ],
            "source": [
                "# First and important - cleanup!\n",
                "tmp_env.close()"
            ]
        },
        {
            "cell_type": "code",
            "execution_count": 112,
            "metadata": {
                "cell_id": "7c0e509fc6814f57bd02880fcf13a6b4",
                "deepnote_cell_type": "code",
                "deepnote_to_be_reexecuted": true,
                "id": "Qv_JAXXIPkG2"
            },
            "outputs": [
                {
                    "name": "stdout",
                    "output_type": "stream",
                    "text": [
                        "Environment successfully created\n"
                    ]
                }
            ],
            "source": [
                "# let's configure the environment and see how it looks like\n",
                "env_config = {\n",
                "    'env_image_path':'input_images/image_TRD_2.png',\n",
                "    'dead_allowed':False,\n",
                "    'remove_after_location_found':True,\n",
                "    'start_random':False,\n",
                "    'number_removable_locations':1,\n",
                "}\n",
                "\n",
                "if not os.path.exists(env_config['env_image_path']):\n",
                "  # make sure you have the folder and the image\n",
                "  print(f\"Error: The image path {env_config['env_image_path']} does not exist.\")\n",
                "else:\n",
                "  # if everything fine, we create the environment\n",
                "  tmp_env = TrondheimEnv(conf=env_config)\n",
                "  print(f\"Environment successfully created\")"
            ]
        },
        {
            "cell_type": "code",
            "execution_count": 113,
            "metadata": {
                "cell_id": "884dc5c0a3664855be25855120963b2a",
                "deepnote_cell_type": "code",
                "deepnote_to_be_reexecuted": true,
                "id": "pvsn6eroPkG2"
            },
            "outputs": [
                {
                    "data": {
                        "image/png": "[encoded data removed]",
                        "text/plain": [
                            "<Figure size 640x480 with 1 Axes>"
                        ]
                    },
                    "metadata": {},
                    "output_type": "display_data"
                },
                {
                    "data": {
                        "text/plain": [
                            "array([[[  0,   0, 255],\n",
                            "        [  0,   0, 255],\n",
                            "        [  0,   0, 255],\n",
                            "        ...,\n",
                            "        [  0,   0, 255],\n",
                            "        [  0,   0, 255],\n",
                            "        [  0,   0, 255]],\n",
                            "\n",
                            "       [[  0, 255,   0],\n",
                            "        [  0, 255,   0],\n",
                            "        [  0, 255,   0],\n",
                            "        ...,\n",
                            "        [  0,   0, 255],\n",
                            "        [  0,   0, 255],\n",
                            "        [  0, 255,   0]],\n",
                            "\n",
                            "       [[  0, 255,   0],\n",
                            "        [  0, 255,   0],\n",
                            "        [  0, 255,   0],\n",
                            "        ...,\n",
                            "        [  0,   0, 255],\n",
                            "        [  0, 255,   0],\n",
                            "        [  0, 255,   0]],\n",
                            "\n",
                            "       ...,\n",
                            "\n",
                            "       [[  0, 255,   0],\n",
                            "        [  0, 255,   0],\n",
                            "        [  0, 255,   0],\n",
                            "        ...,\n",
                            "        [  0, 255,   0],\n",
                            "        [  0, 255,   0],\n",
                            "        [  0, 255,   0]],\n",
                            "\n",
                            "       [[  0, 255,   0],\n",
                            "        [  0, 255,   0],\n",
                            "        [  0, 255,   0],\n",
                            "        ...,\n",
                            "        [  0, 255,   0],\n",
                            "        [  0, 255,   0],\n",
                            "        [  0, 255,   0]],\n",
                            "\n",
                            "       [[  0, 255,   0],\n",
                            "        [  0, 255,   0],\n",
                            "        [  0, 255,   0],\n",
                            "        ...,\n",
                            "        [  0, 255,   0],\n",
                            "        [  0, 255,   0],\n",
                            "        [  0, 255,   0]]], dtype=uint8)"
                        ]
                    },
                    "execution_count": 113,
                    "metadata": {},
                    "output_type": "execute_result"
                }
            ],
            "source": [
                "tmp_env.reset()\n",
                "tmp_env.render()"
            ]
        },
        {
            "cell_type": "code",
            "execution_count": 114,
            "metadata": {
                "cell_id": "68affe936e6c41268d09448efcaf9a58",
                "deepnote_cell_type": "code",
                "deepnote_to_be_reexecuted": true,
                "id": "LAC2FRZ5PkG2"
            },
            "outputs": [
                {
                    "name": "stdout",
                    "output_type": "stream",
                    "text": [
                        "Next step towards: \n",
                        "Green Land class area\n",
                        "0\n"
                    ]
                },
                {
                    "data": {
                        "image/png": "[encoded data removed]",
                        "text/plain": [
                            "<Figure size 640x480 with 1 Axes>"
                        ]
                    },
                    "metadata": {},
                    "output_type": "display_data"
                },
                {
                    "data": {
                        "text/plain": [
                            "array([[[  0,   0, 255],\n",
                            "        [  0,   0, 255],\n",
                            "        [  0,   0, 255],\n",
                            "        ...,\n",
                            "        [  0,   0, 255],\n",
                            "        [  0,   0, 255],\n",
                            "        [  0,   0, 255]],\n",
                            "\n",
                            "       [[  0, 255,   0],\n",
                            "        [  0, 255,   0],\n",
                            "        [  0, 255,   0],\n",
                            "        ...,\n",
                            "        [  0,   0, 255],\n",
                            "        [  0,   0, 255],\n",
                            "        [  0, 255,   0]],\n",
                            "\n",
                            "       [[  0, 255,   0],\n",
                            "        [  0, 255,   0],\n",
                            "        [  0, 255,   0],\n",
                            "        ...,\n",
                            "        [  0,   0, 255],\n",
                            "        [  0, 255,   0],\n",
                            "        [  0, 255,   0]],\n",
                            "\n",
                            "       ...,\n",
                            "\n",
                            "       [[  0, 255,   0],\n",
                            "        [  0, 255,   0],\n",
                            "        [  0, 255,   0],\n",
                            "        ...,\n",
                            "        [  0, 255,   0],\n",
                            "        [  0, 255,   0],\n",
                            "        [  0, 255,   0]],\n",
                            "\n",
                            "       [[  0, 255,   0],\n",
                            "        [  0, 255,   0],\n",
                            "        [  0, 255,   0],\n",
                            "        ...,\n",
                            "        [  0, 255,   0],\n",
                            "        [  0, 255,   0],\n",
                            "        [  0, 255,   0]],\n",
                            "\n",
                            "       [[  0, 255,   0],\n",
                            "        [  0, 255,   0],\n",
                            "        [  0, 255,   0],\n",
                            "        ...,\n",
                            "        [  0, 255,   0],\n",
                            "        [  0, 255,   0],\n",
                            "        [  0, 255,   0]]], dtype=uint8)"
                        ]
                    },
                    "execution_count": 114,
                    "metadata": {},
                    "output_type": "execute_result"
                }
            ],
            "source": [
                "# select the action here\n",
                "my_action = 'right'\n",
                "\n",
                "# here is your action\n",
                "obs, rew, term, info = tmp_env.step(action_dict[my_action])\n",
                "print(rew)\n",
                "tmp_env.render()"
            ]
        },
        {
            "cell_type": "markdown",
            "metadata": {
                "cell_id": "8f250d798e87486f978e9cee07011e9d",
                "deepnote_cell_type": "markdown",
                "id": "y1NDKIr1PkG3"
            },
            "source": [
                "### Task 1: Initialize Q table"
            ]
        },
        {
            "cell_type": "code",
            "execution_count": 115,
            "metadata": {
                "cell_id": "c281a6450daf482398e74f5aaede93f1",
                "deepnote_cell_type": "code",
                "deepnote_to_be_reexecuted": true,
                "id": "O94qG1KpPkG3"
            },
            "outputs": [
                {
                    "name": "stdout",
                    "output_type": "stream",
                    "text": [
                        "Observation space dimensions:  (32, 32)\n",
                        "Number of possible actions: 4\n"
                    ]
                }
            ],
            "source": [
                "# Task 1: Initialize Q table\n",
                "\"\"\"\n",
                "TODO: given the environment, initialize the Q table\n",
                "\"\"\"\n",
                "\n",
                "# Tip: pay attention to the dimensions of Q table\n",
                "# Tip: how many states the table have, how many actions\n",
                "# Extra tip:\n",
                "\"\"\"number of states is different here in comparison with first example:\n",
                "we have 2 subcases for this environment:\n",
                "when Location is there and when it is removed/destroyed\"\"\"\n",
                "\n",
                "print(f\"Observation space dimensions:  {tmp_env.observation_space.shape}\")\n",
                "print(f\"Number of possible actions: {tmp_env.action_space.n}\")\n",
                "\n",
                "# YOUR CODE GOES HERE\n",
                "\n",
                "\n",
                "Q_test = None # you need to initialize Q_test\n",
                "#print(Q_test.shape)"
            ]
        },
        {
            "cell_type": "markdown",
            "metadata": {
                "cell_id": "a491cae2c44043ca8a48a5d91da4b7e2",
                "deepnote_cell_type": "markdown",
                "id": "JB2XCe2ePkG3"
            },
            "source": [
                "### Task 2: Write necessary helper functions for Q-learning"
            ]
        },
        {
            "cell_type": "code",
            "execution_count": 116,
            "metadata": {
                "cell_id": "19599838807d4d25bcfe94c59f5f0abc",
                "deepnote_cell_type": "code",
                "deepnote_to_be_reexecuted": true,
                "id": "WEanCBRQPkG3"
            },
            "outputs": [],
            "source": [
                "# Task 2: Write necessary helper functions for Q-learning\n",
                "# Tip: just use the same helper functions you already implemented above\n",
                "\n",
                "# YOU DON'T NEED TO DO ANYTHING HERE. They are the same"
            ]
        },
        {
            "cell_type": "markdown",
            "metadata": {
                "cell_id": "419a9bba419d455195c2f9edfb818c28",
                "deepnote_cell_type": "markdown",
                "id": "Caf0nsoiPkG3"
            },
            "source": [
                "### Task 3: Play with Hyperparameters"
            ]
        },
        {
            "cell_type": "code",
            "execution_count": 117,
            "metadata": {
                "cell_id": "b9aeb8ce2dc0436db3133bd97128c0b3",
                "deepnote_cell_type": "code",
                "deepnote_to_be_reexecuted": true,
                "id": "h52WTqg9PkG3"
            },
            "outputs": [],
            "source": [
                "# Task 3: Play with Hyperparameters\n",
                "# Tip - you can also use the same parameters as for the toy example above\n",
                "# YOUR CODE GOES HERE (set the values below)\n",
                "\n",
                "GAMMA_test = None\n",
                "NUM_EPISODES_test = None\n",
                "MIN_EXPLORE_RATE_test = None\n",
                "MIN_LEARNING_RATE_test = None\n",
                "STEP_SIZE_TEST = None\n",
                "# Depending on your parameters for the toy environment, using the same parameters here could work fine\n",
                "# if they are not working, you may want to set them to different values here"
            ]
        },
        {
            "cell_type": "markdown",
            "metadata": {
                "cell_id": "b7e0873e8cbe4782b393736744008c05",
                "deepnote_cell_type": "markdown",
                "id": "qFNdPJDsPkG3"
            },
            "source": [
                "## Now use Q-learning to learn the Q table\n",
                "### Task 4: Train the agent using Q-learning"
            ]
        },
        {
            "cell_type": "code",
            "execution_count": 118,
            "metadata": {
                "cell_id": "6ca633bdf9764d949ddfe0a6e5b06b09",
                "deepnote_cell_type": "code",
                "deepnote_to_be_reexecuted": true,
                "id": "3S1v2HSXPkG3"
            },
            "outputs": [],
            "source": [
                "# Task 4: Train the agent using Q-learning on\n",
                "# Tip - you can use the same function (or code) that you implemented for simple environment (Assignment 1 Task 4)\n",
                "\n",
                "# the logic is the same, just the enviroment is different\n",
                "# YOUR CODE GOES HERE"
            ]
        },
        {
            "cell_type": "code",
            "execution_count": 119,
            "metadata": {
                "cell_id": "dc96fdcd00a24163aff6f86bbbcd4273",
                "deepnote_cell_type": "code",
                "deepnote_to_be_reexecuted": true,
                "id": "2S7gcosOPkG4"
            },
            "outputs": [
                {
                    "name": "stdout",
                    "output_type": "stream",
                    "text": [
                        "Total reward after training: 900, total Explore rate after training: 0.20186964080642128\n"
                    ]
                }
            ],
            "source": [
                "print(f\"Total reward after training: {total_reward}, total Explore rate after training: {explore_rate}\")"
            ]
        },
        {
            "cell_type": "markdown",
            "metadata": {
                "cell_id": "8447750a6b2a4289b86cdd1f4b3d2e43",
                "deepnote_cell_type": "markdown",
                "id": "hahegZZqPkG4"
            },
            "source": [
                "## Let's see one episode"
            ]
        },
        {
            "cell_type": "code",
            "execution_count": 120,
            "metadata": {
                "cell_id": "117f64efd38c45ba9f398fd259b140c5",
                "deepnote_cell_type": "code",
                "deepnote_to_be_reexecuted": true,
                "id": "U0DTHl47PkG4",
                "scrolled": false
            },
            "outputs": [
                {
                    "data": {
                        "image/png": "[encoded data removed]",
                        "text/plain": [
                            "<Figure size 640x480 with 1 Axes>"
                        ]
                    },
                    "metadata": {},
                    "output_type": "display_data"
                },
                {
                    "ename": "TypeError",
                    "evalue": "'NoneType' object is not subscriptable",
                    "output_type": "error",
                    "traceback": [
                        "\u001b[1;31m---------------------------------------------------------------------------\u001b[0m",
                        "\u001b[1;31mTypeError\u001b[0m                                 Traceback (most recent call last)",
                        "Cell \u001b[1;32mIn[120], line 16\u001b[0m\n\u001b[0;32m     13\u001b[0m img \u001b[38;5;241m=\u001b[39m tmp_env\u001b[38;5;241m.\u001b[39mrender()\n\u001b[0;32m     14\u001b[0m image_samples\u001b[38;5;241m.\u001b[39mappend(img)\n\u001b[1;32m---> 16\u001b[0m action \u001b[38;5;241m=\u001b[39m \u001b[43mupdate_action\u001b[49m\u001b[43m(\u001b[49m\u001b[43mtmp_env\u001b[49m\u001b[43m,\u001b[49m\u001b[43m \u001b[49m\u001b[43mstate_0\u001b[49m\u001b[43m,\u001b[49m\u001b[43m \u001b[49m\u001b[43mexplore_rate\u001b[49m\u001b[43m,\u001b[49m\u001b[43m \u001b[49m\u001b[43mQ\u001b[49m\u001b[38;5;241;43m=\u001b[39;49m\u001b[43mQ_test\u001b[49m\u001b[43m)\u001b[49m\n\u001b[0;32m     17\u001b[0m obv, reward, done, info \u001b[38;5;241m=\u001b[39m tmp_env\u001b[38;5;241m.\u001b[39mstep(action)\n\u001b[0;32m     18\u001b[0m state_1 \u001b[38;5;241m=\u001b[39m tmp_env\u001b[38;5;241m.\u001b[39mget_1d_state()\n",
                        "Cell \u001b[1;32mIn[103], line 34\u001b[0m, in \u001b[0;36mupdate_action\u001b[1;34m(env, state, explore_rate, Q)\u001b[0m\n\u001b[0;32m     30\u001b[0m \u001b[38;5;28;01mdef\u001b[39;00m \u001b[38;5;21mupdate_action\u001b[39m(env, state, explore_rate, Q):\n\u001b[0;32m     31\u001b[0m \n\u001b[0;32m     32\u001b[0m     \u001b[38;5;66;03m# this function should return an action\u001b[39;00m\n\u001b[0;32m     33\u001b[0m \t\u001b[38;5;66;03m# YOUR CODE GOES HERE\u001b[39;00m\n\u001b[1;32m---> 34\u001b[0m     q_values \u001b[38;5;241m=\u001b[39m \u001b[43mQ\u001b[49m\u001b[43m[\u001b[49m\u001b[43mstate\u001b[49m\u001b[43m]\u001b[49m\n\u001b[0;32m     36\u001b[0m     \u001b[38;5;28;01mif\u001b[39;00m np\u001b[38;5;241m.\u001b[39mrandom\u001b[38;5;241m.\u001b[39mrandom() \u001b[38;5;241m<\u001b[39m explore_rate:\n\u001b[0;32m     37\u001b[0m         action \u001b[38;5;241m=\u001b[39m np\u001b[38;5;241m.\u001b[39mrandom\u001b[38;5;241m.\u001b[39mrandint(\u001b[38;5;241m0\u001b[39m, env\u001b[38;5;241m.\u001b[39maction_space\u001b[38;5;241m.\u001b[39mn)\n",
                        "\u001b[1;31mTypeError\u001b[0m: 'NoneType' object is not subscriptable"
                    ]
                }
            ],
            "source": [
                "#now we can show one episode\n",
                "\n",
                "tmp_env.manual_mode = True # we want to see the messages\n",
                "STEP_SIZE_TEST_test = 45\n",
                "\n",
                "image_samples = []  # Array to store images\n",
                "\n",
                "observation = tmp_env.reset()\n",
                "state_0 = tmp_env.get_1d_state()\n",
                "total_reward = 0\n",
                "\n",
                "for _ in range(STEP_SIZE_TEST_test):\n",
                "    img = tmp_env.render()\n",
                "    image_samples.append(img)\n",
                "\n",
                "    action = update_action(tmp_env, state_0, explore_rate, Q=Q_test)\n",
                "    obv, reward, done, info = tmp_env.step(action)\n",
                "    state_1 = tmp_env.get_1d_state()\n",
                "    state_0 = state_1\n",
                "\n",
                "    total_reward += reward\n",
                "\n",
                "print(f\"Total_reward: \", total_reward)\n",
                "# self.observation.shape[0]"
            ]
        },
        {
            "cell_type": "markdown",
            "metadata": {
                "cell_id": "c497d52b223e415eb6464d102b593a74",
                "deepnote_cell_type": "markdown",
                "id": "fw1c9kfbiUiw"
            },
            "source": [
                "### Simple animation of agent movement in one episode"
            ]
        },
        {
            "cell_type": "code",
            "execution_count": null,
            "metadata": {
                "cell_id": "1fa236906f614475bd7dbf69395fe64b",
                "deepnote_cell_type": "code",
                "deepnote_to_be_reexecuted": true,
                "id": "xzKx98oDPkG4"
            },
            "outputs": [],
            "source": [
                "# let's make an animation of this, because it's fun\n",
                "# nothing for you to do here - just run the code\n",
                "\n",
                "import os\n",
                "import matplotlib.animation as animation\n",
                "\n",
                "height = img.shape[0]\n",
                "width = img.shape[1]\n",
                "\n",
                "output_folder = 'output_stuff'\n",
                "if not os.path.exists(output_folder):\n",
                "    os.makedirs(output_folder)\n",
                "\n",
                "\n",
                "fig = plt.figure()\n",
                "imgs = []\n",
                "for i in range(STEP_SIZE_TEST_test):\n",
                "    im = plt.imshow(image_samples[i].reshape(height, width, 3), animated=True)\n",
                "    imgs.append([im])\n",
                "\n",
                "animate = animation.ArtistAnimation(fig, imgs, interval=80, blit=True, repeat_delay=1000)\n",
                "filename_gif = os.path.join(output_folder, 'animation_test.gif')\n",
                "animate.save(filename_gif)\n",
                "plt.show()"
            ]
        },
        {
            "cell_type": "markdown",
            "metadata": {
                "created_in_deepnote_cell": true,
                "deepnote_cell_type": "markdown"
            },
            "source": [
                "<a style='text-decoration:none;line-height:16px;display:flex;color:#5B5B62;padding:10px;justify-content:end;' href='https://deepnote.com?utm_source=created-in-deepnote-cell&projectId=cd10384d-28df-431e-b0f2-62886eff090a' target=\"_blank\">\n",
                "<img alt='Created in deepnote.com' style='display:inline;max-height:16px;margin:0px;margin-right:7.5px;' src='data:image/svg+xml;base64,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' > </img>\n",
                "Created in <span style='font-weight:600;margin-left:4px;'>Deepnote</span></a>"
            ]
        }
    ],
    "metadata": {
        "deepnote_notebook_id": "3f3c926188764580822be3c87908636e",
        "kernelspec": {
            "display_name": "Python 3",
            "language": "python",
            "name": "python3"
        },
        "language_info": {
            "codemirror_mode": {
                "name": "ipython",
                "version": 3
            },
            "file_extension": ".py",
            "mimetype": "text/x-python",
            "name": "python",
            "nbconvert_exporter": "python",
            "pygments_lexer": "ipython3",
            "version": "3.11.5"
        }
    },
    "nbformat": 4,
    "nbformat_minor": 0
}
