{
    "cells": [
        {
            "cell_type": "markdown",
            "metadata": {
                "cell_id": "539eb6a663f148c8b3648d4c30841fb9",
                "deepnote_cell_type": "markdown",
                "id": "Bb6euaGTtpwB"
            },
            "source": [
                "# **Project 3 - Reinforcement Learning**\n",
                "\n",
                "\n",
                "\n",
                "\n"
            ]
        },
        {
            "cell_type": "markdown",
            "metadata": {
                "cell_id": "1aac8b7f7768453fa7dd37c8ca8280c1",
                "deepnote_cell_type": "markdown",
                "id": "8ECxNoBGPkGr"
            },
            "source": [
                "## 🌞 Mission: Find a secret Location in Trondheim where SkyNets servers are located"
            ]
        },
        {
            "cell_type": "markdown",
            "metadata": {
                "cell_id": "80824d25073c4a33ab70d21d8172f113",
                "deepnote_cell_type": "markdown",
                "id": "daDMCdxyPkGs"
            },
            "source": [
                "📊 **High-level goal:**\n",
                "\n",
                "Train an agent (the “learner”) to interact with given environment and learn from it, so it can maximize its cumulative rewards over time.\n",
                "\n",
                "\n",
                "\n",
                "\n",
                "*   **Environment:**\n",
                "     *   The environment **is already created** and set up for you with the help of\n",
                "\"gymnasium\" library.\n",
                "     *   The agent is interacting with a simulated environment, which has states, accepts actions, and returns rewards. The environment resets at the beginning of each episode, and the agent takes actions within it, receiving feedback in the form of rewards.\n",
                "*   **Q-table:**\n",
                "     *   This table stores information about the \"quality\" of actions in different states.\n",
                "     *   The goal of the agent is to update the Q-table over time to estimate the value of taking different actions in various states.\n",
                "     *   You will initialize and learn Q-table in this project.\n"
            ]
        },
        {
            "cell_type": "markdown",
            "metadata": {
                "cell_id": "ac7567d6c1c245519be2d901ef2dd080",
                "deepnote_cell_type": "markdown",
                "id": "URR74x6gPkGs"
            },
            "source": [
                "## 📮 Imports:"
            ]
        },
        {
            "cell_type": "code",
            "execution_count": 121,
            "metadata": {
                "cell_id": "93330a103fdb47278514898b9b645446",
                "deepnote_cell_type": "code",
                "execution_context_id": "25918dda-8400-4096-8584-354a0a1a97e1",
                "execution_millis": 5958,
                "execution_start": 1761731870490,
                "id": "NtDaL3aL9emb",
                "source_hash": "c956d0be"
            },
            "outputs": [
                {
                    "name": "stdout",
                    "output_type": "stream",
                    "text": [
                        "Requirement already satisfied: gymnasium in c:\\users\\jon bergland\\appdata\\local\\programs\\python\\python311\\lib\\site-packages (0.29.1)\n",
                        "Note: you may need to restart the kernel to use updated packages.\n"
                    ]
                },
                {
                    "name": "stderr",
                    "output_type": "stream",
                    "text": [
                        "ERROR: Could not find a version that satisfies the requirement quiet (from versions: none)\n",
                        "\n",
                        "[notice] A new release of pip is available: 24.2 -> 25.3\n",
                        "[notice] To update, run: python.exe -m pip install --upgrade pip\n",
                        "ERROR: No matching distribution found for quiet\n"
                    ]
                },
                {
                    "name": "stdout",
                    "output_type": "stream",
                    "text": [
                        "Requirement already satisfied: imageio in c:\\users\\jon bergland\\appdata\\local\\programs\\python\\python311\\lib\\site-packages (2.37.0)\n",
                        "Note: you may need to restart the kernel to use updated packages.\n"
                    ]
                },
                {
                    "name": "stderr",
                    "output_type": "stream",
                    "text": [
                        "ERROR: Could not find a version that satisfies the requirement quiet (from versions: none)\n",
                        "\n",
                        "[notice] A new release of pip is available: 24.2 -> 25.3\n",
                        "[notice] To update, run: python.exe -m pip install --upgrade pip\n",
                        "ERROR: No matching distribution found for quiet\n"
                    ]
                }
            ],
            "source": [
                "%pip install gymnasium -- quiet\n",
                "%pip install imageio -- quiet\n",
                "# import libraries\n",
                "import numpy as np\n",
                "import matplotlib.pyplot as plt\n",
                "import imageio.v3 as iio\n",
                "import random\n",
                "import os\n",
                "\n",
                "# note: make sure to install necessary libraries like imageio, gymnasium etc.\n"
            ]
        },
        {
            "cell_type": "code",
            "execution_count": 122,
            "metadata": {
                "cell_id": "8b58823a51bd4fed92b5a1a5571c2463",
                "deepnote_cell_type": "code",
                "execution_context_id": "25918dda-8400-4096-8584-354a0a1a97e1",
                "execution_millis": 0,
                "execution_start": 1761731876494,
                "id": "Jq1P8fu_itVF",
                "source_hash": "bca8a597"
            },
            "outputs": [],
            "source": [
                "# import gymnasium stuff\n",
                "import gymnasium as gym\n",
                "from gymnasium import error, spaces, utils\n",
                "from gymnasium.utils import seeding\n",
                "from gymnasium.spaces import Discrete, MultiDiscrete"
            ]
        },
        {
            "cell_type": "markdown",
            "metadata": {
                "cell_id": "4be17433bcb14d9ebf8d537884f5b065",
                "deepnote_cell_type": "markdown",
                "id": "4UCkLhnL5hik"
            },
            "source": [
                "### Utility functions are provided for you:\n",
                "\n",
                "\n",
                "*   one_hot_decode\n",
                "*   one_hot_encode\n",
                "*   make_2d\n",
                "*   make_3d\n",
                "*   read_png_file\n",
                "*   is_valid_idx\n",
                "*   flatten_observation\n",
                "*   is_valid_idx\n",
                "*   flatten_observation\n",
                "*   make_2d_observation\n",
                "*   swap_values"
            ]
        },
        {
            "cell_type": "code",
            "execution_count": 123,
            "metadata": {
                "cell_id": "8ce8e67becfa4e1c98721e9798e33c8b",
                "deepnote_cell_type": "code",
                "execution_context_id": "25918dda-8400-4096-8584-354a0a1a97e1",
                "execution_millis": 1,
                "execution_start": 1761731876543,
                "id": "O6bisXF65lHl",
                "source_hash": "9056160b"
            },
            "outputs": [],
            "source": [
                "def one_hot_decode(label_3D):\n",
                "  \"\"\"\n",
                "  Converts back from one-hot encoded format (label_3D)\n",
                "  to original class labels for each pixel (2D)\n",
                "  \"\"\"\n",
                "  return np.argmax(label_3D, axis=-1)\n",
                "\n",
                "def one_hot_encode(label_2D, label_values):\n",
                "    \"\"\"\n",
                "    Converts a segmentation image label array (label_2D) to one-hot format\n",
                "    by replacing each pixel value with a vector of length num_classes\n",
                "    # Arguments\n",
                "        label_2D: The 2D array segmentation image label\n",
                "        label_values: an RGB array of classes (num_classes, 3)\n",
                "\n",
                "    # Returns\n",
                "        A 3D array with the same width and height as the input,\n",
                "        but with a depth size of num_classes (for each pixel)\n",
                "\n",
                "        Each class gets its own encoding for every pixel in the image.\n",
                "        Encodings are then stacked along new axis which is number of classes\n",
                "    \"\"\"\n",
                "    semantic_map = []\n",
                "    for colour in label_values:\n",
                "        equality = np.equal(label_2D, colour)\n",
                "        class_map = np.all(equality, axis=-1)\n",
                "        semantic_map.append(class_map)\n",
                "    semantic_map = np.stack(semantic_map, axis=-1)\n",
                "\n",
                "    return semantic_map\n",
                "\n",
                "def make_2d(map_3d=None, palette_array=None):\n",
                "    \"\"\"\n",
                "    Converts RGB images to images with number of class as value at [i,j]\n",
                "\n",
                "    map_3d: 3D RGB image (H, W, n_ch = 3)\n",
                "    palette_array: an RGB array of classes (num_classes, 3)\n",
                "\n",
                "    Result: 2D structure where each \"pixel\" in the image\n",
                "    has a class number instead of RGB color\n",
                "    \"\"\"\n",
                "    # here we make 3D representation, 3rd dimension has one-hot encoded classes\n",
                "    replaced_image_onehot = one_hot_encode(\n",
                "        map_3d.astype(np.uint8), palette_array) # size (H, W, num_classes)\n",
                "    # we create 2D representation, where every pixel has the value of its class\n",
                "    return one_hot_decode(replaced_image_onehot) # size (H, W) - 2D\n",
                "\n",
                "def make_3d(map_2d=None, palette_array=None):\n",
                "    \"\"\"\n",
                "    Convert a 2d img to 3d\n",
                "    Convert a 2D image where each pixel represents a class label\n",
                "    into a 3D image where each class label is represented\n",
                "    by its corresponding RGB color from the palette_array.\n",
                "    Creates colorized 3D image from the original 2D class map\n",
                "\n",
                "    map_2d: array of class labels, size (H, W)\n",
                "    palette_array: an RGB array of classes (num_classes, 3)\n",
                "\n",
                "    Result: RGB image (H, W, 3)\n",
                "    \"\"\"\n",
                "    return palette_array[map_2d.astype(np.uint8)]\n",
                "\n",
                "\n",
                "def read_png_file(image_path, printDebug = True):\n",
                "    \"\"\"\n",
                "    read a png file and returns it as a 3D numpy array\n",
                "    \"\"\"\n",
                "    original_image_matrix = iio.imread(image_path)\n",
                "\n",
                "    if original_image_matrix.ndim > 2 and original_image_matrix.shape[-1] > 3:\n",
                "        if printDebug:\n",
                "            print(f'image has more than 3 channels, only first 3 channels are used there are {original_image_matrix.shape} channels')\n",
                "        original_image_matrix = original_image_matrix[:, :, :3]\n",
                "    return original_image_matrix\n",
                "\n",
                "def is_valid_idx(image_2D, selected_idx):\n",
                "    \"\"\"\n",
                "    Checks if a given index is within the valid range of a 2D array\n",
                "\n",
                "    if selected_idx is valid in image_2D\n",
                "    selected_idx = [i,j]\n",
                "    image_2D = [h,w]\n",
                "      \"\"\"\n",
                "    if selected_idx[0] < 0 or selected_idx[1] < 0:\n",
                "        return False\n",
                "    if selected_idx[0] < image_2D.shape[0]:\n",
                "        if selected_idx[1] < image_2D.shape[1]:\n",
                "            return True\n",
                "    return False\n",
                "\n",
                "def flatten_observation(observation_arr):\n",
                "    \"\"\"\n",
                "    Converts/flattens a multi-dimensional array into a 1D array\n",
                "    \"\"\"\n",
                "    return observation_arr.flatten\n",
                "\n",
                "\n",
                "def make_2d_observation(observation_flattened, observation_arr_shape):\n",
                "    \"\"\"\n",
                "    Converts flattened array into shape observation_arr_shape\n",
                "    \"\"\"\n",
                "    return observation_flattened.reshape(observation_arr_shape.shape)\n",
                "\n",
                "def swap_values(arr, value1, value2):\n",
                "    \"\"\"\n",
                "    Swaps occurencies of two specific values (value1 and value2)\n",
                "    within a 2D NumPy array (arr).\n",
                "\n",
                "    arr: A 2D NumPy array where we want to swap the values\n",
                "    value1: the first value that we want to swap with value2\n",
                "    value2: the second value that we want to swap with value1\n",
                "\n",
                "    Returns: 2D array with swapped values\n",
                "    \"\"\"\n",
                "\n",
                "    # Ensure the values are integers\n",
                "    value1, value2 = int(value1), int(value2)\n",
                "\n",
                "    # Step 1: Find the first position of value1 and change it to value2\n",
                "    pos_value1 = np.argwhere(arr == value1) # returns 2D array\n",
                "    if pos_value1.size > 0:\n",
                "        arr[pos_value1[0][0], pos_value1[0][1]] = value2\n",
                "\n",
                "    # Step 2: Get all positions of value2\n",
                "    pos_value2 = np.argwhere(arr == value2) # returns 2D array\n",
                "\n",
                "    # Step 3: Randomly select a position of value2 that is not the original value1's position\n",
                "    if len(pos_value2) > 1:\n",
                "        # filter out the position of former value1 (pos_value1) which now also contains value2\n",
                "        pos_value2 = pos_value2[np.all(pos_value2 != pos_value1[0], axis=1)]\n",
                "        if pos_value2.size > 0:\n",
                "            random_pos_value2 = pos_value2[np.random.choice(len(pos_value2))]\n",
                "            arr[random_pos_value2[0], random_pos_value2[1]] = value1\n",
                "\n",
                "    return arr"
            ]
        },
        {
            "cell_type": "markdown",
            "metadata": {
                "cell_id": "0c4c1c3334ff4053b26ecabcdceba815",
                "deepnote_cell_type": "markdown",
                "id": "I95zkEvIPkGt"
            },
            "source": [
                "### Environment class with necessary functions - provided for you:\n",
                "\n",
                "\n",
                "*   constructor __init__\n",
                "*   step\n",
                "*   reset\n",
                "*   get_1d_state\n",
                "*   render\n",
                "*   close\n"
            ]
        },
        {
            "cell_type": "code",
            "execution_count": 124,
            "metadata": {
                "cell_id": "745f767d1f4149318c185f107831415b",
                "deepnote_cell_type": "code",
                "execution_context_id": "25918dda-8400-4096-8584-354a0a1a97e1",
                "execution_millis": 1,
                "execution_start": 1761731876603,
                "id": "s6TWGiuXth-H",
                "source_hash": "9e987f1d"
            },
            "outputs": [],
            "source": [
                "class TrondheimEnv(gym.Env):\n",
                "    metadata = {'render.modes': ['human']}\n",
                "\n",
                "    def __init__(self, conf):\n",
                "        \"\"\"\n",
                "        Every environment should be derived from gym.Env and at least contain\n",
                "        variables observation_space and action_space specifying the type of possible\n",
                "        observations and actions using spaces.Box or spaces.Discrete.\n",
                "\n",
                "        Example:\n",
                "        >>> EnvTest = TrondheimEnv()\n",
                "        >>> EnvTest.observation_space=spaces.Box(low=-1, high=1, shape=(3,4))\n",
                "        >>> EnvTest.action_space=spaces.Discrete(2)\n",
                "        \"\"\"\n",
                "\n",
                "        self.manual_mode = True  # Flag to control printouts\n",
                "\n",
                "        # action definition:\n",
                "        number_action = 4\n",
                "        self.action_space = Discrete(number_action)\n",
                "\n",
                "        self.env_image_path = conf['env_image_path']\n",
                "        self.number_removable_locations = conf['number_removable_locations']\n",
                "\n",
                "        self.pallete = np.array([[0, 0, 255],    # Blue:0:Water\n",
                "                            [255, 255, 0],  # Yellow:1:Start\n",
                "                            [0, 255, 0],    # Green:2:Land\n",
                "                            [255, 0, 0],    # Red:3:BusLane\n",
                "                            [128, 0, 128],  # Purple:4:BusStop\n",
                "                            [0,   0,   0],  # Black:5:Secret Location\n",
                "                            [128, 128, 0]], # Olive:6:Final Location\n",
                "                           dtype=np.uint8)\n",
                "\n",
                "        self.neighbours = np.array([[-1,0],[0,-1],[1,0],[0,1]]) # up, left, down, right\n",
                "        self.not_allowed_area = [0] # water\n",
                "        self.normal_land_class = 2 # land\n",
                "        self.neutral_area = [self.normal_land_class,3] # land and BusLane\n",
                "        self.start_class = 1 # start\n",
                "        self.busstop_class = 4 # bus stop\n",
                "        self.secret_location_class = 5 # secret location\n",
                "        self.final_location_class = 6 # final location (2)\n",
                "\n",
                "        # does agent die when enter not_allowed_area\n",
                "        self.dead_allowed = conf['dead_allowed']\n",
                "        # does shops closed after the first purchase\n",
                "        self.remove_after_location_found = conf['remove_after_location_found']\n",
                "        # should we start at different place each time\n",
                "        self.start_random = conf['start_random']\n",
                "\n",
                "        # read RGB image into a 3D numpy array\n",
                "        img_3d = read_png_file(self.env_image_path, printDebug = False)\n",
                "\n",
                "        # convert RGB image into 2D semantic class representation\n",
                "        img_2d = make_2d(map_3d=img_3d,\n",
                "                         palette_array=self.pallete)\n",
                "\n",
                "        # the current state of the environment\n",
                "        self.observation = img_2d # initial observation - 2D semantic class\n",
                "        # copy of the environment's initial state before any actions have been taken\n",
                "        self.initial_observation = img_2d.copy()\n",
                "\n",
                "        max_observation_value = np.max(img_2d)\n",
                "        # assert isinstance(max_observation_value, int)\n",
                "        # can be used, not needed for this implementation\n",
                "        # observation space is a gym object (MultiDiscrete), like numpy array. It can be sampled\n",
                "        observation_space = np.full_like(img_2d,\n",
                "                                         fill_value=max_observation_value)\n",
                "        self.observation_space = MultiDiscrete(observation_space)\n",
                "\n",
                "        # rewards\n",
                "        self.reward = 0\n",
                "\n",
                "        # done\n",
                "        self.done = False\n",
                "\n",
                "        # terminated\n",
                "        self.terminated = False\n",
                "\n",
                "\n",
                "\n",
                "\n",
                "    def step(self, action):\n",
                "        \"\"\"\n",
                "        This method is the primary interface between environment and agent.\n",
                "\n",
                "        Parameters:\n",
                "            action: int\n",
                "                    the index of the respective action (if action space is discrete)\n",
                "\n",
                "        Returns:\n",
                "            output: (array, float, bool, info)\n",
                "                    information provided by the environment about its current state:\n",
                "                    (observation, reward, done)\n",
                "\n",
                "                    self.observation: The updated state of the environment (2D)\n",
                "                    reward: Reward agent received for the action in this step (Int)\n",
                "                    terminated: indicate if the episode has ended (Bool)\n",
                "                    info: Additional information (not used currently)\n",
                "\n",
                "        \"\"\"\n",
                "        obs = self.observation # 2D array of semantic class image representation\n",
                "        terminated = False\n",
                "        truncated = False\n",
                "        info = None\n",
                "\n",
                "        # just start and see where it goes\n",
                "        start_idx = np.argwhere(obs == self.start_class)[0]\n",
                "        # action is: 0:up, 1:left, 2:down, 3:right\n",
                "        next_idx = start_idx + self.neighbours[action]\n",
                "        reward = self.reward\n",
                "        if self.manual_mode:\n",
                "          print('Next step towards: ')\n",
                "\n",
                "        if not is_valid_idx(image_2D=obs, selected_idx=next_idx):\n",
                "            next_idx = start_idx\n",
                "            reward = -1\n",
                "            if self.manual_mode:\n",
                "                print('Hey there, you cannot escape outside of the environment')\n",
                "\n",
                "        # now decide what happens next\n",
                "\n",
                "        if obs[tuple(next_idx)] == self.normal_land_class:\n",
                "            if self.manual_mode:\n",
                "                print('Green Land class area')\n",
                "\n",
                "        # check if it is a non allowed area\n",
                "        if obs[tuple(next_idx)] in self.not_allowed_area:\n",
                "            if self.manual_mode:\n",
                "                print('The move is not allowed')\n",
                "            if self.dead_allowed:\n",
                "                # penalize the agent if allowed to die. Terminate\n",
                "                reward = -1000\n",
                "                terminated = True\n",
                "            else:\n",
                "                # if NOT allowed to die, reset the next position to current one - prevent the move\n",
                "                reward = -1\n",
                "                next_idx = start_idx\n",
                "\n",
                "\n",
                "        # if the player is in bus stup\n",
                "        elif obs[tuple(next_idx)] == self.busstop_class:\n",
                "            if self.manual_mode:\n",
                "                print('A bus stop')\n",
                "\n",
                "            # get the bus stop that is not the next step\n",
                "            bus_stop_indices = np.argwhere(obs == self.busstop_class)\n",
                "            # flip the next state to the other side of the stop\n",
                "            if np.array_equal(next_idx, bus_stop_indices[0]):\n",
                "                # teleport the agent from bus stop 0 to bus stop 1\n",
                "                next_idx = bus_stop_indices[1]\n",
                "            else:\n",
                "                # teleport the agent from bus stop 1 to bus stop 0\n",
                "                next_idx = bus_stop_indices[0]\n",
                "\n",
                "        # if it is Secret Location\n",
                "        elif obs[tuple(next_idx)] == self.secret_location_class:\n",
                "            if self.manual_mode:\n",
                "                print('Central Source Secret Location')\n",
                "            reward = 300\n",
                "            # close the shop (remove from the map)\n",
                "            if self.remove_after_location_found:\n",
                "                self.initial_observation[tuple(next_idx)] = self.normal_land_class\n",
                "                self.number_removed_shop += 1\n",
                "                reward = 9000\n",
                "\n",
                "        # and the Final Location\n",
                "        elif obs[tuple(next_idx)] == self.final_location_class:\n",
                "            if self.manual_mode:\n",
                "                print('Final Location - well done!')\n",
                "                print('You have discovered the Final Location of AI center in Trondheim')\n",
                "            reward = 200\n",
                "\n",
                "\n",
                "        # now we need to change the observation space\n",
                "        # i.e. update the environment’s state to reflect the agent's movement\n",
                "\n",
                "        # if agent’s current position was initial start position\n",
                "        if self.initial_observation[tuple(start_idx)] == self.start_class:\n",
                "            # if true, update observation - mark the start position as neutral area\n",
                "            self.observation[tuple(start_idx)] = self.normal_land_class\n",
                "        else:\n",
                "            # if current position not the initial start one\n",
                "            # restores position in self.observation to its original value from self.initial_observation\n",
                "            # re-color the observation as where you were if not start position\n",
                "            self.observation[tuple(start_idx)] = self.initial_observation[tuple(start_idx)]\n",
                "\n",
                "        # sets the new position of the agent as the next start position\n",
                "        self.observation[tuple(next_idx)] = self.start_class\n",
                "\n",
                "        return self.observation, reward, terminated, info\n",
                "\n",
                "\n",
                "    def reset(self):\n",
                "        \"\"\"\n",
                "        This method resets the environment to its initial values.\n",
                "\n",
                "        Returns:\n",
                "            observation:    array\n",
                "                            the initial state of the environment\n",
                "        \"\"\"\n",
                "        self.number_removed_shop = 0\n",
                "\n",
                "        img_3d = read_png_file(self.env_image_path, printDebug = False)\n",
                "        img_2d = make_2d(map_3d=img_3d,\n",
                "                         palette_array=self.pallete)\n",
                "\n",
                "        if self.start_random:\n",
                "          # we need to move the start to another place\n",
                "          img_2d = swap_values(arr=img_2d,\n",
                "                               value1=1,\n",
                "                               value2=2)\n",
                "\n",
                "        self.observation = img_2d\n",
                "        self.initial_observation = img_2d.copy()\n",
                "\n",
                "        max_observation_value = np.max(img_2d)\n",
                "        observation_space = np.full_like(img_2d,\n",
                "                                         fill_value=max_observation_value)\n",
                "        self.observation_space = MultiDiscrete(observation_space)\n",
                "\n",
                "        # rewards\n",
                "        self.reward = 0\n",
                "\n",
                "        # done\n",
                "        self.done = False\n",
                "\n",
                "        # terminated\n",
                "        self.terminated = False\n",
                "\n",
                "        return self.observation\n",
                "\n",
                "\n",
                "    def get_1d_state(self):\n",
                "        \"\"\"\n",
                "        This function returns state as 1d observation\n",
                "        \"\"\"\n",
                "        max_x = self.observation.shape[0]\n",
                "        max_y = self.observation.shape[1]\n",
                "\n",
                "        start_idx = np.argwhere(\n",
                "            self.observation == self.start_class)[0]\n",
                "        state_number = (\n",
                "            start_idx[0] * max_x) + start_idx[1]\n",
                "        state_number = (self.number_removed_shop * max_x * max_y) + state_number\n",
                "        return state_number\n",
                "\n",
                "    def render(self, mode='human', close=False):\n",
                "        \"\"\"\n",
                "        This methods provides the option to render the environment's behavior to a\n",
                "        window which should be readable to the human eye if mode is set to 'human'.\n",
                "        \"\"\"\n",
                "        render_ready_arr = make_3d(map_2d=self.observation,\n",
                "                                   palette_array=self.pallete)\n",
                "        plt.imshow(render_ready_arr)\n",
                "        plt.show()\n",
                "        plt.close()\n",
                "        return render_ready_arr\n",
                "\n",
                "    def close(self):\n",
                "        \"\"\"\n",
                "        This method provides the user with the option to perform necessary\n",
                "        cleanup.\n",
                "        \"\"\"\n",
                "        img_3d = read_png_file(self.env_image_path)\n",
                "        img_2d = make_2d(map_3d=img_3d,\n",
                "                         palette_array=self.pallete)\n",
                "        self.observation = img_2d\n",
                "        self.initial_observation = img_2d.copy()\n"
            ]
        },
        {
            "cell_type": "code",
            "execution_count": 125,
            "metadata": {
                "cell_id": "b4933b85f02346cba99aac706970364f",
                "deepnote_cell_type": "code",
                "execution_context_id": "25918dda-8400-4096-8584-354a0a1a97e1",
                "execution_millis": 17,
                "execution_start": 1761731876653,
                "id": "oYWhRI2VygG9",
                "source_hash": "27d1c183"
            },
            "outputs": [],
            "source": [
                "# let's make sure to create subfolder for our input images, if not already there\n",
                "input_folder = 'input_images'\n",
                "if not os.path.exists(input_folder):\n",
                "    os.makedirs(input_folder)"
            ]
        },
        {
            "cell_type": "markdown",
            "metadata": {
                "cell_id": "b98d57260f3f4f6b8e758aca6c3727e8",
                "deepnote_cell_type": "markdown",
                "id": "LESqxWq8PkGu"
            },
            "source": [
                "# Configuring and loading the environment:"
            ]
        },
        {
            "cell_type": "markdown",
            "metadata": {
                "cell_id": "2da99cbe2dd647aa94d4112773f0108f",
                "deepnote_cell_type": "markdown",
                "id": "aPy3pcnbPkGu"
            },
            "source": [
                "## 🔎📉  Let's first visualize our simple toy environment"
            ]
        },
        {
            "cell_type": "code",
            "execution_count": 126,
            "metadata": {
                "cell_id": "e71a4b6eae634b8580275c7dfaf79c06",
                "deepnote_cell_type": "code",
                "execution_context_id": "25918dda-8400-4096-8584-354a0a1a97e1",
                "execution_millis": 238,
                "execution_start": 1761731876734,
                "id": "HEmdFlf2PkGu",
                "source_hash": "11651609"
            },
            "outputs": [
                {
                    "name": "stdout",
                    "output_type": "stream",
                    "text": [
                        "Environment successfully created\n"
                    ]
                }
            ],
            "source": [
                "# This is how you create a configuration for the environment\n",
                "# Note: make sure that folder input_images is created\n",
                "# Note 2: make sure you copy necessary input images there\n",
                "\n",
                "env_config = {\n",
                "    'env_image_path':'input_images/image_simple_1.png',\n",
                "    'dead_allowed':False,\n",
                "    'remove_after_location_found':False,\n",
                "    'start_random':False,\n",
                "    'number_removable_locations':0,\n",
                "}\n",
                "\n",
                "\n",
                "if not os.path.exists(env_config['env_image_path']):\n",
                "  # make sure you have the folder and the image\n",
                "  print(f\"Error: The image path {env_config['env_image_path']} does not exist.\")\n",
                "else:\n",
                "  # if everything fine, we create the environment\n",
                "  tmp_env = TrondheimEnv(conf=env_config)\n",
                "  print(f\"Environment successfully created\")"
            ]
        },
        {
            "cell_type": "code",
            "execution_count": 127,
            "metadata": {
                "cell_id": "e1d224933fb64508a3d1c60d2ddd310a",
                "deepnote_cell_type": "code",
                "execution_context_id": "25918dda-8400-4096-8584-354a0a1a97e1",
                "execution_millis": 484,
                "execution_start": 1761731877023,
                "id": "_clXneCvPkGu",
                "source_hash": "62718f3d"
            },
            "outputs": [
                {
                    "data": {
                        "image/png": "[encoded data removed]",
                        "text/plain": [
                            "<Figure size 640x480 with 1 Axes>"
                        ]
                    },
                    "metadata": {},
                    "output_type": "display_data"
                },
                {
                    "data": {
                        "text/plain": [
                            "array([[[  0, 255,   0],\n",
                            "        [  0, 255,   0],\n",
                            "        [  0, 255,   0],\n",
                            "        [  0, 255,   0],\n",
                            "        [  0, 255,   0],\n",
                            "        [  0, 255,   0],\n",
                            "        [  0, 255,   0],\n",
                            "        [  0, 255,   0],\n",
                            "        [  0, 255,   0],\n",
                            "        [  0, 255,   0],\n",
                            "        [  0, 255,   0],\n",
                            "        [  0, 255,   0]],\n",
                            "\n",
                            "       [[  0, 255,   0],\n",
                            "        [  0, 255,   0],\n",
                            "        [  0, 255,   0],\n",
                            "        [  0, 255,   0],\n",
                            "        [  0, 255,   0],\n",
                            "        [  0, 255,   0],\n",
                            "        [  0, 255,   0],\n",
                            "        [  0, 255,   0],\n",
                            "        [  0, 255,   0],\n",
                            "        [  0, 255,   0],\n",
                            "        [  0, 255,   0],\n",
                            "        [  0, 255,   0]],\n",
                            "\n",
                            "       [[  0, 255,   0],\n",
                            "        [  0, 255,   0],\n",
                            "        [  0, 255,   0],\n",
                            "        [  0, 255,   0],\n",
                            "        [  0, 255,   0],\n",
                            "        [  0, 255,   0],\n",
                            "        [  0, 255,   0],\n",
                            "        [  0, 255,   0],\n",
                            "        [  0, 255,   0],\n",
                            "        [  0, 255,   0],\n",
                            "        [  0, 255,   0],\n",
                            "        [  0, 255,   0]],\n",
                            "\n",
                            "       [[  0, 255,   0],\n",
                            "        [  0, 255,   0],\n",
                            "        [  0, 255,   0],\n",
                            "        [  0, 255,   0],\n",
                            "        [  0, 255,   0],\n",
                            "        [  0, 255,   0],\n",
                            "        [  0, 255,   0],\n",
                            "        [  0, 255,   0],\n",
                            "        [  0, 255,   0],\n",
                            "        [  0, 255,   0],\n",
                            "        [  0, 255,   0],\n",
                            "        [  0, 255,   0]],\n",
                            "\n",
                            "       [[  0, 255,   0],\n",
                            "        [  0, 255,   0],\n",
                            "        [  0, 255,   0],\n",
                            "        [  0, 255,   0],\n",
                            "        [  0, 255,   0],\n",
                            "        [  0, 255,   0],\n",
                            "        [  0, 255,   0],\n",
                            "        [  0, 255,   0],\n",
                            "        [  0, 255,   0],\n",
                            "        [  0, 255,   0],\n",
                            "        [  0, 255,   0],\n",
                            "        [  0, 255,   0]],\n",
                            "\n",
                            "       [[  0, 255,   0],\n",
                            "        [  0, 255,   0],\n",
                            "        [  0, 255,   0],\n",
                            "        [  0, 255,   0],\n",
                            "        [  0, 255,   0],\n",
                            "        [  0, 255,   0],\n",
                            "        [  0,   0,   0],\n",
                            "        [  0, 255,   0],\n",
                            "        [  0, 255,   0],\n",
                            "        [  0, 255,   0],\n",
                            "        [  0, 255,   0],\n",
                            "        [  0, 255,   0]],\n",
                            "\n",
                            "       [[  0, 255,   0],\n",
                            "        [  0, 255,   0],\n",
                            "        [  0, 255,   0],\n",
                            "        [  0, 255,   0],\n",
                            "        [  0, 255,   0],\n",
                            "        [  0, 255,   0],\n",
                            "        [  0, 255,   0],\n",
                            "        [  0, 255,   0],\n",
                            "        [  0, 255,   0],\n",
                            "        [  0, 255,   0],\n",
                            "        [  0, 255,   0],\n",
                            "        [  0, 255,   0]],\n",
                            "\n",
                            "       [[  0, 255,   0],\n",
                            "        [  0, 255,   0],\n",
                            "        [  0, 255,   0],\n",
                            "        [  0, 255,   0],\n",
                            "        [  0, 255,   0],\n",
                            "        [  0, 255,   0],\n",
                            "        [  0, 255,   0],\n",
                            "        [  0, 255,   0],\n",
                            "        [  0, 255,   0],\n",
                            "        [  0, 255,   0],\n",
                            "        [  0, 255,   0],\n",
                            "        [  0, 255,   0]],\n",
                            "\n",
                            "       [[  0, 255,   0],\n",
                            "        [  0, 255,   0],\n",
                            "        [  0, 255,   0],\n",
                            "        [  0, 255,   0],\n",
                            "        [  0, 255,   0],\n",
                            "        [  0, 255,   0],\n",
                            "        [  0, 255,   0],\n",
                            "        [  0, 255,   0],\n",
                            "        [  0, 255,   0],\n",
                            "        [  0, 255,   0],\n",
                            "        [  0, 255,   0],\n",
                            "        [  0, 255,   0]],\n",
                            "\n",
                            "       [[  0, 255,   0],\n",
                            "        [  0, 255,   0],\n",
                            "        [  0, 255,   0],\n",
                            "        [  0, 255,   0],\n",
                            "        [  0, 255,   0],\n",
                            "        [  0, 255,   0],\n",
                            "        [  0, 255,   0],\n",
                            "        [  0, 255,   0],\n",
                            "        [  0, 255,   0],\n",
                            "        [  0, 255,   0],\n",
                            "        [  0, 255,   0],\n",
                            "        [  0, 255,   0]],\n",
                            "\n",
                            "       [[  0, 255,   0],\n",
                            "        [  0, 255,   0],\n",
                            "        [  0, 255,   0],\n",
                            "        [  0, 255,   0],\n",
                            "        [  0, 255,   0],\n",
                            "        [  0, 255,   0],\n",
                            "        [  0, 255,   0],\n",
                            "        [  0, 255,   0],\n",
                            "        [  0, 255,   0],\n",
                            "        [  0, 255,   0],\n",
                            "        [255, 255,   0],\n",
                            "        [  0, 255,   0]],\n",
                            "\n",
                            "       [[  0, 255,   0],\n",
                            "        [  0, 255,   0],\n",
                            "        [  0, 255,   0],\n",
                            "        [  0, 255,   0],\n",
                            "        [  0, 255,   0],\n",
                            "        [  0, 255,   0],\n",
                            "        [  0, 255,   0],\n",
                            "        [  0, 255,   0],\n",
                            "        [  0, 255,   0],\n",
                            "        [  0, 255,   0],\n",
                            "        [  0, 255,   0],\n",
                            "        [  0, 255,   0]]], dtype=uint8)"
                        ]
                    },
                    "execution_count": 127,
                    "metadata": {},
                    "output_type": "execute_result"
                }
            ],
            "source": [
                "# visualize the environment. Yellow is where we are, Black is where we want to go\n",
                "tmp_env.reset()\n",
                "tmp_env.render()"
            ]
        },
        {
            "cell_type": "markdown",
            "metadata": {
                "cell_id": "d0ac2c04852246909a54656881bad0f2",
                "deepnote_cell_type": "markdown",
                "id": "XVfyvoCRPkGv"
            },
            "source": [
                "Let's see how actions work:"
            ]
        },
        {
            "cell_type": "code",
            "execution_count": 128,
            "metadata": {
                "cell_id": "b0558429ac354c7cac54cebf71008674",
                "deepnote_cell_type": "code",
                "execution_context_id": "25918dda-8400-4096-8584-354a0a1a97e1",
                "execution_millis": 0,
                "execution_start": 1761731877563,
                "id": "S22Lbe8OPkGv",
                "source_hash": "ddac327d"
            },
            "outputs": [],
            "source": [
                "action_dict = {\n",
                "    'up':0,\n",
                "    'left':1,\n",
                "    'down':2,\n",
                "    'right':3,\n",
                "}"
            ]
        },
        {
            "cell_type": "code",
            "execution_count": 129,
            "metadata": {
                "cell_id": "f1c396ed3ea34af7b02773c1e3fd262d",
                "deepnote_cell_type": "code",
                "execution_context_id": "25918dda-8400-4096-8584-354a0a1a97e1",
                "execution_millis": 108,
                "execution_start": 1761734831927,
                "id": "1wUXsfWIPkGv",
                "source_hash": "ad313cff"
            },
            "outputs": [
                {
                    "name": "stdout",
                    "output_type": "stream",
                    "text": [
                        "Next step towards: \n",
                        "Green Land class area\n",
                        "Reward for action up is: 0\n"
                    ]
                },
                {
                    "data": {
                        "image/png": "[encoded data removed]",
                        "text/plain": [
                            "<Figure size 640x480 with 1 Axes>"
                        ]
                    },
                    "metadata": {},
                    "output_type": "display_data"
                },
                {
                    "name": "stdout",
                    "output_type": "stream",
                    "text": [
                        "Observation space looks like this:\n",
                        "[[2 2 2 2 2 2 2 2 2 2 2 2]\n",
                        " [2 2 2 2 2 2 2 2 2 2 2 2]\n",
                        " [2 2 2 2 2 2 2 2 2 2 2 2]\n",
                        " [2 2 2 2 2 2 2 2 2 2 2 2]\n",
                        " [2 2 2 2 2 2 2 2 2 2 2 2]\n",
                        " [2 2 2 2 2 2 5 2 2 2 2 2]\n",
                        " [2 2 2 2 2 2 2 2 2 2 2 2]\n",
                        " [2 2 2 2 2 2 2 2 2 2 2 2]\n",
                        " [2 2 2 2 2 2 2 2 2 2 2 2]\n",
                        " [2 2 2 2 2 2 2 2 2 2 1 2]\n",
                        " [2 2 2 2 2 2 2 2 2 2 2 2]\n",
                        " [2 2 2 2 2 2 2 2 2 2 2 2]]\n",
                        "Observation length is: 144\n"
                    ]
                }
            ],
            "source": [
                "# select your action here\n",
                "# you are encouraged to play further with this\n",
                "my_action = 'up'\n",
                "\n",
                "# now take a step through the environment by taking this action\n",
                "obs, rew, term, info = tmp_env.step(action_dict[my_action])\n",
                "print(f\"Reward for action {my_action} is: {rew}\")\n",
                "tmp_env.render()\n",
                "\n",
                "print(f\"Observation space looks like this:\\n{obs}\")\n",
                "print(f\"Observation length is: {obs.size}\")"
            ]
        },
        {
            "cell_type": "markdown",
            "metadata": {
                "cell_id": "7c8f2413f5104502a893503fbf0640e3",
                "deepnote_cell_type": "markdown",
                "id": "_BKNX9F4PkGv"
            },
            "source": [
                "# 🧠 **Your Assignments**"
            ]
        },
        {
            "cell_type": "markdown",
            "metadata": {
                "cell_id": "aca7abf100d64c029579681d7fe2adc8",
                "deepnote_cell_type": "markdown",
                "id": "BpfZYKmOPkGv"
            },
            "source": [
                "# 1️⃣ Assignment 1: Q-learning with simple toy environment"
            ]
        },
        {
            "cell_type": "markdown",
            "metadata": {
                "cell_id": "eb1805166f9648ebb0993fde48fed465",
                "deepnote_cell_type": "markdown",
                "id": "CvG3QGzTPkGv"
            },
            "source": [
                "## 🐣 Let's learn how to do this in a simple environment\n",
                "\n",
                "\n",
                "*   Task 1: Initialize Q table\n",
                "*   Task 2: Write necessary helper functions for Q-learning\n",
                "*   Task 3: Play with Hyperparameters\n",
                "*   Task 4: Train the agent using Q-learning\n",
                "\n",
                "**Note**: Task 2, Task 3 and Task 4: you will use the same code you implemented for these in the Assignment 2."
            ]
        },
        {
            "cell_type": "code",
            "execution_count": 130,
            "metadata": {
                "cell_id": "b21222f4823741c9b54e9a8fb5a10457",
                "deepnote_cell_type": "code",
                "execution_context_id": "25918dda-8400-4096-8584-354a0a1a97e1",
                "execution_millis": 309,
                "execution_start": 1761731961443,
                "id": "gdWAfr8fPkGv",
                "source_hash": "2b1cd628"
            },
            "outputs": [
                {
                    "name": "stdout",
                    "output_type": "stream",
                    "text": [
                        "Environment successfully created\n"
                    ]
                }
            ],
            "source": [
                "# Environment is set up for you here\n",
                "env_config = {\n",
                "    'env_image_path':'input_images/image_simple_1.png',\n",
                "    'dead_allowed':False,\n",
                "    'remove_after_location_found':False,\n",
                "    'start_random':False,\n",
                "    'number_removable_locations':0,\n",
                "}\n",
                "\n",
                "if not os.path.exists(env_config['env_image_path']):\n",
                "  # make sure you have the folder and the image\n",
                "  print(f\"Error: The image path {env_config['env_image_path']} does not exist.\")\n",
                "else:\n",
                "  # if everything fine, we create the environment\n",
                "  tmp_env = TrondheimEnv(conf=env_config)\n",
                "  print(f\"Environment successfully created\")"
            ]
        },
        {
            "cell_type": "markdown",
            "metadata": {
                "cell_id": "d521f145b28a4f96a0739827fc85c921",
                "deepnote_cell_type": "markdown",
                "id": "0PT6w7C-PkGw"
            },
            "source": [
                "### Task 1: Initialize Q table"
            ]
        },
        {
            "cell_type": "code",
            "execution_count": 131,
            "metadata": {
                "cell_id": "7a5b6f631ca04584bfd3c5bfbadfe97e",
                "deepnote_cell_type": "code",
                "execution_context_id": "25918dda-8400-4096-8584-354a0a1a97e1",
                "execution_millis": 0,
                "execution_start": 1761733044803,
                "id": "guc-6hxaPkGw",
                "source_hash": "5bed9389"
            },
            "outputs": [
                {
                    "name": "stdout",
                    "output_type": "stream",
                    "text": [
                        "Observation space dimensions:  (12, 12)\n",
                        "Number of possible actions: 4\n",
                        "(144, 4)\n"
                    ]
                }
            ],
            "source": [
                "# Task 1: Initialize Q table\n",
                "\"\"\"\n",
                "TODO: given the environment, initialize the Q table\n",
                "\"\"\"\n",
                "\n",
                "# Tip: pay attention to the dimensions of Q table\n",
                "# Tip: how many states does the table have, how many actions\n",
                "\n",
                "print(f\"Observation space dimensions:  {tmp_env.observation_space.shape}\")\n",
                "print(f\"Number of possible actions: {tmp_env.action_space.n}\")\n",
                "\n",
                "# YOUR CODE GOES HERE\n",
                "states = np.prod(tmp_env.observation_space.shape)\n",
                "actions = tmp_env.action_space.n\n",
                "Q_test = np.zeros((states, actions)) # you need to initialize this variable\n",
                "Q_test += np.random.randn(states, actions) * 1e-4\n",
                "print(Q_test.shape)"
            ]
        },
        {
            "cell_type": "code",
            "execution_count": 132,
            "metadata": {
                "cell_id": "40ce60c97583498d84ec9ebb001da39a",
                "deepnote_cell_type": "code",
                "execution_context_id": "25918dda-8400-4096-8584-354a0a1a97e1",
                "execution_millis": 0,
                "execution_start": 1761733122453,
                "id": "Tg715k80PkGw",
                "source_hash": "f354733"
            },
            "outputs": [
                {
                    "name": "stdout",
                    "output_type": "stream",
                    "text": [
                        "Q table has this shape: (144, 4)\n",
                        "\n",
                        "[[-1.46927995e-04  1.31812226e-04  1.22601664e-04 -1.34068978e-05]\n",
                        " [ 1.74650095e-05 -8.13056902e-05  3.28570198e-05  8.43996007e-05]\n",
                        " [ 5.22902414e-05 -9.71190103e-05  3.04494308e-05  1.58820997e-04]\n",
                        " [-4.21253394e-06 -1.44375635e-05  4.93152379e-05 -1.67637205e-05]\n",
                        " [-1.10027752e-04 -3.73896125e-05  2.32066272e-05  3.64868549e-06]\n",
                        " [ 7.68792418e-05 -9.50421527e-05 -7.60319348e-05  1.20239672e-04]\n",
                        " [ 1.04562751e-04  6.04116172e-05 -1.44634645e-04 -1.39144360e-05]\n",
                        " [ 3.24023583e-05 -1.61248804e-04 -2.91787502e-05 -1.87346976e-05]\n",
                        " [-1.01904828e-04  5.44273566e-05 -1.24345760e-04  9.18196741e-05]\n",
                        " [-5.41284991e-06  5.50485044e-05 -1.15563244e-04 -1.76223234e-04]]\n",
                        "\n",
                        "\n"
                    ]
                }
            ],
            "source": [
                "# take a look into initial Q table (randomized one)\n",
                "print(f\"Q table has this shape: {Q_test.shape}\\n\")\n",
                "\n",
                "# you may want to print Q table, or parts of it, to get the vibe\n",
                "print(Q_test[:10])\n",
                "print(f\"\\n\")\n",
                "#print(Q_test[135:])"
            ]
        },
        {
            "cell_type": "markdown",
            "metadata": {
                "cell_id": "11ecc23dd74e486bbec3537ccf42a876",
                "deepnote_cell_type": "markdown",
                "id": "zXiBz_haPkGw"
            },
            "source": [
                "### Task 2: Write necessary helper functions for Q-learning"
            ]
        },
        {
            "cell_type": "code",
            "execution_count": 133,
            "metadata": {
                "cell_id": "2c0412eed5e34e1782e46b2845b13666",
                "deepnote_cell_type": "code",
                "deepnote_to_be_reexecuted": true,
                "id": "8ySxhzOxPkGw"
            },
            "outputs": [],
            "source": [
                "# Task 2: Write necessary helper functions for Q-learning\n",
                "\"\"\"\n",
                "TODO: write helper function to:\n",
                " update_explore_rate() - controls the balance between exploration and exploitation\n",
                " update_learning_rate() - controls how aggressively the agent updates its knowledge\n",
                "\n",
                " update_action() - uses the exploration rate to decide whether to take a\n",
                " random action (explore) or to act according to the learned Q-values (exploit)\n",
                "\"\"\"\n",
                "\n",
                "\n",
                "# Explore Rate Decay Function, Converges to MIN_EXPLORE_RATE\n",
                "def update_explore_rate(episode, MIN_EXPLORE_RATE):\n",
                "    # this function should return updated explore_rate\n",
                "    rate_decay = 0.95\n",
                "    initial_rate = 0.5 - MIN_EXPLORE_RATE\n",
                "    \n",
                "    return MIN_EXPLORE_RATE + initial_rate * (rate_decay ** episode)\n",
                "\n",
                "# Learning Rate Decay Function, Converges to MIN_LEARNING_RATE\n",
                "def update_learning_rate(episode, MIN_LEARNING_RATE):\n",
                "    # this function should return updated learning_rate\n",
                "    rate_decay = 0.95\n",
                "    initial_rate = 1 - MIN_LEARNING_RATE\n",
                "    \n",
                "    return MIN_LEARNING_RATE + initial_rate * (rate_decay ** episode)\n",
                "\n",
                "\n",
                "# returns an action based on current state, explore rate and Q table\n",
                "def update_action(env, state, explore_rate, Q):\n",
                "\n",
                "    # this function should return an action\n",
                "\t# YOUR CODE GOES HERE\n",
                "    q_values = Q[state]\n",
                "\n",
                "    if np.random.random() < explore_rate:\n",
                "        action = np.random.randint(0, env.action_space.n)\n",
                "    else:\n",
                "        action = np.argmax(q_values)\n",
                "\n",
                "    return action\n",
                "\n",
                "\n",
                "    \n"
            ]
        },
        {
            "cell_type": "markdown",
            "metadata": {
                "cell_id": "cf9b12e622ed4d28b5808d6a71daf021",
                "deepnote_cell_type": "markdown",
                "id": "nx48WICzPkGw"
            },
            "source": [
                "### Task 3: Play with Hyperparameters"
            ]
        },
        {
            "cell_type": "code",
            "execution_count": 134,
            "metadata": {
                "cell_id": "3912c9a00e10477f8962635396e2c1ea",
                "deepnote_cell_type": "code",
                "deepnote_to_be_reexecuted": true,
                "id": "77QFrN9OPkGw"
            },
            "outputs": [],
            "source": [
                "# Task 3: Play with Hyperparameters\n",
                "\n",
                "# YOUR CODE GOES HERE: replace None with your values\n",
                "GAMMA_test = 0.5\n",
                "NUM_EPISODES_test = 100\n",
                "MIN_EXPLORE_RATE_test = 0.2\n",
                "MIN_LEARNING_RATE_test = 0.2\n",
                "STEP_SIZE_TEST = 100"
            ]
        },
        {
            "cell_type": "markdown",
            "metadata": {
                "cell_id": "798ba2df06b0484a979daa25d3e0d2bc",
                "deepnote_cell_type": "markdown",
                "id": "T2szdmzyT27h"
            },
            "source": [
                "## 🐤 Now use Q learning to learn the Q table\n",
                "### Task 4: Train the agent using Q-learning"
            ]
        },
        {
            "cell_type": "markdown",
            "metadata": {
                "cell_id": "e71147f9e5f74289a5ee124535a3f7f0",
                "deepnote_cell_type": "markdown",
                "id": "rJQRmWF3rFnb"
            },
            "source": [
                "The Q-value update equation, derived from Bellman equation is as follows:\n"
            ]
        },
        {
            "cell_type": "markdown",
            "metadata": {
                "cell_id": "acd5fdadcd1e48d7bf0c95e7a0d95ff8",
                "deepnote_cell_type": "markdown",
                "id": "rrjUtRs4PwDQ"
            },
            "source": [
                "$$\n",
                "Q(s, a) \\gets Q(s, a) + \\alpha*\\Big[ R(s, a) + \\gamma* \\max_{a'} Q(s', a') - Q(s, a) \\Big]\n",
                "$$"
            ]
        },
        {
            "cell_type": "markdown",
            "metadata": {
                "cell_id": "d7cc138f84154459830b83f31efcbdfa",
                "deepnote_cell_type": "markdown",
                "id": "L9hrmRcSN2gQ"
            },
            "source": [
                "**Legend:**\n",
                "\n",
                "- **Q(s, a)**: Action-value function, estimating the expected return for taking action *a* in state *s*\n",
                "- **α**: learning rate\n",
                "- **R(s, a)**: reward received after taking action *a* in state *s*\n",
                "- **γ**: discount factor (importance of future rewards)\n",
                "- **s'**: Next state resulting from taking action *a* in state *s*  \n",
                "- **a'**: Possible actions in the next state *s'*\n",
                "- **max Q(s', a')**: Maximum estimated Q value of the next state over all possible actions *a'*\n"
            ]
        },
        {
            "cell_type": "code",
            "execution_count": 135,
            "metadata": {
                "cell_id": "31367d68fda04aa680ccd5e9fb3408cb",
                "deepnote_cell_type": "code",
                "deepnote_to_be_reexecuted": true,
                "id": "uKV3Mce-PkGx"
            },
            "outputs": [],
            "source": [
                "# Task 4: Train the agent using Q-learning\n",
                "# Suggestion: you can wrap the code to learn Q-table in a function,\n",
                "# which you can also use for Task 4 in Assignment 2\n",
                "\n",
                "# result of the training is:\n",
                "#   updated Q table (Q_test)\n",
                "#   total_reward\n",
                "#   you are free to add others, if you will\n",
                "\n",
                "def train(env: TrondheimEnv, GAMMA, NUM_EPISODES, MIN_EXPLORE_RATE, MIN_LEARNING_RATE, STEP_SIZE, Q):\n",
                "    env.manual_mode = False # disable printouts while training\n",
                "\n",
                "    # initialize some variables\n",
                "\n",
                "    # YOUR CODE GOES HERE\n",
                "\n",
                "    # Tip: iterate over number of episodes\n",
                "    for episode in range(NUM_EPISODES):\n",
                "        env.reset()\n",
                "        state = env.get_1d_state()\n",
                "\n",
                "        total_reward = 0\n",
                "        explore_rate = update_explore_rate(episode, MIN_EXPLORE_RATE)\n",
                "        learning_rate = update_learning_rate(episode, MIN_LEARNING_RATE)\n",
                "\n",
                "        # Tip: iterate over number of steps in each Episode\n",
                "        for _ in range(STEP_SIZE):\n",
                "            action = update_action(env, state, explore_rate, Q)\n",
                "            next_obs, reward, terminated, info = env.step(action)\n",
                "            next_state = env.get_1d_state()\n",
                "            best_next_action = np.argmax(Q[next_state])\n",
                "\n",
                "            Q[state, action] = Q[state, action] + learning_rate * (reward + GAMMA * Q[next_state, best_next_action] - Q[state, action])\n",
                "            # Tip: use helper functions defined above to navigate the environment\n",
                "            # Tip: use the Q-learning update rule equation - Bellman equation\n",
                "\n",
                "            state = next_state\n",
                "            total_reward += reward\n",
                "\n",
                "            if terminated:\n",
                "                print(\"terminted\")\n",
                "                break\n",
                "\n",
                "    return Q, total_reward, explore_rate\n",
                "            \n",
                "\n",
                "\n",
                "\n",
                "    # Tip : print variables of interest, like episode, total_reward, explore_rate\n",
                "    # print(f\"Episode :{i}  Total_reward: {total_reward}  Explore rate: {explore_rate}\")\n",
                "    #print(\"Final Q values: \", Q_test)\n",
                "\n",
                "Q_test, total_reward, explore_rate = train(tmp_env, GAMMA_test, NUM_EPISODES_test, MIN_EXPLORE_RATE_test, MIN_LEARNING_RATE_test, STEP_SIZE_TEST, Q_test)"
            ]
        },
        {
            "cell_type": "code",
            "execution_count": 136,
            "metadata": {
                "cell_id": "c8a6cf6bd52e479c863bd589512e1750",
                "deepnote_cell_type": "code",
                "deepnote_to_be_reexecuted": true,
                "id": "YVOVYADQPkGx"
            },
            "outputs": [
                {
                    "name": "stdout",
                    "output_type": "stream",
                    "text": [
                        "Total reward after training: 9000, total Explore rate after training: 0.20186964080642128\n",
                        "[[-1.46927995e-04  1.31812226e-04  1.22601664e-04 -1.34068978e-05]\n",
                        " [ 1.74650095e-05 -8.13056902e-05  3.28570198e-05  4.43346077e-05]\n",
                        " [-9.60768184e-01 -9.71190103e-05  1.86591002e-05  1.30125967e-05]\n",
                        " [-5.34494006e-01  1.37351415e-05  1.07667691e-05 -1.67637205e-05]\n",
                        " [-1.10027752e-04 -3.73896125e-05  3.65737235e-05  3.64868549e-06]\n",
                        " [-8.18979354e-01 -9.50421527e-05  9.33648668e-06  6.07947602e-06]\n",
                        " [-8.18963007e-01  5.35031019e-06  9.42240364e-06 -1.39144360e-05]\n",
                        " [-9.51259802e-01 -4.90938313e-05  8.48177686e-06 -1.87346976e-05]\n",
                        " [-1.01904828e-04  5.32999623e-06 -1.24345760e-04  6.38151633e-06]\n",
                        " [-8.19017802e-01  4.46823892e-06  5.64993092e-06 -1.76223234e-04]\n",
                        " [ 3.01422084e-05  5.63379421e-05  8.84672444e-06 -2.97448970e-05]\n",
                        " [-5.22379411e-05  1.03060327e-04 -1.06897770e-05 -1.11670660e-04]\n",
                        " [ 5.17230820e-05  1.71314733e-04 -5.40507040e-05 -1.28735169e-04]\n",
                        " [ 6.59146000e-05 -1.36566352e-04  5.87498615e-05  4.33213143e-05]\n",
                        " [ 1.23908820e-05  4.16501564e-05  1.83471356e-05 -1.64489525e-04]\n",
                        " [ 1.27647454e-05 -3.07573740e-05  1.77715442e-06  1.58128204e-06]\n",
                        " [ 1.46816318e-05  1.46625315e-05  1.78551467e-05 -9.89654315e-06]\n",
                        " [ 8.14236462e-06  2.90516462e-05 -4.52665776e-05 -5.39190591e-05]\n",
                        " [ 1.18539597e-05  1.32652653e-05  1.86114898e-05  1.35055840e-05]\n",
                        " [ 8.29239503e-06  1.13642350e-05  1.70771195e-05  8.63636203e-06]\n",
                        " [ 1.00387896e-05  1.03463710e-05 -2.24339845e-05  8.48655809e-06]\n",
                        " [ 4.04919966e-06  7.22796971e-06  6.20721420e-06  6.38491388e-06]\n",
                        " [ 3.93649818e-06  6.57243521e-06  5.15413929e-06 -9.10346842e-05]\n",
                        " [ 5.46539419e-05 -3.36489373e-05  2.24648114e-04 -1.32859391e-04]\n",
                        " [-1.75872443e-04 -8.63266401e-06  6.34079861e-05  2.93597314e-04]\n",
                        " [-1.01895016e-04 -4.22618858e-04  1.26584899e-05  1.80358790e-05]\n",
                        " [ 2.04761008e-05  1.90250515e-05  1.33973812e-05  1.81219978e-05]\n",
                        " [-9.65977527e-07  1.60334478e-05 -1.23689161e-04  1.35256375e-05]\n",
                        " [ 1.95657014e-05  2.40277794e-05 -2.19062799e-04 -3.55371298e-05]\n",
                        " [-9.15906275e-06  1.33607708e-05 -2.96268268e-05  2.42278246e+01]\n",
                        " [ 2.20318344e-05  5.55373421e+00  8.99959006e+01  1.41594289e-05]\n",
                        " [-4.64417382e-05  2.85885130e+01 -1.09483284e-05 -1.20454306e-05]\n",
                        " [ 8.71931345e-07  1.43365218e-05  1.06209706e-05  7.06558714e-06]\n",
                        " [ 6.85658766e-06  7.30495739e-06 -7.45700401e-07 -8.45001091e-06]\n",
                        " [ 5.50058319e-06  5.25594395e-06  3.85403045e-06  3.67013558e-06]\n",
                        " [-5.39013493e-05  6.20831802e-06 -2.50854024e-06 -8.81916936e-01]\n",
                        " [-1.62431964e-04 -7.30342695e-05 -2.19774956e-05 -5.76898726e-05]\n",
                        " [-6.48990510e-05  7.35880488e-07  8.27467338e-06 -4.45814320e-05]\n",
                        " [ 1.64336862e-05  1.37316892e-05 -3.14885001e-05 -6.52903808e-05]\n",
                        " [ 2.20637781e-05  7.56481707e-06  1.91472499e-05 -1.32934496e-04]\n",
                        " [ 2.44438825e-05  2.24112644e-05  2.60647547e-05 -3.28917229e-06]\n",
                        " [ 9.20831795e+00  1.04641691e-05  8.86374389e-06  3.94266548e-06]\n",
                        " [ 2.23230132e+01  1.96149166e+00  1.99993518e+02  2.28642146e+01]\n",
                        " [ 4.24547997e+00  9.90911533e+01 -8.76618194e-06  4.07508885e+00]\n",
                        " [ 7.86888101e-06 -2.97891239e-05  3.58262015e+01  1.15289678e-05]\n",
                        " [ 1.18376808e-05  7.16535941e-06  1.19986885e-05  7.36900258e-06]\n",
                        " [ 5.22806094e-06  7.26230938e-06  7.34793587e-06  5.55831523e-06]\n",
                        " [-3.96746415e-05 -9.70618167e-05  5.60485135e-06 -9.21914819e-01]\n",
                        " [-1.73458412e-04 -6.78955088e-01 -1.76385170e-04  8.19800865e-06]\n",
                        " [ 3.29606177e-06 -3.47152518e-06 -4.07224675e-05  1.50722257e-05]\n",
                        " [ 1.66385663e-05  8.72045129e-06  1.50040265e-05  2.43076756e-05]\n",
                        " [ 1.15299154e-05 -1.47789404e-05  1.55548624e-05  8.91262361e-07]\n",
                        " [ 1.77758386e-05 -4.66685359e-05 -1.79565138e-05 -4.07478724e-06]\n",
                        " [ 7.26165467e-06  1.18977251e-05  8.05227430e+01  1.99848384e+02]\n",
                        " [ 9.94073239e+01  9.75859781e+01  4.00000000e+02  9.92979122e+01]\n",
                        " [ 4.77665516e+01  1.99556326e+02  2.00000000e+02  4.63564085e+01]\n",
                        " [ 3.53168721e+00  9.99409411e+01  3.81950528e+01  2.31688815e+00]\n",
                        " [ 8.64457744e-06  3.25266688e+01 -1.97223090e-05  1.38740042e-06]\n",
                        " [ 5.72560761e-06  1.16466714e-05  9.00857628e-06  7.82363463e-06]\n",
                        " [ 4.97387091e-06  9.77810286e-06  4.44856718e-06 -9.88410850e-01]\n",
                        " [ 1.92245670e-05 -8.80987657e-01  2.39165817e-05 -7.82420273e-05]\n",
                        " [-3.29805902e-05  2.81464809e-05 -1.47773287e-04  2.73479615e-05]\n",
                        " [ 1.80825495e-05  2.55886723e-05  1.86039400e-05  2.06396543e-05]\n",
                        " [ 1.68452286e-05 -1.47087552e-05  1.52433818e+00 -6.87591905e-05]\n",
                        " [-6.60969633e-05  1.90203625e-05 -1.26709833e-04  1.86147461e+02]\n",
                        " [ 8.85175256e+01  6.51723728e+01  9.84789246e+01  4.00000000e+02]\n",
                        " [ 2.00000000e+02  2.00000000e+02  2.00000000e+02  2.00000000e+02]\n",
                        " [ 1.00000000e+02  4.00000000e+02  1.00000000e+02  1.00000000e+02]\n",
                        " [ 4.34443858e+01  2.00000000e+02  9.30708595e+00  3.82395219e+01]\n",
                        " [ 2.90143177e+00  9.23046428e+01  1.28091899e+00 -1.05118905e-04]\n",
                        " [-3.90084835e-06 -1.55459721e-05 -2.44739022e-04  3.72226396e-06]\n",
                        " [ 6.68232521e-06  2.32338436e-06  3.37136561e-06 -9.98396083e-01]\n",
                        " [ 2.05502446e-05 -8.80972790e-01 -1.70207892e-05 -2.38783718e-05]\n",
                        " [-1.00469935e-04 -5.81268841e-06  1.00820987e-05 -9.63138054e-06]\n",
                        " [ 2.83697745e-05  5.36801432e-06 -1.18655545e-05 -9.37304230e-07]\n",
                        " [ 1.48222505e-05  3.15390379e-05 -1.14310079e-04  1.53445927e+01]\n",
                        " [ 3.67038939e+01  3.94646342e-05  8.26721753e-05  6.81986953e+01]\n",
                        " [ 8.15483842e+01  1.06731301e+01  2.56000861e+01  1.99998860e+02]\n",
                        " [ 4.00000000e+02  9.95316062e+01  7.93237814e+01  9.99997979e+01]\n",
                        " [ 2.00000000e+02  1.99279030e+02  4.99909140e+01  1.18993253e+01]\n",
                        " [-9.03208479e-05  2.06443286e+01  2.48696084e+01  3.74412044e+00]\n",
                        " [ 3.62358163e-06  3.61975593e-06  1.11624476e+01  2.58182242e-06]\n",
                        " [ 2.25330158e-06 -7.92816480e-05  7.95249558e-01  2.66697009e-06]\n",
                        " [ 4.84636182e-06  2.08685937e-06  4.91203572e-06 -9.99314711e-01]\n",
                        " [-1.72883868e-04 -7.04168795e-01 -1.66986896e-04  1.11116986e-05]\n",
                        " [ 6.63947534e-06 -3.68409380e-05  1.45368044e-05  7.21316360e-06]\n",
                        " [-6.48241394e-05  1.00083110e-05 -7.64446208e-05  7.73913855e-06]\n",
                        " [ 4.42954288e-01  8.74601719e-06 -5.60612800e-05 -4.52619680e-05]\n",
                        " [-2.74481620e-05  1.66778890e-06  1.96350881e-05  1.35358341e-05]\n",
                        " [ 9.01776248e+01  1.09278931e-05 -1.30507254e-04  7.44101356e+00]\n",
                        " [ 1.93887219e+02  2.23853587e+01  1.57431456e-05  4.99975791e+01]\n",
                        " [ 1.00000000e+02  3.81809943e+01  2.49367414e+01  2.48022093e+01]\n",
                        " [-3.42827122e-06  4.99999990e+01  4.98004386e-06  2.60040936e+00]\n",
                        " [ 1.14121340e+00  2.48871615e+01  3.52903060e+00  9.28392790e-01]\n",
                        " [ 3.12486262e-06  8.44319778e+00  4.30245561e-06  4.91769854e-06]\n",
                        " [ 2.82218152e-06  4.48862225e-06  3.24523456e-06 -9.99069748e-01]\n",
                        " [ 1.54215117e-05 -9.12497461e-01 -4.47794458e-05  1.48864897e-05]\n",
                        " [ 1.59901864e-05  1.72798202e-05  1.74521768e-05  1.70478641e-05]\n",
                        " [ 1.13550563e-05  2.08661203e-05  2.11970222e-05  1.92959109e-05]\n",
                        " [-4.46159580e-05  1.89875972e-05  1.74828960e-05 -1.15370169e-05]\n",
                        " [-6.20432900e-05  6.18543512e-06  2.96819853e-05 -1.24483483e-04]\n",
                        " [ 1.02863323e-05  1.38823169e-05 -3.83302451e-05 -7.43566373e-05]\n",
                        " [ 4.87662620e+01  2.09673690e-05  3.09695398e-01 -1.99282242e-04]\n",
                        " [ 5.00000000e+01  8.49409091e+00  1.00584891e+01  7.28130145e+00]\n",
                        " [ 2.21383647e+01  7.81320602e-06  6.42850933e-06 -4.72123159e-05]\n",
                        " [ 1.13031581e+01  5.12170273e-06  1.62758900e-01  5.95458664e-06]\n",
                        " [ 4.00859149e-06  2.83564419e+00  4.93740604e-06  8.03930704e-02]\n",
                        " [-4.22831778e-06  5.80831403e-01  4.83617596e-06 -7.88073377e-01]\n",
                        " [ 1.64870412e-05  1.85114871e-05 -5.23611142e-05  7.38859625e-06]\n",
                        " [ 1.94642461e-05  1.98806131e-05  1.96571107e-05  2.23984746e-05]\n",
                        " [ 2.00289279e-05  1.94321242e-05  2.09689570e-05  2.16012054e-05]\n",
                        " [ 1.61741669e-05  1.68763458e-05 -3.14744600e-05 -4.83133017e-05]\n",
                        " [ 3.45797495e-05 -1.62012791e-04  3.24379673e-05  2.46538567e-05]\n",
                        " [-1.15519355e-06 -8.31823561e-05 -4.36833890e-05 -1.07089249e-04]\n",
                        " [ 1.64362389e-06 -1.05310226e-04  2.81343098e+00 -8.61169748e-05]\n",
                        " [ 2.50000000e+01  9.70837644e-01  6.08074978e+00  3.97281887e+00]\n",
                        " [ 6.15084279e-06  1.21643896e+01  3.08547461e+00  1.26433470e+00]\n",
                        " [ 2.93790250e+00  5.45892313e+00  5.46148263e-06  2.48755589e-01]\n",
                        " [ 4.48708751e-06  1.75615947e+00  5.22761830e-06  5.15240027e-06]\n",
                        " [ 4.18872618e-06  3.29566609e-02  4.45092207e-06 -9.99755146e-01]\n",
                        " [-4.21216124e-05 -1.25140526e-04 -1.14187584e-05  1.49630548e-05]\n",
                        " [ 3.29205367e-05  2.18181155e-05 -1.06563106e-04  2.65722685e-05]\n",
                        " [-3.33703012e-05  1.32861343e-05  1.36859121e-05  1.43917286e-05]\n",
                        " [ 1.70994250e-05  1.89206803e-05 -1.50330062e-05  1.75372582e-05]\n",
                        " [-4.11550696e-05  1.60864517e-05 -5.26854960e-05 -3.20519012e-05]\n",
                        " [-1.11808749e-04  5.35539330e-05 -6.10843914e-05 -5.49356463e-06]\n",
                        " [ 4.95770477e-01 -2.56734191e-05  1.19913883e-05  6.19617986e+00]\n",
                        " [ 1.25000000e+01  2.74864114e+00  2.81818255e+00  2.73669718e+00]\n",
                        " [ 1.55696711e+00  6.25000000e+00  1.15491013e+00  1.41698410e+00]\n",
                        " [ 1.47683343e+00  3.12500000e+00  3.56081232e-01  7.29894036e-01]\n",
                        " [ 2.49518536e-01  1.56250000e+00  3.32895295e-01  1.81748904e-01]\n",
                        " [ 3.35678192e-06  6.43444025e-01  3.40941843e-06 -9.99948335e-01]\n",
                        " [-3.85938644e-06  2.02860307e-05 -1.20671029e-05  2.01441217e-04]\n",
                        " [-7.60688954e-05 -5.90339173e-06 -2.97633152e-01  9.64183585e-06]\n",
                        " [ 7.79680736e-06 -3.95308417e-05 -6.10692313e-01 -6.17034189e-05]\n",
                        " [-2.08241290e-05  9.32115094e-06 -6.92713085e-05  6.45042248e-06]\n",
                        " [-1.16608331e-04  8.48260537e-06 -8.06759972e-05 -1.92467126e-05]\n",
                        " [ 5.13674205e-05 -4.15823661e-05 -2.13602506e-05  3.06515863e-05]\n",
                        " [ 6.71722014e-01  8.66969713e-05 -2.97541226e-01 -3.87170352e-05]\n",
                        " [ 6.23798545e+00 -3.21364446e-05 -6.10671502e-01  3.86667819e-01]\n",
                        " [ 7.61226291e-06  2.99680216e+00 -3.10667467e-01  5.06026366e-06]\n",
                        " [ 1.24491794e+00  3.51011092e-01 -9.89209164e-01  4.16299795e-06]\n",
                        " [ 7.50450062e-01  5.37309554e-06 -9.59954951e-01  3.18599660e-06]\n",
                        " [ 6.28150112e-02  3.45685283e-06 -1.05697228e-04 -9.21923507e-01]]\n"
                    ]
                }
            ],
            "source": [
                "print(f\"Total reward after training: {total_reward}, total Explore rate after training: {explore_rate}\")\n",
                "print(Q_test)"
            ]
        },
        {
            "cell_type": "markdown",
            "metadata": {
                "cell_id": "57108a976c514cb38c7ef31199decbe0",
                "deepnote_cell_type": "markdown",
                "id": "Gxlv9Qj-PkGx"
            },
            "source": [
                "## 🐥 Let's see this in action"
            ]
        },
        {
            "cell_type": "code",
            "execution_count": 137,
            "metadata": {
                "cell_id": "5a237d0e7ad3426cb0d92bae570f6280",
                "deepnote_cell_type": "code",
                "execution_context_id": "25918dda-8400-4096-8584-354a0a1a97e1",
                "execution_millis": 8891,
                "execution_start": 1761735584113,
                "id": "IOfVD-2xPkGx",
                "source_hash": "98761834"
            },
            "outputs": [
                {
                    "data": {
                        "image/png": "[encoded data removed]",
                        "text/plain": [
                            "<Figure size 640x480 with 1 Axes>"
                        ]
                    },
                    "metadata": {},
                    "output_type": "display_data"
                },
                {
                    "name": "stdout",
                    "output_type": "stream",
                    "text": [
                        "Next step towards: \n",
                        "Green Land class area\n"
                    ]
                },
                {
                    "data": {
                        "image/png": "[encoded data removed]",
                        "text/plain": [
                            "<Figure size 640x480 with 1 Axes>"
                        ]
                    },
                    "metadata": {},
                    "output_type": "display_data"
                },
                {
                    "name": "stdout",
                    "output_type": "stream",
                    "text": [
                        "Next step towards: \n",
                        "Green Land class area\n"
                    ]
                },
                {
                    "data": {
                        "image/png": "[encoded data removed]",
                        "text/plain": [
                            "<Figure size 640x480 with 1 Axes>"
                        ]
                    },
                    "metadata": {},
                    "output_type": "display_data"
                },
                {
                    "name": "stdout",
                    "output_type": "stream",
                    "text": [
                        "Next step towards: \n",
                        "Green Land class area\n"
                    ]
                },
                {
                    "data": {
                        "image/png": "[encoded data removed]",
                        "text/plain": [
                            "<Figure size 640x480 with 1 Axes>"
                        ]
                    },
                    "metadata": {},
                    "output_type": "display_data"
                },
                {
                    "name": "stdout",
                    "output_type": "stream",
                    "text": [
                        "Next step towards: \n",
                        "Green Land class area\n"
                    ]
                },
                {
                    "data": {
                        "image/png": "[encoded data removed]",
                        "text/plain": [
                            "<Figure size 640x480 with 1 Axes>"
                        ]
                    },
                    "metadata": {},
                    "output_type": "display_data"
                },
                {
                    "name": "stdout",
                    "output_type": "stream",
                    "text": [
                        "Next step towards: \n",
                        "Green Land class area\n"
                    ]
                },
                {
                    "data": {
                        "image/png": "[encoded data removed]",
                        "text/plain": [
                            "<Figure size 640x480 with 1 Axes>"
                        ]
                    },
                    "metadata": {},
                    "output_type": "display_data"
                },
                {
                    "name": "stdout",
                    "output_type": "stream",
                    "text": [
                        "Next step towards: \n",
                        "Green Land class area\n"
                    ]
                },
                {
                    "data": {
                        "image/png": "[encoded data removed]",
                        "text/plain": [
                            "<Figure size 640x480 with 1 Axes>"
                        ]
                    },
                    "metadata": {},
                    "output_type": "display_data"
                },
                {
                    "name": "stdout",
                    "output_type": "stream",
                    "text": [
                        "Next step towards: \n",
                        "Green Land class area\n"
                    ]
                },
                {
                    "data": {
                        "image/png": "[encoded data removed]",
                        "text/plain": [
                            "<Figure size 640x480 with 1 Axes>"
                        ]
                    },
                    "metadata": {},
                    "output_type": "display_data"
                },
                {
                    "name": "stdout",
                    "output_type": "stream",
                    "text": [
                        "Next step towards: \n",
                        "Green Land class area\n"
                    ]
                },
                {
                    "data": {
                        "image/png": "[encoded data removed]",
                        "text/plain": [
                            "<Figure size 640x480 with 1 Axes>"
                        ]
                    },
                    "metadata": {},
                    "output_type": "display_data"
                },
                {
                    "name": "stdout",
                    "output_type": "stream",
                    "text": [
                        "Next step towards: \n",
                        "Green Land class area\n"
                    ]
                },
                {
                    "data": {
                        "image/png": "[encoded data removed]",
                        "text/plain": [
                            "<Figure size 640x480 with 1 Axes>"
                        ]
                    },
                    "metadata": {},
                    "output_type": "display_data"
                },
                {
                    "name": "stdout",
                    "output_type": "stream",
                    "text": [
                        "Next step towards: \n",
                        "Green Land class area\n"
                    ]
                },
                {
                    "data": {
                        "image/png": "[encoded data removed]",
                        "text/plain": [
                            "<Figure size 640x480 with 1 Axes>"
                        ]
                    },
                    "metadata": {},
                    "output_type": "display_data"
                },
                {
                    "name": "stdout",
                    "output_type": "stream",
                    "text": [
                        "Next step towards: \n",
                        "Green Land class area\n"
                    ]
                },
                {
                    "data": {
                        "image/png": "[encoded data removed]",
                        "text/plain": [
                            "<Figure size 640x480 with 1 Axes>"
                        ]
                    },
                    "metadata": {},
                    "output_type": "display_data"
                },
                {
                    "name": "stdout",
                    "output_type": "stream",
                    "text": [
                        "Next step towards: \n",
                        "Green Land class area\n"
                    ]
                },
                {
                    "data": {
                        "image/png": "[encoded data removed]",
                        "text/plain": [
                            "<Figure size 640x480 with 1 Axes>"
                        ]
                    },
                    "metadata": {},
                    "output_type": "display_data"
                },
                {
                    "name": "stdout",
                    "output_type": "stream",
                    "text": [
                        "Next step towards: \n",
                        "Central Source Secret Location\n"
                    ]
                },
                {
                    "data": {
                        "image/png": "[encoded data removed]",
                        "text/plain": [
                            "<Figure size 640x480 with 1 Axes>"
                        ]
                    },
                    "metadata": {},
                    "output_type": "display_data"
                },
                {
                    "name": "stdout",
                    "output_type": "stream",
                    "text": [
                        "Next step towards: \n",
                        "Green Land class area\n"
                    ]
                },
                {
                    "data": {
                        "image/png": "[encoded data removed]",
                        "text/plain": [
                            "<Figure size 640x480 with 1 Axes>"
                        ]
                    },
                    "metadata": {},
                    "output_type": "display_data"
                },
                {
                    "name": "stdout",
                    "output_type": "stream",
                    "text": [
                        "Next step towards: \n",
                        "Central Source Secret Location\n"
                    ]
                },
                {
                    "data": {
                        "image/png": "[encoded data removed]",
                        "text/plain": [
                            "<Figure size 640x480 with 1 Axes>"
                        ]
                    },
                    "metadata": {},
                    "output_type": "display_data"
                },
                {
                    "name": "stdout",
                    "output_type": "stream",
                    "text": [
                        "Next step towards: \n",
                        "Green Land class area\n",
                        "Total_reward:  600\n"
                    ]
                }
            ],
            "source": [
                "# now we show one episode\n",
                "# yellow spot should be able to find black spot here\n",
                "\n",
                "tmp_env.manual_mode = True # enable messages\n",
                "STEP_SIZE_TEST_test = 16\n",
                "\n",
                "observation = tmp_env.reset()\n",
                "state_0 = tmp_env.get_1d_state()\n",
                "total_reward = 0\n",
                "\n",
                "for _ in range(STEP_SIZE_TEST_test):\n",
                "    tmp_env.render()\n",
                "    action = update_action(tmp_env, state_0, explore_rate, Q=Q_test)\n",
                "    obv, reward, done, info = tmp_env.step(action)\n",
                "    state_1 = tmp_env.get_1d_state()\n",
                "\n",
                "    # No need to update the Q here\n",
                "    state_0 = state_1\n",
                "\n",
                "    total_reward += reward\n",
                "\n",
                "    if done:\n",
                "        print(\"Done\")\n",
                "        break\n",
                "\n",
                "print(f\"Total_reward: \", total_reward)"
            ]
        },
        {
            "cell_type": "code",
            "execution_count": 138,
            "metadata": {
                "cell_id": "ff6b6ba1e4974799aa7e5e5210c89879",
                "deepnote_cell_type": "code",
                "deepnote_to_be_reexecuted": true,
                "id": "LPtt6ZDoPkGx"
            },
            "outputs": [
                {
                    "name": "stdout",
                    "output_type": "stream",
                    "text": [
                        "(144, 4)\n",
                        "Obs space dimensions :(12, 12)\n"
                    ]
                }
            ],
            "source": [
                "# the shape of Q table (Q_test)\n",
                "print(Q_test.shape)\n",
                "print(f\"Obs space dimensions :{tmp_env.observation_space.shape}\")"
            ]
        },
        {
            "cell_type": "code",
            "execution_count": 139,
            "metadata": {
                "cell_id": "1e46e92b2a694a0e80c40ba8b2b2b7df",
                "deepnote_cell_type": "code",
                "deepnote_to_be_reexecuted": true,
                "id": "ou-VGkfDPkGx"
            },
            "outputs": [
                {
                    "data": {
                        "text/plain": [
                            "array([[1, 3, 2, 1, 2, 2, 2, 2, 3, 2, 1, 1],\n",
                            "       [1, 0, 1, 0, 2, 1, 2, 2, 1, 1, 1, 2],\n",
                            "       [3, 3, 0, 1, 1, 3, 2, 1, 1, 1, 0, 1],\n",
                            "       [2, 2, 0, 0, 2, 0, 2, 1, 2, 2, 2, 2],\n",
                            "       [3, 3, 3, 2, 0, 3, 2, 2, 1, 1, 1, 1],\n",
                            "       [2, 1, 1, 2, 3, 3, 3, 1, 1, 1, 3, 0],\n",
                            "       [0, 2, 0, 3, 3, 3, 0, 0, 2, 2, 2, 2],\n",
                            "       [3, 2, 1, 0, 2, 0, 0, 0, 1, 1, 1, 1],\n",
                            "       [0, 2, 2, 1, 2, 1, 0, 0, 0, 0, 1, 1],\n",
                            "       [1, 3, 3, 1, 0, 0, 2, 0, 1, 1, 1, 1],\n",
                            "       [3, 0, 3, 1, 1, 1, 3, 0, 1, 1, 1, 1],\n",
                            "       [3, 3, 0, 1, 1, 0, 0, 0, 1, 0, 0, 0]], dtype=int64)"
                        ]
                    },
                    "execution_count": 139,
                    "metadata": {},
                    "output_type": "execute_result"
                }
            ],
            "source": [
                "# print Q_table in \"observation space\" light\n",
                "Q_test.argmax(axis=1).reshape(tmp_env.observation_space.shape)"
            ]
        },
        {
            "cell_type": "code",
            "execution_count": 140,
            "metadata": {
                "cell_id": "b0947ee629fa4e82ab7f45cd66f6c38f",
                "deepnote_cell_type": "code",
                "deepnote_to_be_reexecuted": true,
                "id": "fbFTMZue12lQ"
            },
            "outputs": [
                {
                    "name": "stdout",
                    "output_type": "stream",
                    "text": [
                        "image has more than 3 channels, only first 3 channels are used there are (12, 12, 4) channels\n"
                    ]
                }
            ],
            "source": [
                "# close the environment\n",
                "tmp_env.close()"
            ]
        },
        {
            "cell_type": "markdown",
            "metadata": {
                "cell_id": "44c980fc3ad74b6d9376b287805b3887",
                "deepnote_cell_type": "markdown",
                "id": "ipz9XhhQ-ZVw"
            },
            "source": [
                "# 2️⃣ Assignment 2: Trondheim treasure hunt!\n"
            ]
        },
        {
            "cell_type": "markdown",
            "metadata": {
                "cell_id": "08b5196326854da5b9ff9d60f2a9c3a9",
                "deepnote_cell_type": "markdown",
                "id": "HKV9wMKXPkG2"
            },
            "source": [
                "# 🐔 You are ready for the Trondheim challenge now 💪\n",
                "\n",
                "*   Task 1: Initialize Q table\n",
                "*   Task 2: Write necessary helper functions for Q-learning\n",
                "*   Task 3: Play with Hyperparameters\n",
                "*   Task 4: Train the agent using Q-learning\n",
                "\n",
                "\n",
                "## **Important Note**:\n",
                "For Task 2, Task 3 and Task 4, you can (re)use the same code as in the Assignment 1.\n",
                "**These are mentioned here as the elements of the pipeline.**\n",
                "\n",
                "Most of the code from Assigment 1 is reusable, we are just using it with different environment here."
            ]
        },
        {
            "cell_type": "code",
            "execution_count": 141,
            "metadata": {
                "cell_id": "c9c347a7965d443382ece723f982d74e",
                "deepnote_cell_type": "code",
                "deepnote_to_be_reexecuted": true,
                "id": "AZ0DLZ-hPkG2"
            },
            "outputs": [
                {
                    "name": "stdout",
                    "output_type": "stream",
                    "text": [
                        "image has more than 3 channels, only first 3 channels are used there are (12, 12, 4) channels\n"
                    ]
                }
            ],
            "source": [
                "# First and important - cleanup!\n",
                "tmp_env.close()"
            ]
        },
        {
            "cell_type": "code",
            "execution_count": 142,
            "metadata": {
                "cell_id": "7c0e509fc6814f57bd02880fcf13a6b4",
                "deepnote_cell_type": "code",
                "deepnote_to_be_reexecuted": true,
                "id": "Qv_JAXXIPkG2"
            },
            "outputs": [
                {
                    "name": "stdout",
                    "output_type": "stream",
                    "text": [
                        "Environment successfully created\n"
                    ]
                }
            ],
            "source": [
                "# let's configure the environment and see how it looks like\n",
                "env_config = {\n",
                "    'env_image_path':'input_images/image_TRD_2.png',\n",
                "    'dead_allowed':False,\n",
                "    'remove_after_location_found':True,\n",
                "    'start_random':False,\n",
                "    'number_removable_locations':1,\n",
                "}\n",
                "\n",
                "if not os.path.exists(env_config['env_image_path']):\n",
                "  # make sure you have the folder and the image\n",
                "  print(f\"Error: The image path {env_config['env_image_path']} does not exist.\")\n",
                "else:\n",
                "  # if everything fine, we create the environment\n",
                "  tmp_env = TrondheimEnv(conf=env_config)\n",
                "  print(f\"Environment successfully created\")"
            ]
        },
        {
            "cell_type": "code",
            "execution_count": 143,
            "metadata": {
                "cell_id": "884dc5c0a3664855be25855120963b2a",
                "deepnote_cell_type": "code",
                "deepnote_to_be_reexecuted": true,
                "id": "pvsn6eroPkG2"
            },
            "outputs": [
                {
                    "data": {
                        "image/png": "[encoded data removed]",
                        "text/plain": [
                            "<Figure size 640x480 with 1 Axes>"
                        ]
                    },
                    "metadata": {},
                    "output_type": "display_data"
                },
                {
                    "data": {
                        "text/plain": [
                            "array([[[  0,   0, 255],\n",
                            "        [  0,   0, 255],\n",
                            "        [  0,   0, 255],\n",
                            "        ...,\n",
                            "        [  0,   0, 255],\n",
                            "        [  0,   0, 255],\n",
                            "        [  0,   0, 255]],\n",
                            "\n",
                            "       [[  0, 255,   0],\n",
                            "        [  0, 255,   0],\n",
                            "        [  0, 255,   0],\n",
                            "        ...,\n",
                            "        [  0,   0, 255],\n",
                            "        [  0,   0, 255],\n",
                            "        [  0, 255,   0]],\n",
                            "\n",
                            "       [[  0, 255,   0],\n",
                            "        [  0, 255,   0],\n",
                            "        [  0, 255,   0],\n",
                            "        ...,\n",
                            "        [  0,   0, 255],\n",
                            "        [  0, 255,   0],\n",
                            "        [  0, 255,   0]],\n",
                            "\n",
                            "       ...,\n",
                            "\n",
                            "       [[  0, 255,   0],\n",
                            "        [  0, 255,   0],\n",
                            "        [  0, 255,   0],\n",
                            "        ...,\n",
                            "        [  0, 255,   0],\n",
                            "        [  0, 255,   0],\n",
                            "        [  0, 255,   0]],\n",
                            "\n",
                            "       [[  0, 255,   0],\n",
                            "        [  0, 255,   0],\n",
                            "        [  0, 255,   0],\n",
                            "        ...,\n",
                            "        [  0, 255,   0],\n",
                            "        [  0, 255,   0],\n",
                            "        [  0, 255,   0]],\n",
                            "\n",
                            "       [[  0, 255,   0],\n",
                            "        [  0, 255,   0],\n",
                            "        [  0, 255,   0],\n",
                            "        ...,\n",
                            "        [  0, 255,   0],\n",
                            "        [  0, 255,   0],\n",
                            "        [  0, 255,   0]]], dtype=uint8)"
                        ]
                    },
                    "execution_count": 143,
                    "metadata": {},
                    "output_type": "execute_result"
                }
            ],
            "source": [
                "tmp_env.reset()\n",
                "tmp_env.render()"
            ]
        },
        {
            "cell_type": "code",
            "execution_count": 144,
            "metadata": {
                "cell_id": "68affe936e6c41268d09448efcaf9a58",
                "deepnote_cell_type": "code",
                "deepnote_to_be_reexecuted": true,
                "id": "LAC2FRZ5PkG2"
            },
            "outputs": [
                {
                    "name": "stdout",
                    "output_type": "stream",
                    "text": [
                        "Next step towards: \n",
                        "Green Land class area\n",
                        "0\n"
                    ]
                },
                {
                    "data": {
                        "image/png": "[encoded data removed]",
                        "text/plain": [
                            "<Figure size 640x480 with 1 Axes>"
                        ]
                    },
                    "metadata": {},
                    "output_type": "display_data"
                },
                {
                    "data": {
                        "text/plain": [
                            "array([[[  0,   0, 255],\n",
                            "        [  0,   0, 255],\n",
                            "        [  0,   0, 255],\n",
                            "        ...,\n",
                            "        [  0,   0, 255],\n",
                            "        [  0,   0, 255],\n",
                            "        [  0,   0, 255]],\n",
                            "\n",
                            "       [[  0, 255,   0],\n",
                            "        [  0, 255,   0],\n",
                            "        [  0, 255,   0],\n",
                            "        ...,\n",
                            "        [  0,   0, 255],\n",
                            "        [  0,   0, 255],\n",
                            "        [  0, 255,   0]],\n",
                            "\n",
                            "       [[  0, 255,   0],\n",
                            "        [  0, 255,   0],\n",
                            "        [  0, 255,   0],\n",
                            "        ...,\n",
                            "        [  0,   0, 255],\n",
                            "        [  0, 255,   0],\n",
                            "        [  0, 255,   0]],\n",
                            "\n",
                            "       ...,\n",
                            "\n",
                            "       [[  0, 255,   0],\n",
                            "        [  0, 255,   0],\n",
                            "        [  0, 255,   0],\n",
                            "        ...,\n",
                            "        [  0, 255,   0],\n",
                            "        [  0, 255,   0],\n",
                            "        [  0, 255,   0]],\n",
                            "\n",
                            "       [[  0, 255,   0],\n",
                            "        [  0, 255,   0],\n",
                            "        [  0, 255,   0],\n",
                            "        ...,\n",
                            "        [  0, 255,   0],\n",
                            "        [  0, 255,   0],\n",
                            "        [  0, 255,   0]],\n",
                            "\n",
                            "       [[  0, 255,   0],\n",
                            "        [  0, 255,   0],\n",
                            "        [  0, 255,   0],\n",
                            "        ...,\n",
                            "        [  0, 255,   0],\n",
                            "        [  0, 255,   0],\n",
                            "        [  0, 255,   0]]], dtype=uint8)"
                        ]
                    },
                    "execution_count": 144,
                    "metadata": {},
                    "output_type": "execute_result"
                }
            ],
            "source": [
                "# select the action here\n",
                "my_action = 'right'\n",
                "\n",
                "# here is your action\n",
                "obs, rew, term, info = tmp_env.step(action_dict[my_action])\n",
                "print(rew)\n",
                "tmp_env.render()"
            ]
        },
        {
            "cell_type": "markdown",
            "metadata": {
                "cell_id": "8f250d798e87486f978e9cee07011e9d",
                "deepnote_cell_type": "markdown",
                "id": "y1NDKIr1PkG3"
            },
            "source": [
                "### Task 1: Initialize Q table"
            ]
        },
        {
            "cell_type": "code",
            "execution_count": 145,
            "metadata": {
                "cell_id": "c281a6450daf482398e74f5aaede93f1",
                "deepnote_cell_type": "code",
                "deepnote_to_be_reexecuted": true,
                "id": "O94qG1KpPkG3"
            },
            "outputs": [
                {
                    "name": "stdout",
                    "output_type": "stream",
                    "text": [
                        "Observation space dimensions:  (32, 32)\n",
                        "Number of possible actions: 4\n"
                    ]
                }
            ],
            "source": [
                "# Task 1: Initialize Q table\n",
                "\"\"\"\n",
                "TODO: given the environment, initialize the Q table\n",
                "\"\"\"\n",
                "\n",
                "# Tip: pay attention to the dimensions of Q table\n",
                "# Tip: how many states the table have, how many actions\n",
                "# Extra tip:\n",
                "\"\"\"number of states is different here in comparison with first example:\n",
                "we have 2 subcases for this environment:\n",
                "when Location is there and when it is removed/destroyed\"\"\"\n",
                "\n",
                "print(f\"Observation space dimensions:  {tmp_env.observation_space.shape}\")\n",
                "print(f\"Number of possible actions: {tmp_env.action_space.n}\")\n",
                "\n",
                "# YOUR CODE GOES HERE\n",
                "\n",
                "\n",
                "Q_test = None # you need to initialize Q_test\n",
                "#print(Q_test.shape)"
            ]
        },
        {
            "cell_type": "markdown",
            "metadata": {
                "cell_id": "a491cae2c44043ca8a48a5d91da4b7e2",
                "deepnote_cell_type": "markdown",
                "id": "JB2XCe2ePkG3"
            },
            "source": [
                "### Task 2: Write necessary helper functions for Q-learning"
            ]
        },
        {
            "cell_type": "code",
            "execution_count": 146,
            "metadata": {
                "cell_id": "19599838807d4d25bcfe94c59f5f0abc",
                "deepnote_cell_type": "code",
                "deepnote_to_be_reexecuted": true,
                "id": "WEanCBRQPkG3"
            },
            "outputs": [],
            "source": [
                "# Task 2: Write necessary helper functions for Q-learning\n",
                "# Tip: just use the same helper functions you already implemented above\n",
                "\n",
                "# YOU DON'T NEED TO DO ANYTHING HERE. They are the same"
            ]
        },
        {
            "cell_type": "markdown",
            "metadata": {
                "cell_id": "419a9bba419d455195c2f9edfb818c28",
                "deepnote_cell_type": "markdown",
                "id": "Caf0nsoiPkG3"
            },
            "source": [
                "### Task 3: Play with Hyperparameters"
            ]
        },
        {
            "cell_type": "code",
            "execution_count": 147,
            "metadata": {
                "cell_id": "b9aeb8ce2dc0436db3133bd97128c0b3",
                "deepnote_cell_type": "code",
                "deepnote_to_be_reexecuted": true,
                "id": "h52WTqg9PkG3"
            },
            "outputs": [],
            "source": [
                "# Task 3: Play with Hyperparameters\n",
                "# Tip - you can also use the same parameters as for the toy example above\n",
                "# YOUR CODE GOES HERE (set the values below)\n",
                "\n",
                "GAMMA_test = None\n",
                "NUM_EPISODES_test = None\n",
                "MIN_EXPLORE_RATE_test = None\n",
                "MIN_LEARNING_RATE_test = None\n",
                "STEP_SIZE_TEST = None\n",
                "# Depending on your parameters for the toy environment, using the same parameters here could work fine\n",
                "# if they are not working, you may want to set them to different values here"
            ]
        },
        {
            "cell_type": "markdown",
            "metadata": {
                "cell_id": "b7e0873e8cbe4782b393736744008c05",
                "deepnote_cell_type": "markdown",
                "id": "qFNdPJDsPkG3"
            },
            "source": [
                "## Now use Q-learning to learn the Q table\n",
                "### Task 4: Train the agent using Q-learning"
            ]
        },
        {
            "cell_type": "code",
            "execution_count": 148,
            "metadata": {
                "cell_id": "6ca633bdf9764d949ddfe0a6e5b06b09",
                "deepnote_cell_type": "code",
                "deepnote_to_be_reexecuted": true,
                "id": "3S1v2HSXPkG3"
            },
            "outputs": [],
            "source": [
                "# Task 4: Train the agent using Q-learning on\n",
                "# Tip - you can use the same function (or code) that you implemented for simple environment (Assignment 1 Task 4)\n",
                "\n",
                "# the logic is the same, just the enviroment is different\n",
                "# YOUR CODE GOES HERE"
            ]
        },
        {
            "cell_type": "code",
            "execution_count": 149,
            "metadata": {
                "cell_id": "dc96fdcd00a24163aff6f86bbbcd4273",
                "deepnote_cell_type": "code",
                "deepnote_to_be_reexecuted": true,
                "id": "2S7gcosOPkG4"
            },
            "outputs": [
                {
                    "name": "stdout",
                    "output_type": "stream",
                    "text": [
                        "Total reward after training: 600, total Explore rate after training: 0.20186964080642128\n"
                    ]
                }
            ],
            "source": [
                "print(f\"Total reward after training: {total_reward}, total Explore rate after training: {explore_rate}\")"
            ]
        },
        {
            "cell_type": "markdown",
            "metadata": {
                "cell_id": "8447750a6b2a4289b86cdd1f4b3d2e43",
                "deepnote_cell_type": "markdown",
                "id": "hahegZZqPkG4"
            },
            "source": [
                "## Let's see one episode"
            ]
        },
        {
            "cell_type": "code",
            "execution_count": 150,
            "metadata": {
                "cell_id": "117f64efd38c45ba9f398fd259b140c5",
                "deepnote_cell_type": "code",
                "deepnote_to_be_reexecuted": true,
                "id": "U0DTHl47PkG4",
                "scrolled": false
            },
            "outputs": [
                {
                    "data": {
                        "image/png": "[encoded data removed]",
                        "text/plain": [
                            "<Figure size 640x480 with 1 Axes>"
                        ]
                    },
                    "metadata": {},
                    "output_type": "display_data"
                },
                {
                    "ename": "TypeError",
                    "evalue": "'NoneType' object is not subscriptable",
                    "output_type": "error",
                    "traceback": [
                        "\u001b[1;31m---------------------------------------------------------------------------\u001b[0m",
                        "\u001b[1;31mTypeError\u001b[0m                                 Traceback (most recent call last)",
                        "Cell \u001b[1;32mIn[150], line 16\u001b[0m\n\u001b[0;32m     13\u001b[0m img \u001b[38;5;241m=\u001b[39m tmp_env\u001b[38;5;241m.\u001b[39mrender()\n\u001b[0;32m     14\u001b[0m image_samples\u001b[38;5;241m.\u001b[39mappend(img)\n\u001b[1;32m---> 16\u001b[0m action \u001b[38;5;241m=\u001b[39m \u001b[43mupdate_action\u001b[49m\u001b[43m(\u001b[49m\u001b[43mtmp_env\u001b[49m\u001b[43m,\u001b[49m\u001b[43m \u001b[49m\u001b[43mstate_0\u001b[49m\u001b[43m,\u001b[49m\u001b[43m \u001b[49m\u001b[43mexplore_rate\u001b[49m\u001b[43m,\u001b[49m\u001b[43m \u001b[49m\u001b[43mQ\u001b[49m\u001b[38;5;241;43m=\u001b[39;49m\u001b[43mQ_test\u001b[49m\u001b[43m)\u001b[49m\n\u001b[0;32m     17\u001b[0m obv, reward, done, info \u001b[38;5;241m=\u001b[39m tmp_env\u001b[38;5;241m.\u001b[39mstep(action)\n\u001b[0;32m     18\u001b[0m state_1 \u001b[38;5;241m=\u001b[39m tmp_env\u001b[38;5;241m.\u001b[39mget_1d_state()\n",
                        "Cell \u001b[1;32mIn[133], line 34\u001b[0m, in \u001b[0;36mupdate_action\u001b[1;34m(env, state, explore_rate, Q)\u001b[0m\n\u001b[0;32m     30\u001b[0m \u001b[38;5;28;01mdef\u001b[39;00m \u001b[38;5;21mupdate_action\u001b[39m(env, state, explore_rate, Q):\n\u001b[0;32m     31\u001b[0m \n\u001b[0;32m     32\u001b[0m     \u001b[38;5;66;03m# this function should return an action\u001b[39;00m\n\u001b[0;32m     33\u001b[0m \t\u001b[38;5;66;03m# YOUR CODE GOES HERE\u001b[39;00m\n\u001b[1;32m---> 34\u001b[0m     q_values \u001b[38;5;241m=\u001b[39m \u001b[43mQ\u001b[49m\u001b[43m[\u001b[49m\u001b[43mstate\u001b[49m\u001b[43m]\u001b[49m\n\u001b[0;32m     36\u001b[0m     \u001b[38;5;28;01mif\u001b[39;00m np\u001b[38;5;241m.\u001b[39mrandom\u001b[38;5;241m.\u001b[39mrandom() \u001b[38;5;241m<\u001b[39m explore_rate:\n\u001b[0;32m     37\u001b[0m         action \u001b[38;5;241m=\u001b[39m np\u001b[38;5;241m.\u001b[39mrandom\u001b[38;5;241m.\u001b[39mrandint(\u001b[38;5;241m0\u001b[39m, env\u001b[38;5;241m.\u001b[39maction_space\u001b[38;5;241m.\u001b[39mn)\n",
                        "\u001b[1;31mTypeError\u001b[0m: 'NoneType' object is not subscriptable"
                    ]
                }
            ],
            "source": [
                "#now we can show one episode\n",
                "\n",
                "tmp_env.manual_mode = True # we want to see the messages\n",
                "STEP_SIZE_TEST_test = 45\n",
                "\n",
                "image_samples = []  # Array to store images\n",
                "\n",
                "observation = tmp_env.reset()\n",
                "state_0 = tmp_env.get_1d_state()\n",
                "total_reward = 0\n",
                "\n",
                "for _ in range(STEP_SIZE_TEST_test):\n",
                "    img = tmp_env.render()\n",
                "    image_samples.append(img)\n",
                "\n",
                "    action = update_action(tmp_env, state_0, explore_rate, Q=Q_test)\n",
                "    obv, reward, done, info = tmp_env.step(action)\n",
                "    state_1 = tmp_env.get_1d_state()\n",
                "    state_0 = state_1\n",
                "\n",
                "    total_reward += reward\n",
                "\n",
                "print(f\"Total_reward: \", total_reward)\n",
                "# self.observation.shape[0]"
            ]
        },
        {
            "cell_type": "markdown",
            "metadata": {
                "cell_id": "c497d52b223e415eb6464d102b593a74",
                "deepnote_cell_type": "markdown",
                "id": "fw1c9kfbiUiw"
            },
            "source": [
                "### Simple animation of agent movement in one episode"
            ]
        },
        {
            "cell_type": "code",
            "execution_count": null,
            "metadata": {
                "cell_id": "1fa236906f614475bd7dbf69395fe64b",
                "deepnote_cell_type": "code",
                "deepnote_to_be_reexecuted": true,
                "id": "xzKx98oDPkG4"
            },
            "outputs": [],
            "source": [
                "# let's make an animation of this, because it's fun\n",
                "# nothing for you to do here - just run the code\n",
                "\n",
                "import os\n",
                "import matplotlib.animation as animation\n",
                "\n",
                "height = img.shape[0]\n",
                "width = img.shape[1]\n",
                "\n",
                "output_folder = 'output_stuff'\n",
                "if not os.path.exists(output_folder):\n",
                "    os.makedirs(output_folder)\n",
                "\n",
                "\n",
                "fig = plt.figure()\n",
                "imgs = []\n",
                "for i in range(STEP_SIZE_TEST_test):\n",
                "    im = plt.imshow(image_samples[i].reshape(height, width, 3), animated=True)\n",
                "    imgs.append([im])\n",
                "\n",
                "animate = animation.ArtistAnimation(fig, imgs, interval=80, blit=True, repeat_delay=1000)\n",
                "filename_gif = os.path.join(output_folder, 'animation_test.gif')\n",
                "animate.save(filename_gif)\n",
                "plt.show()"
            ]
        },
        {
            "cell_type": "markdown",
            "metadata": {
                "created_in_deepnote_cell": true,
                "deepnote_cell_type": "markdown"
            },
            "source": [
                "<a style='text-decoration:none;line-height:16px;display:flex;color:#5B5B62;padding:10px;justify-content:end;' href='https://deepnote.com?utm_source=created-in-deepnote-cell&projectId=cd10384d-28df-431e-b0f2-62886eff090a' target=\"_blank\">\n",
                "<img alt='Created in deepnote.com' style='display:inline;max-height:16px;margin:0px;margin-right:7.5px;' src='data:image/svg+xml;base64,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' > </img>\n",
                "Created in <span style='font-weight:600;margin-left:4px;'>Deepnote</span></a>"
            ]
        }
    ],
    "metadata": {
        "deepnote_notebook_id": "3f3c926188764580822be3c87908636e",
        "kernelspec": {
            "display_name": "Python 3",
            "language": "python",
            "name": "python3"
        },
        "language_info": {
            "codemirror_mode": {
                "name": "ipython",
                "version": 3
            },
            "file_extension": ".py",
            "mimetype": "text/x-python",
            "name": "python",
            "nbconvert_exporter": "python",
            "pygments_lexer": "ipython3",
            "version": "3.11.5"
        }
    },
    "nbformat": 4,
    "nbformat_minor": 0
}
